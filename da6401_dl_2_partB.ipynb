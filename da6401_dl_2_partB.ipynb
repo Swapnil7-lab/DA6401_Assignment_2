{
  "metadata": {
    "colab": {
      "provenance": [],
      "include_colab_link": true
    },
    "kernelspec": {
      "name": "python3",
      "display_name": "Python 3",
      "language": "python"
    },
    "language_info": {
      "name": "python",
      "version": "3.7.12",
      "mimetype": "text/x-python",
      "codemirror_mode": {
        "name": "ipython",
        "version": 3
      },
      "pygments_lexer": "ipython3",
      "nbconvert_exporter": "python",
      "file_extension": ".py"
    },
    "accelerator": "GPU",
    "gpuClass": "standard"
  },
  "nbformat_minor": 0,
  "nbformat": 4,
  "cells": [
    {
      "cell_type": "markdown",
      "metadata": {
        "id": "view-in-github",
        "colab_type": "text"
      },
      "source": [
        "<a href=\"https://colab.research.google.com/github/Swapnil7-lab/DA6401_Assignment_2/blob/main/da6401_dl_2_partB.ipynb\" target=\"_parent\"><img src=\"https://colab.research.google.com/assets/colab-badge.svg\" alt=\"Open In Colab\"/></a>"
      ]
    },
    {
      "cell_type": "code",
      "source": [
        "import torch\n",
        "import torch.nn as nn\n",
        "print(torch.device('cuda:0'))\n",
        "print(torch.__version__)\n",
        "\n",
        "device = torch.device(\"cuda\" if torch.cuda.is_available() else \"cpu\")\n",
        "print(device)"
      ],
      "metadata": {
        "colab": {
          "base_uri": "https://localhost:8080/"
        },
        "id": "YDAtcOhRjWsr",
        "outputId": "67017fbc-f407-4ec2-d0b2-3ea6387b31e1",
        "execution": {
          "iopub.status.busy": "2023-04-11T16:54:39.830977Z",
          "iopub.execute_input": "2023-04-11T16:54:39.831526Z",
          "iopub.status.idle": "2023-04-11T16:54:44.414762Z",
          "shell.execute_reply.started": "2023-04-11T16:54:39.831493Z",
          "shell.execute_reply": "2023-04-11T16:54:44.413325Z"
        },
        "trusted": true
      },
      "execution_count": 1,
      "outputs": [
        {
          "output_type": "stream",
          "name": "stdout",
          "text": [
            "cuda:0\n",
            "2.6.0+cu124\n",
            "cuda\n"
          ]
        }
      ]
    },
    {
      "cell_type": "code",
      "source": [
        "!wget 'https://storage.googleapis.com/wandb_datasets/nature_12K.zip'\n",
        "!unzip -q nature_12K.zip"
      ],
      "metadata": {
        "id": "ZiYWXABajhqc",
        "execution": {
          "iopub.status.busy": "2023-04-11T16:54:44.420003Z",
          "iopub.execute_input": "2023-04-11T16:54:44.420606Z",
          "iopub.status.idle": "2023-04-11T16:55:32.004918Z",
          "shell.execute_reply.started": "2023-04-11T16:54:44.420565Z",
          "shell.execute_reply": "2023-04-11T16:55:32.003542Z"
        },
        "trusted": true,
        "colab": {
          "base_uri": "https://localhost:8080/"
        },
        "outputId": "78db2139-3ba0-4953-c326-a631186ab6ae"
      },
      "execution_count": 2,
      "outputs": [
        {
          "output_type": "stream",
          "name": "stdout",
          "text": [
            "--2025-04-13 05:16:19--  https://storage.googleapis.com/wandb_datasets/nature_12K.zip\n",
            "Resolving storage.googleapis.com (storage.googleapis.com)... 142.250.101.207, 142.251.2.207, 142.250.141.207, ...\n",
            "Connecting to storage.googleapis.com (storage.googleapis.com)|142.250.101.207|:443... connected.\n",
            "HTTP request sent, awaiting response... 200 OK\n",
            "Length: 3816687935 (3.6G) [application/zip]\n",
            "Saving to: ‘nature_12K.zip’\n",
            "\n",
            "nature_12K.zip      100%[===================>]   3.55G  47.2MB/s    in 37s     \n",
            "\n",
            "2025-04-13 05:16:57 (98.7 MB/s) - ‘nature_12K.zip’ saved [3816687935/3816687935]\n",
            "\n"
          ]
        }
      ]
    },
    {
      "cell_type": "code",
      "source": [
        "# imports\n",
        "import math\n",
        "import torch\n",
        "import torchvision\n",
        "import torch.nn.functional as F  # Parameterless functions, like (some) activation functions\n",
        "import torchvision.datasets as datasets  # Standard datasets\n",
        "import torchvision.transforms as transforms  # Transformations we can perform on our dataset for augmentation\n",
        "from torch import optim  # For optimizers like SGD, Adam, etc.\n",
        "from torch import nn  # All neural network modules\n",
        "from torch.utils.data import (\n",
        "    DataLoader, random_split\n",
        ")  # Gives easier dataset managment by creating mini batches etc.\n",
        "from tqdm import tqdm  # For nice progress bar!\n",
        "\n",
        "from torchvision.datasets import ImageFolder\n",
        "import os\n",
        "import random\n",
        "import matplotlib.pyplot as plt\n",
        "import numpy as np\n",
        "import pathlib\n",
        "torch.manual_seed(1)\n",
        "np.random.seed(1)\n",
        "device = torch.device(\"cuda\" if torch.cuda.is_available() else \"cpu\")\n",
        "\n",
        "\n",
        "# Dataset Augmentation\n",
        "def load_data(bs):\n",
        "    # define the transforms to be applied to the training data\n",
        "    transform = transforms.Compose(\n",
        "    [transforms.Resize(256),\n",
        "     transforms.CenterCrop(224),\n",
        "     transforms.ToTensor(),\n",
        "     transforms.Normalize((0.5, 0.5, 0.5), (0.5, 0.5, 0.5))])\n",
        "\n",
        "    home_path = \"/content/inaturalist_12K\"\n",
        "\n",
        "    train_path = os.path.join(home_path,'train')\n",
        "    test_path = os.path.join(home_path,'val')\n",
        "    # define the dataset and apply the transforms\n",
        "    train_dataset = ImageFolder(train_path, transform=transform)\n",
        "    test_dataset = ImageFolder(test_path, transform=transform)\n",
        "\n",
        "    # split training dataset into train and validation sets\n",
        "    train_size = int(0.8 * len(train_dataset))\n",
        "    print(train_size)\n",
        "    val_size = len(train_dataset) - train_size\n",
        "    print(val_size)\n",
        "\n",
        "    train_dataset, val_dataset = random_split(train_dataset, [train_size, val_size])\n",
        "\n",
        "    # create a data loader for the training data\n",
        "    train_loader = torch.utils.data.DataLoader(train_dataset,bs, shuffle=True)\n",
        "    val_loader = torch.utils.data.DataLoader(val_dataset, bs, shuffle=False)\n",
        "    test_loader = torch.utils.data.DataLoader(test_dataset, bs, shuffle=False)\n",
        "\n",
        "    #categories\n",
        "    root=pathlib.Path(train_path)\n",
        "\n",
        "    classes=sorted([j.name.split('/')[-1] for j in root.iterdir()])\n",
        "\n",
        "    return train_loader,val_loader,test_loader,classes\n",
        "\n",
        "\n",
        "\n"
      ],
      "metadata": {
        "id": "GOSC8adYNLGs",
        "execution": {
          "iopub.status.busy": "2023-04-11T16:55:32.007929Z",
          "iopub.execute_input": "2023-04-11T16:55:32.008350Z",
          "iopub.status.idle": "2023-04-11T16:55:32.669936Z",
          "shell.execute_reply.started": "2023-04-11T16:55:32.008305Z",
          "shell.execute_reply": "2023-04-11T16:55:32.668395Z"
        },
        "trusted": true
      },
      "execution_count": 3,
      "outputs": []
    },
    {
      "cell_type": "code",
      "source": [
        "train_loader,val_loader,test_loader,classes=load_data(4)\n"
      ],
      "metadata": {
        "id": "HVzB5fkTNc0M",
        "execution": {
          "iopub.status.busy": "2023-04-11T16:55:33.743637Z",
          "iopub.execute_input": "2023-04-11T16:55:33.745282Z",
          "iopub.status.idle": "2023-04-11T16:55:33.874750Z",
          "shell.execute_reply.started": "2023-04-11T16:55:33.745237Z",
          "shell.execute_reply": "2023-04-11T16:55:33.873854Z"
        },
        "trusted": true,
        "colab": {
          "base_uri": "https://localhost:8080/"
        },
        "outputId": "86d32e0b-a2f6-41a1-90a2-c712ed6c8781"
      },
      "execution_count": 4,
      "outputs": [
        {
          "output_type": "stream",
          "name": "stdout",
          "text": [
            "7999\n",
            "2000\n"
          ]
        }
      ]
    },
    {
      "cell_type": "code",
      "source": [
        "# Load the pre-trained ResNet-50 model\n",
        "PATH = './resnet50_finetuned.pth'\n",
        "\n",
        "model = torchvision.models.resnet50(pretrained=True)\n",
        "\n",
        "# Freeze all the layers except the last fully connected layer\n",
        "for param in model.parameters():\n",
        "    param.requires_grad = False\n",
        "\n",
        "# Modify the last fully connected layer to have 10 output nodes\n",
        "num_ftrs = model.fc.in_features\n",
        "model.fc = torch.nn.Linear(num_ftrs, 10)\n",
        "model.to(device=device)\n",
        "\n",
        "# Define the loss function and optimizer\n",
        "criterion = torch.nn.CrossEntropyLoss()\n",
        "optimizer = torch.optim.SGD(model.fc.parameters(), lr=0.001, momentum=0.9)\n",
        "\n",
        "# Train the modified model for a few epochs\n",
        "for epoch in range(5):  # loop over the dataset multiple times\n",
        "\n",
        "    running_loss = 0.0\n",
        "    for batch_idx, (data, targets) in enumerate(train_loader):\n",
        "        # Get data to cuda if possible\n",
        "        data = data.to(device=device)\n",
        "        targets = targets.to(device=device)\n",
        "\n",
        "        optimizer.zero_grad()\n",
        "        # forward\n",
        "        scores = model(data)\n",
        "        loss = criterion(scores, targets)\n",
        "\n",
        "        # backward\n",
        "\n",
        "        loss.backward()\n",
        "\n",
        "        # gradient descent or adam step\n",
        "        optimizer.step()\n",
        "\n",
        "        running_loss += loss.item()\n",
        "        if batch_idx % 2000 == 1999:    # print every 2000 mini-batches\n",
        "            print('[%d, %5d] loss: %.3f' %\n",
        "                  (epoch + 1, batch_idx + 1, running_loss / 2000))\n",
        "            running_loss = 0.0\n",
        "\n",
        "print('Finished Training')\n"
      ],
      "metadata": {
        "id": "z1wdQQgYjRu4",
        "execution": {
          "iopub.status.busy": "2023-04-11T17:01:38.423364Z",
          "iopub.execute_input": "2023-04-11T17:01:38.423770Z",
          "iopub.status.idle": "2023-04-11T17:17:07.598919Z",
          "shell.execute_reply.started": "2023-04-11T17:01:38.423727Z",
          "shell.execute_reply": "2023-04-11T17:17:07.597615Z"
        },
        "trusted": true,
        "colab": {
          "base_uri": "https://localhost:8080/"
        },
        "outputId": "b6fe2538-5348-461a-dc0c-7f71fad89135"
      },
      "execution_count": 5,
      "outputs": [
        {
          "output_type": "stream",
          "name": "stderr",
          "text": [
            "/usr/local/lib/python3.11/dist-packages/torchvision/models/_utils.py:208: UserWarning: The parameter 'pretrained' is deprecated since 0.13 and may be removed in the future, please use 'weights' instead.\n",
            "  warnings.warn(\n",
            "/usr/local/lib/python3.11/dist-packages/torchvision/models/_utils.py:223: UserWarning: Arguments other than a weight enum or `None` for 'weights' are deprecated since 0.13 and may be removed in the future. The current behavior is equivalent to passing `weights=ResNet50_Weights.IMAGENET1K_V1`. You can also use `weights=ResNet50_Weights.DEFAULT` to get the most up-to-date weights.\n",
            "  warnings.warn(msg)\n",
            "Downloading: \"https://download.pytorch.org/models/resnet50-0676ba61.pth\" to /root/.cache/torch/hub/checkpoints/resnet50-0676ba61.pth\n",
            "100%|██████████| 97.8M/97.8M [00:00<00:00, 170MB/s]\n"
          ]
        },
        {
          "output_type": "stream",
          "name": "stdout",
          "text": [
            "[1,  2000] loss: 1.382\n",
            "[2,  2000] loss: 1.218\n",
            "[3,  2000] loss: 1.176\n",
            "[4,  2000] loss: 1.146\n",
            "[5,  2000] loss: 1.157\n",
            "Finished Training\n"
          ]
        }
      ]
    },
    {
      "cell_type": "code",
      "source": [
        "torch.save(model.state_dict(),PATH)"
      ],
      "metadata": {
        "execution": {
          "iopub.status.busy": "2023-04-11T17:18:53.849332Z",
          "iopub.execute_input": "2023-04-11T17:18:53.850134Z",
          "iopub.status.idle": "2023-04-11T17:18:54.022851Z",
          "shell.execute_reply.started": "2023-04-11T17:18:53.850069Z",
          "shell.execute_reply": "2023-04-11T17:18:54.021432Z"
        },
        "trusted": true,
        "id": "6fp68jhikJmS"
      },
      "execution_count": 6,
      "outputs": []
    },
    {
      "cell_type": "code",
      "source": [
        "model.load_state_dict(torch.load(PATH))\n",
        "def calculate_accuracy(model, test_loader,criterion):\n",
        "    model.eval()\n",
        "    total = 0\n",
        "    correct = 0\n",
        "    cost=0\n",
        "    acc=0\n",
        "    with torch.no_grad():\n",
        "        for images, labels in test_loader:\n",
        "            images = images.to(device)\n",
        "            labels = labels.to(device)\n",
        "\n",
        "            outputs = model(images)\n",
        "            cost +=criterion(outputs,labels).item()\n",
        "            _, predicted = torch.max(outputs.data, 1)\n",
        "            total += labels.size(0)\n",
        "            correct += (predicted == labels).sum().item()\n",
        "            del images\n",
        "            del labels\n",
        "    acc=100 * correct / total\n",
        "    cost/=len(test_loader)\n",
        "\n",
        "    return cost,acc\n",
        "test_loss,test_acc=calculate_accuracy(model,test_loader,nn.CrossEntropyLoss())\n",
        "val_loss,val_acc=calculate_accuracy(model,val_loader,nn.CrossEntropyLoss())\n",
        "\n",
        "print(' Test Loss: {:.4f}, Test Acc: {:.2f},Val Loss: {:.4f}, Val Acc: {:.2f}%'\n",
        "          .format( test_loss, test_acc,val_loss,val_acc))\n",
        "\n"
      ],
      "metadata": {
        "id": "OYNeoo4GOvPU",
        "execution": {
          "iopub.status.busy": "2023-04-11T17:18:56.332806Z",
          "iopub.execute_input": "2023-04-11T17:18:56.333233Z",
          "iopub.status.idle": "2023-04-11T17:20:27.224088Z",
          "shell.execute_reply.started": "2023-04-11T17:18:56.333197Z",
          "shell.execute_reply": "2023-04-11T17:20:27.222916Z"
        },
        "trusted": true,
        "colab": {
          "base_uri": "https://localhost:8080/"
        },
        "outputId": "69f60bd4-3a9f-49ae-fd25-bb49486d7db0"
      },
      "execution_count": 7,
      "outputs": [
        {
          "output_type": "stream",
          "name": "stdout",
          "text": [
            " Test Loss: 0.7327, Test Acc: 78.15,Val Loss: 0.7419, Val Acc: 78.25%\n"
          ]
        }
      ]
    },
    {
      "cell_type": "code",
      "source": [],
      "metadata": {
        "id": "27W73aeWkJmT"
      },
      "execution_count": 7,
      "outputs": []
    }
  ]
}