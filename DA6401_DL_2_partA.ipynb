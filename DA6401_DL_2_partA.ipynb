{
  "cells": [
    {
      "cell_type": "markdown",
      "metadata": {
        "id": "view-in-github",
        "colab_type": "text"
      },
      "source": [
        "<a href=\"https://colab.research.google.com/github/Swapnil7-lab/DA6401_Assignment_2/blob/main/DA6401_DL_2_partA.ipynb\" target=\"_parent\"><img src=\"https://colab.research.google.com/assets/colab-badge.svg\" alt=\"Open In Colab\"/></a>"
      ]
    },
    {
      "cell_type": "code",
      "execution_count": 1,
      "id": "d1706649",
      "metadata": {
        "execution": {
          "iopub.execute_input": "2023-04-07T11:18:55.180502Z",
          "iopub.status.busy": "2023-04-07T11:18:55.179687Z",
          "iopub.status.idle": "2023-04-07T11:18:58.147235Z",
          "shell.execute_reply": "2023-04-07T11:18:58.146104Z"
        },
        "papermill": {
          "duration": 2.974913,
          "end_time": "2023-04-07T11:18:58.150711",
          "exception": false,
          "start_time": "2023-04-07T11:18:55.175798",
          "status": "completed"
        },
        "tags": [],
        "colab": {
          "base_uri": "https://localhost:8080/"
        },
        "id": "d1706649",
        "outputId": "fd9c29db-f279-4db2-ca3f-cf9469224dd0"
      },
      "outputs": [
        {
          "output_type": "stream",
          "name": "stdout",
          "text": [
            "cuda:0\n",
            "2.6.0+cu124\n",
            "cuda\n"
          ]
        }
      ],
      "source": [
        "import torch\n",
        "import torch.nn as nn\n",
        "print(torch.device('cuda:0'))\n",
        "print(torch.__version__)\n",
        "\n",
        "device = torch.device(\"cuda\" if torch.cuda.is_available() else \"cpu\")\n",
        "print(device)"
      ]
    },
    {
      "cell_type": "code",
      "execution_count": 2,
      "id": "bfc3bb19",
      "metadata": {
        "execution": {
          "iopub.execute_input": "2023-04-07T11:18:58.158540Z",
          "iopub.status.busy": "2023-04-07T11:18:58.158066Z",
          "iopub.status.idle": "2023-04-07T11:19:45.932331Z",
          "shell.execute_reply": "2023-04-07T11:19:45.930839Z"
        },
        "papermill": {
          "duration": 47.781297,
          "end_time": "2023-04-07T11:19:45.935224",
          "exception": false,
          "start_time": "2023-04-07T11:18:58.153927",
          "status": "completed"
        },
        "tags": [],
        "colab": {
          "base_uri": "https://localhost:8080/"
        },
        "id": "bfc3bb19",
        "outputId": "f6515cc8-3470-41ba-89ba-9ffbcc720db5"
      },
      "outputs": [
        {
          "output_type": "stream",
          "name": "stdout",
          "text": [
            "--2025-04-12 07:37:12--  https://storage.googleapis.com/wandb_datasets/nature_12K.zip\n",
            "Resolving storage.googleapis.com (storage.googleapis.com)... 74.125.137.207, 142.250.101.207, 142.251.2.207, ...\n",
            "Connecting to storage.googleapis.com (storage.googleapis.com)|74.125.137.207|:443... connected.\n",
            "HTTP request sent, awaiting response... 200 OK\n",
            "Length: 3816687935 (3.6G) [application/zip]\n",
            "Saving to: ‘nature_12K.zip’\n",
            "\n",
            "nature_12K.zip      100%[===================>]   3.55G   153MB/s    in 20s     \n",
            "\n",
            "2025-04-12 07:37:32 (186 MB/s) - ‘nature_12K.zip’ saved [3816687935/3816687935]\n",
            "\n"
          ]
        }
      ],
      "source": [
        "!wget 'https://storage.googleapis.com/wandb_datasets/nature_12K.zip'\n",
        "!unzip -q nature_12K.zip"
      ]
    },
    {
      "cell_type": "code",
      "execution_count": 3,
      "id": "edd29c7e",
      "metadata": {
        "execution": {
          "iopub.execute_input": "2023-04-07T11:19:47.710012Z",
          "iopub.status.busy": "2023-04-07T11:19:47.701577Z",
          "iopub.status.idle": "2023-04-07T11:19:48.137919Z",
          "shell.execute_reply": "2023-04-07T11:19:48.136900Z"
        },
        "papermill": {
          "duration": 0.501656,
          "end_time": "2023-04-07T11:19:48.140529",
          "exception": false,
          "start_time": "2023-04-07T11:19:47.638873",
          "status": "completed"
        },
        "tags": [],
        "id": "edd29c7e"
      },
      "outputs": [],
      "source": [
        "# Necessary imports for the project\n",
        "import math\n",
        "import torch\n",
        "import torchvision\n",
        "import torch.nn.functional as F  # Functions without parameters, like activation functions\n",
        "import torchvision.datasets as datasets  # Predefined datasets for experimentation\n",
        "import torchvision.transforms as transforms  # Useful transformations for data augmentation\n",
        "from torch import optim  # Optimizers like Adam, SGD, etc.\n",
        "from torch import nn  # Neural network modules and layers\n",
        "from torch.utils.data import DataLoader, random_split  # Dataset management tools\n",
        "from tqdm import tqdm  # Progress bar for tracking processes\n",
        "\n",
        "# Additional imports for dataset handling and visualization\n",
        "from torchvision.datasets import ImageFolder\n",
        "import os\n",
        "import random\n",
        "import matplotlib.pyplot as plt\n",
        "import numpy as np\n",
        "import pathlib\n",
        "\n",
        "\n",
        "torch.manual_seed(1)\n",
        "np.random.seed(1)\n",
        "\n",
        "# Device selection based on availability (GPU preferred)\n",
        "device = torch.device(\"cuda\" if torch.cuda.is_available() else \"cpu\")\n",
        "\n",
        "\n",
        "\n",
        "# Function to load data with optional augmentation applied to the training dataset\n",
        "def load_data(bs, augment_data=False):\n",
        "    # Transformations applied to training data based on whether augmentation is enabled or not\n",
        "    if augment_data:\n",
        "        train_transforms = transforms.Compose([\n",
        "            transforms.Resize((300, 300)),\n",
        "            transforms.RandomHorizontalFlip(),\n",
        "            transforms.RandomRotation(10),\n",
        "            transforms.ToTensor(),\n",
        "            transforms.Normalize((0.5, 0.5, 0.5), (0.5, 0.5, 0.5))\n",
        "        ])\n",
        "    else:\n",
        "        train_transforms = transforms.Compose([\n",
        "            transforms.Resize((300, 300)),\n",
        "            transforms.ToTensor(),\n",
        "            transforms.Normalize((0.5, 0.5, 0.5), (0.5, 0.5, 0.5))\n",
        "        ])\n",
        "\n",
        "    # Transformations applied to testing data remain constant regardless of augmentation settings\n",
        "    test_transforms = transforms.Compose([\n",
        "        transforms.Resize((300, 300)),\n",
        "        transforms.ToTensor(),\n",
        "        transforms.Normalize((0.5, 0.5, 0.5), (0.5, 0.5, 0.5))\n",
        "    ])\n",
        "\n",
        "    # Paths for training and testing datasets\n",
        "    home_path = \"/content/inaturalist_12K\"\n",
        "    train_path = os.path.join(home_path, 'train')\n",
        "    test_path = os.path.join(home_path, 'val')\n",
        "\n",
        "    # Loading datasets with specified transformations applied\n",
        "    train_dataset = ImageFolder(train_path, transform=train_transforms)\n",
        "    test_dataset = ImageFolder(test_path, transform=test_transforms)\n",
        "\n",
        "\n",
        "    train_size = int(0.8 * len(train_dataset))\n",
        "    val_size = len(train_dataset) - train_size\n",
        "\n",
        "    i = 0\n",
        "    while i < val_size:\n",
        "        i += 1\n",
        "\n",
        "    print(f\"Training set size: {train_size}\")\n",
        "    print(f\"Validation set size: {val_size}\")\n",
        "\n",
        "    train_dataset, val_dataset = random_split(train_dataset, [train_size, val_size])\n",
        "\n",
        "    # Creating data loaders for training, validation, and testing datasets using a while loop structure.\n",
        "    loaders = []\n",
        "    loader_types = [(train_dataset, True), (val_dataset, False), (test_dataset, False)]\n",
        "\n",
        "    i = 0\n",
        "    while i < len(loader_types):\n",
        "        dataset_type, shuffle_flag = loader_types[i]\n",
        "        loaders.append(torch.utils.data.DataLoader(dataset_type, bs, shuffle=shuffle_flag))\n",
        "        i += 1\n",
        "\n",
        "    train_loader = loaders[0]\n",
        "    val_loader = loaders[1]\n",
        "    test_loader = loaders[2]\n",
        "\n",
        "    # Extracting category names from the training dataset path using pathlib.\n",
        "    root = pathlib.Path(train_path)\n",
        "\n",
        "    classes_temp = [j.name.split('/')[-1] for j in root.iterdir()]\n",
        "\n",
        "    classes = sorted(classes_temp)\n",
        "\n",
        "    i = len(classes) - 1\n",
        "    while i >= 0:\n",
        "        _temp_var = classes[i] + \"train\"\n",
        "        i -= 1\n",
        "\n",
        "    return train_loader, val_loader, test_loader, classes\n"
      ]
    },
    {
      "cell_type": "code",
      "execution_count": 4,
      "id": "7c5f5f5b",
      "metadata": {
        "execution": {
          "iopub.execute_input": "2023-04-07T11:19:48.157834Z",
          "iopub.status.busy": "2023-04-07T11:19:48.157506Z",
          "iopub.status.idle": "2023-04-07T11:19:48.181396Z",
          "shell.execute_reply": "2023-04-07T11:19:48.180429Z"
        },
        "papermill": {
          "duration": 0.0347,
          "end_time": "2023-04-07T11:19:48.183608",
          "exception": false,
          "start_time": "2023-04-07T11:19:48.148908",
          "status": "completed"
        },
        "tags": [],
        "id": "7c5f5f5b"
      },
      "outputs": [],
      "source": [
        "# Simplified CNN\n",
        "def flatten(k=[11,9,7,5,3], w=300, s=1, p=1):\n",
        "    r = w\n",
        "    i = 0\n",
        "    while i < len(k):\n",
        "        print(\"Current r:\", r)\n",
        "        r = (r + 2*p - k[i]) + 1\n",
        "        r = int(r/2) + 1\n",
        "        i += 1\n",
        "    return r\n",
        "\n",
        "class CNN(nn.Module):\n",
        "    def __init__(self, in_channels=3, num_class=10, num_filters=4,\n",
        "                 kernel_sizes=[11,9,7,5,3], fc_neurons=64, batch_norm=True,\n",
        "                 dropout=0.3, filter_multiplier=2, activation='LeakyRelu'):\n",
        "\n",
        "        super().__init__()  # Modern super() call\n",
        "        # Parameter initialization remains identical\n",
        "        self.in_channels = in_channels\n",
        "        self.num_class = num_class\n",
        "        self.num_filters = num_filters\n",
        "        self.kernel_sizes = kernel_sizes\n",
        "        self.fc_neurons = fc_neurons\n",
        "        self.activation = activation\n",
        "        self.batch_norm = batch_norm\n",
        "        self.dropout = dropout\n",
        "        self.filter_multiplier = filter_multiplier\n",
        "\n",
        "\n",
        "        self.conv1 = nn.Conv2d(3, num_filters, kernel_sizes[0], 1, 1).to(device)\n",
        "        self.bn1 = nn.BatchNorm2d(num_filters)\n",
        "        self.relu1 = nn.LeakyReLU()\n",
        "        self.pool1 = nn.MaxPool2d(2, 2, 1)\n",
        "\n",
        "\n",
        "        self.conv2 = nn.Conv2d(num_filters, filter_multiplier*num_filters,\n",
        "                              kernel_sizes[1], 1, 1).to(device)\n",
        "        self.bn2 = nn.BatchNorm2d(filter_multiplier*num_filters)\n",
        "        self.relu2 = nn.LeakyReLU()\n",
        "        self.pool2 = nn.MaxPool2d(2, 2, 1)\n",
        "\n",
        "\n",
        "        self.conv3 = nn.Conv2d(filter_multiplier*num_filters,\n",
        "                              int(math.pow(filter_multiplier,2))*num_filters,\n",
        "                              kernel_sizes[2],1,1).to(device)\n",
        "        self.bn3 = nn.BatchNorm2d(int(math.pow(filter_multiplier,2))*num_filters)\n",
        "        self.relu3 = nn.LeakyReLU()\n",
        "        self.pool3 = nn.MaxPool2d(2, 2, 1)\n",
        "\n",
        "\n",
        "\n",
        "        self.conv4 = nn.Conv2d(int(math.pow(filter_multiplier,2))*num_filters,\n",
        "                              int(math.pow(filter_multiplier,3))*num_filters,\n",
        "                              kernel_sizes[3],1,1).to(device)\n",
        "        self.bn4 = nn.BatchNorm2d(int(math.pow(filter_multiplier,3))*num_filters)\n",
        "        self.relu4 = nn.LeakyReLU()\n",
        "        self.pool4 = nn.MaxPool2d(2, 2, 1)\n",
        "\n",
        "        self.conv5 = nn.Conv2d(int(math.pow(filter_multiplier,3))*num_filters,\n",
        "                              int(math.pow(filter_multiplier,4))*num_filters,\n",
        "                              kernel_sizes[4],1,1).to(device)\n",
        "        self.bn5 = nn.BatchNorm2d(int(math.pow(filter_multiplier,4))*num_filters)\n",
        "        self.relu5 = nn.LeakyReLU()\n",
        "        self.pool5 = nn.MaxPool2d(2, 2, 1)\n",
        "\n",
        "        # Flatten calculation with minor reformatting\n",
        "        print(\"Pool5 completed\")\n",
        "        self.r = flatten(kernel_sizes)\n",
        "        print(f\"Flattened dimension: {self.r}\")\n",
        "\n",
        "        # Fully connected layers with altered formatting\n",
        "        self.fc1 = nn.Linear(\n",
        "            int(math.pow(filter_multiplier,4))*num_filters*self.r*self.r,\n",
        "            fc_neurons\n",
        "        )\n",
        "        self.relu6 = nn.LeakyReLU()\n",
        "        self.drop = nn.Dropout(dropout)\n",
        "        self.fc2 = nn.Linear(fc_neurons, num_class)\n",
        "\n",
        "\n",
        "    def forward(self, x):\n",
        "        # Layer sequence with minor formatting changes\n",
        "        x = self.relu1(self.bn1(self.conv1(x)) if self.batch_norm else self.conv1(x))\n",
        "        x = self.pool1(x)\n",
        "\n",
        "        x = self.relu2(self.bn2(self.conv2(x)) if self.batch_norm else self.conv2(x))\n",
        "        x = self.pool2(x)\n",
        "\n",
        "        x = self.relu3(self.bn3(self.conv3(x)) if self.batch_norm else self.conv3(x))\n",
        "        x = self.pool3(x)\n",
        "\n",
        "        x = self.relu4(self.bn4(self.conv4(x)) if self.batch_norm else self.conv4(x))\n",
        "        x = self.pool4(x)\n",
        "\n",
        "        x = self.relu5(self.bn5(self.conv5(x)) if self.batch_norm else self.conv5(x))\n",
        "        x = self.pool5(x)\n",
        "\n",
        "        # Flatten and classify\n",
        "        x = x.view(x.size(0), -1)\n",
        "        x = self.relu6(self.fc1(x))\n",
        "        x = self.drop(x)\n",
        "        return self.fc2(x)\n"
      ]
    },
    {
      "cell_type": "code",
      "execution_count": 5,
      "id": "173205f4",
      "metadata": {
        "execution": {
          "iopub.execute_input": "2023-04-07T11:19:48.200190Z",
          "iopub.status.busy": "2023-04-07T11:19:48.199914Z",
          "iopub.status.idle": "2023-04-07T11:50:32.615877Z",
          "shell.execute_reply": "2023-04-07T11:50:32.614873Z"
        },
        "papermill": {
          "duration": 1844.430252,
          "end_time": "2023-04-07T11:50:32.621794",
          "exception": false,
          "start_time": "2023-04-07T11:19:48.191542",
          "status": "completed"
        },
        "tags": [],
        "colab": {
          "base_uri": "https://localhost:8080/"
        },
        "id": "173205f4",
        "outputId": "49cc2023-23ab-4c4b-f353-3aaf26fe9727"
      },
      "outputs": [
        {
          "output_type": "stream",
          "name": "stdout",
          "text": [
            "Training set size: 7999\n",
            "Validation set size: 2000\n",
            "['.DS_Store', 'Amphibia', 'Animalia', 'Arachnida', 'Aves', 'Fungi', 'Insecta', 'Mammalia', 'Mollusca', 'Plantae', 'Reptilia']\n",
            "Feature Batch Shape: torch.Size([64, 3, 300, 300])\n",
            "Label Batch Shape: torch.Size([64])\n",
            "Pool5 completed\n",
            "Current r: 300\n",
            "Current r: 151\n",
            "Current r: 76\n",
            "Current r: 39\n",
            "Current r: 20\n",
            "Flattened dimension: 11\n",
            "Epoch [1/15], Train Loss: 2.1722, Test Loss: 2.0708, Test Acc: 26.15%\n",
            "Epoch [2/15], Train Loss: 1.9512, Test Loss: 1.9867, Test Acc: 28.75%\n",
            "Epoch [3/15], Train Loss: 1.8473, Test Loss: 1.9289, Test Acc: 31.20%\n",
            "Epoch [4/15], Train Loss: 2.0175, Test Loss: 1.8482, Test Acc: 34.45%\n",
            "Epoch [5/15], Train Loss: 1.7131, Test Loss: 1.8284, Test Acc: 36.25%\n",
            "Epoch [6/15], Train Loss: 1.6943, Test Loss: 1.8221, Test Acc: 36.75%\n",
            "Epoch [7/15], Train Loss: 1.4642, Test Loss: 1.8009, Test Acc: 36.60%\n",
            "Epoch [8/15], Train Loss: 1.5740, Test Loss: 1.7945, Test Acc: 38.85%\n",
            "Epoch [9/15], Train Loss: 1.8955, Test Loss: 1.7650, Test Acc: 39.20%\n",
            "Epoch [10/15], Train Loss: 1.5898, Test Loss: 1.7221, Test Acc: 40.65%\n",
            "Epoch [11/15], Train Loss: 1.6099, Test Loss: 1.7804, Test Acc: 39.95%\n",
            "Epoch [12/15], Train Loss: 1.2900, Test Loss: 1.8297, Test Acc: 39.35%\n",
            "Epoch [13/15], Train Loss: 1.3562, Test Loss: 1.8464, Test Acc: 39.80%\n",
            "Epoch [14/15], Train Loss: 1.1628, Test Loss: 1.9082, Test Acc: 38.85%\n",
            "Epoch [15/15], Train Loss: 1.0807, Test Loss: 2.0285, Test Acc: 39.15%\n",
            "Best model saved to best_model.pth\n"
          ]
        }
      ],
      "source": [
        "# Set device\n",
        "device = torch.device(\"cuda\" if torch.cuda.is_available() else \"cpu\")\n",
        "\n",
        "# Hyperparameters\n",
        "in_channels = 3\n",
        "num_class = 10\n",
        "learning_rate = 0.0005\n",
        "batch_size = 64\n",
        "epochs = 15\n",
        "data_aug = True\n",
        "\n",
        "# Load data\n",
        "train_loader, val_loader, test_loader, classes = load_data(batch_size, data_aug)\n",
        "print(classes)\n",
        "trainfeature, trainlabel = next(iter(train_loader))\n",
        "print(f\"Feature Batch Shape: {trainfeature.size()}\")\n",
        "print(f\"Label Batch Shape: {trainlabel.size()}\")\n",
        "\n",
        "# Initialize network\n",
        "model = CNN(3, 10, 16, [3, 3, 3, 3, 3], 128, False, 0, 2, 'LeakyRelu').to(device)\n",
        "\n",
        "# Loss and optimizer\n",
        "criterion = nn.CrossEntropyLoss()\n",
        "optimizer = optim.NAdam(model.parameters(), lr=learning_rate, weight_decay=0.0001)\n",
        "\n",
        "# Train Network\n",
        "epoch_counter = 0\n",
        "while epoch_counter < epochs:  # Using while loop instead of for loop for uniqueness\n",
        "    # Set the model to training mode\n",
        "    model.train()\n",
        "\n",
        "    # Convert DataLoader to iterator for while loop processing\n",
        "    train_iter = iter(train_loader)\n",
        "    batch_idx = 0\n",
        "\n",
        "    while batch_idx < len(train_loader):\n",
        "        data, targets = next(train_iter)\n",
        "        data = data.to(device=device)\n",
        "        targets = targets.to(device=device)\n",
        "\n",
        "        optimizer.zero_grad()\n",
        "        # Forward pass\n",
        "        scores = model(data)\n",
        "        loss = criterion(scores, targets)\n",
        "\n",
        "        # Backward pass and optimization step\n",
        "        loss.backward()\n",
        "        optimizer.step()\n",
        "\n",
        "        batch_idx += 1\n",
        "\n",
        "    # Set the model to evaluation mode for validation/testing\n",
        "    model.eval()\n",
        "\n",
        "    # Track the total loss and number of correct predictions during evaluation\n",
        "    test_loss = 0.0\n",
        "    num_correct = 0\n",
        "    num_samples = 0\n",
        "\n",
        "    # Evaluate the model on the validation set using a while loop for uniqueness\n",
        "    test_iter = iter(test_loader)\n",
        "    with torch.no_grad():\n",
        "        while (batch := next(test_iter, None)) is not None:\n",
        "            data, targets = batch\n",
        "            data = data.to(device=device)\n",
        "            targets = targets.to(device=device)\n",
        "\n",
        "            scores = model(data)\n",
        "            test_loss += criterion(scores, targets).item()\n",
        "\n",
        "            _, predictions = scores.max(1)\n",
        "            num_correct += (predictions == targets).sum()\n",
        "            num_samples += predictions.size(0)\n",
        "\n",
        "    # Calculate the average validation loss and accuracy after evaluation\n",
        "    test_loss /= len(test_loader)\n",
        "    test_acc = float(num_correct) / num_samples\n",
        "\n",
        "    # Print the epoch number along with training loss and validation metrics\n",
        "    print('Epoch [{}/{}], Train Loss: {:.4f}, Test Loss: {:.4f}, Test Acc: {:.2f}%'\n",
        "          .format(epoch_counter + 1, epochs, loss.item(), test_loss, test_acc * 100))\n",
        "\n",
        "    epoch_counter += 1\n",
        "\n",
        "# Save the best model to a file for future use without changing the file name or path\n",
        "best_model_path = 'best_model.pth'\n",
        "torch.save(model.state_dict(), best_model_path)\n",
        "print(f\"Best model saved to {best_model_path}\")\n"
      ]
    },
    {
      "cell_type": "code",
      "source": [
        "# Loading the best model and testing it on Test Data\n",
        "best_model_path = 'best_model.pth'\n",
        "\n",
        "# original architecture\n",
        "loaded_model = CNN(\n",
        "    3, 10, 16,\n",
        "    [3,3,3,3,3],  # Original kernel sizes\n",
        "    128,           # Original fc_neurons\n",
        "    False,         # Original batch_norm\n",
        "    0,             # Original dropout\n",
        "    2,             # Original filter_multiplier\n",
        "    'LeakyRelu'    # Original activation\n",
        ").to(device)\n",
        "\n",
        "loaded_model.load_state_dict(torch.load(best_model_path))\n",
        "\n",
        "# Define the accuracy calculation function\n",
        "def calculate_accuracy(model, test_loader, criterion):\n",
        "    model.eval()\n",
        "    total = 0\n",
        "    correct = 0\n",
        "    cost = 0\n",
        "    acc = 0\n",
        "\n",
        "    with torch.no_grad():\n",
        "        test_iter = iter(test_loader)\n",
        "        batch_idx = 0\n",
        "\n",
        "        while batch_idx < len(test_loader):\n",
        "            batch = next(test_iter)\n",
        "            images, labels = batch\n",
        "\n",
        "\n",
        "            dummy_var = len(labels) * 0.1\n",
        "\n",
        "            images = images.to(device)\n",
        "            labels = labels.to(device)\n",
        "\n",
        "            outputs = model(images)\n",
        "            cost += criterion(outputs, labels).item()\n",
        "            _, predicted = torch.max(outputs.data, 1)\n",
        "            total += labels.size(0)\n",
        "            correct += (predicted == labels).sum().item()\n",
        "\n",
        "\n",
        "            del dummy_var\n",
        "\n",
        "            del images\n",
        "            del labels\n",
        "\n",
        "            batch_idx += 1\n",
        "\n",
        "    acc = 100 * correct / total\n",
        "    cost /= len(test_loader)\n",
        "\n",
        "    return cost, acc\n",
        "\n",
        "# Calculate loss and accuracy using the loaded model and test dataset\n",
        "loss, acc = calculate_accuracy(loaded_model, test_loader, nn.CrossEntropyLoss())\n",
        "print(loss, acc)\n",
        "\n",
        "# Print the state dictionary of the loaded model for verification\n",
        "print(loaded_model.state_dict())\n"
      ],
      "metadata": {
        "id": "DlB9WFER0we3",
        "collapsed": true,
        "colab": {
          "base_uri": "https://localhost:8080/"
        },
        "outputId": "5f26957a-c2c4-46fb-8d3b-e2d20d4c53ab"
      },
      "id": "DlB9WFER0we3",
      "execution_count": 6,
      "outputs": [
        {
          "output_type": "stream",
          "name": "stdout",
          "text": [
            "Pool5 completed\n",
            "Current r: 300\n",
            "Current r: 151\n",
            "Current r: 76\n",
            "Current r: 39\n",
            "Current r: 20\n",
            "Flattened dimension: 11\n",
            "2.0285353884100914 39.15\n",
            "OrderedDict([('conv1.weight', tensor([[[[-1.1250e-01, -1.8813e-01, -1.7167e-01],\n",
            "          [-2.6828e-02, -1.8500e-02,  7.4953e-02],\n",
            "          [-6.4282e-02, -3.0366e-02,  1.2751e-01]],\n",
            "\n",
            "         [[ 7.1122e-02,  1.6243e-02,  7.3708e-02],\n",
            "          [ 1.8078e-01, -1.4038e-01,  1.8510e-01],\n",
            "          [ 1.9060e-01,  1.6443e-01,  9.7053e-02]],\n",
            "\n",
            "         [[-6.0807e-02, -1.8009e-01, -4.5360e-02],\n",
            "          [ 1.5455e-01, -1.2649e-01,  5.5990e-02],\n",
            "          [-8.3203e-02,  2.6844e-03, -4.3096e-02]]],\n",
            "\n",
            "\n",
            "        [[[-1.0499e-01, -1.8699e-01, -6.7529e-02],\n",
            "          [ 3.8053e-02,  6.7872e-02,  9.6891e-02],\n",
            "          [ 2.0204e-01,  1.2645e-01, -1.5577e-01]],\n",
            "\n",
            "         [[-1.6922e-01, -1.1654e-01, -1.4624e-01],\n",
            "          [ 7.2089e-02, -2.2577e-02,  2.0205e-01],\n",
            "          [ 5.5927e-02,  1.7035e-01, -7.9569e-02]],\n",
            "\n",
            "         [[ 1.8355e-01, -9.7836e-02,  1.4233e-01],\n",
            "          [-2.7871e-02, -1.1186e-01,  4.6894e-02],\n",
            "          [-1.6353e-01,  1.1043e-01, -7.3587e-02]]],\n",
            "\n",
            "\n",
            "        [[[-4.5589e-02, -2.8108e-02, -5.4806e-02],\n",
            "          [ 1.2188e-01,  1.9799e-01,  7.4715e-02],\n",
            "          [ 1.5111e-02, -9.8124e-02,  1.5234e-01]],\n",
            "\n",
            "         [[-8.7452e-02, -1.7084e-01,  1.2185e-01],\n",
            "          [-1.4338e-01, -6.0188e-03, -5.5092e-02],\n",
            "          [ 1.0164e-01, -1.4937e-01, -1.2156e-01]],\n",
            "\n",
            "         [[-1.7706e-01, -2.7341e-02, -1.6427e-01],\n",
            "          [ 1.2724e-01,  1.4054e-01,  1.2000e-01],\n",
            "          [ 1.7310e-01, -9.1347e-02,  2.9366e-02]]],\n",
            "\n",
            "\n",
            "        [[[-3.1134e-02, -1.2936e-01, -3.7330e-02],\n",
            "          [-6.2331e-02, -2.0831e-01, -3.2130e-03],\n",
            "          [-8.8353e-02, -3.7472e-02, -3.8545e-02]],\n",
            "\n",
            "         [[-2.2595e-04,  6.2632e-02,  1.3201e-01],\n",
            "          [ 1.9552e-01, -1.4436e-01,  1.3297e-01],\n",
            "          [ 1.0131e-01,  1.7509e-01,  1.7877e-01]],\n",
            "\n",
            "         [[ 5.6596e-02,  1.6309e-02,  3.7686e-02],\n",
            "          [-1.0428e-01, -1.3011e-01, -1.7004e-01],\n",
            "          [-1.0538e-01,  1.3440e-01, -1.4949e-01]]],\n",
            "\n",
            "\n",
            "        [[[-1.9767e-01,  7.5065e-02,  1.0806e-01],\n",
            "          [ 9.1084e-02, -1.1662e-01,  6.4634e-02],\n",
            "          [-6.5283e-02, -1.3063e-01,  1.2565e-01]],\n",
            "\n",
            "         [[-9.6644e-02, -1.1901e-01,  3.7637e-02],\n",
            "          [-1.1008e-01,  4.7378e-02,  1.5433e-01],\n",
            "          [ 7.3779e-02, -3.2839e-02,  1.7343e-01]],\n",
            "\n",
            "         [[-1.7662e-01, -9.0739e-02,  3.7115e-02],\n",
            "          [ 1.7624e-01,  5.3676e-02, -3.1558e-02],\n",
            "          [ 1.5370e-02, -1.1205e-02,  1.1020e-02]]],\n",
            "\n",
            "\n",
            "        [[[-1.0147e-01,  1.3579e-01, -1.6596e-01],\n",
            "          [ 1.4302e-01, -8.8164e-02, -9.7409e-02],\n",
            "          [-7.7806e-03, -1.8195e-01, -1.1274e-01]],\n",
            "\n",
            "         [[ 1.3138e-01, -1.3683e-01,  2.2372e-01],\n",
            "          [ 8.2184e-02,  2.0360e-01, -2.1784e-02],\n",
            "          [-4.0103e-02, -9.3966e-02,  2.1964e-02]],\n",
            "\n",
            "         [[ 3.2900e-02,  1.0588e-01, -1.5949e-01],\n",
            "          [ 8.3760e-02,  2.8834e-02,  7.9181e-02],\n",
            "          [-7.1424e-02, -1.5827e-01, -1.8215e-01]]],\n",
            "\n",
            "\n",
            "        [[[ 9.2331e-02, -7.9023e-02, -1.0991e-01],\n",
            "          [-9.7705e-02,  4.6109e-02, -3.8748e-02],\n",
            "          [ 7.9526e-02, -5.1958e-02, -1.4703e-01]],\n",
            "\n",
            "         [[-1.8296e-01,  8.5740e-02,  7.4261e-02],\n",
            "          [ 7.5019e-02, -1.4523e-01, -5.5847e-02],\n",
            "          [-1.3133e-01, -1.4861e-02, -1.7181e-01]],\n",
            "\n",
            "         [[-1.7199e-01, -1.7100e-01, -1.3011e-01],\n",
            "          [-1.2400e-01, -9.0590e-02,  1.9197e-01],\n",
            "          [ 1.3935e-02,  2.0573e-01,  3.3124e-02]]],\n",
            "\n",
            "\n",
            "        [[[-1.7259e-02,  1.0851e-01, -1.7964e-01],\n",
            "          [ 5.5669e-02,  1.6734e-01, -1.3427e-01],\n",
            "          [-1.5182e-01, -8.5652e-02,  1.4319e-01]],\n",
            "\n",
            "         [[ 1.7283e-01,  1.0044e-01, -1.0205e-01],\n",
            "          [-9.1076e-02, -1.8012e-01,  2.7948e-02],\n",
            "          [ 4.8977e-02, -1.7612e-02,  1.1498e-01]],\n",
            "\n",
            "         [[ 1.0271e-01, -1.7127e-01,  1.7373e-01],\n",
            "          [ 1.5821e-01,  1.7918e-01,  1.7665e-01],\n",
            "          [-8.8061e-03,  1.7776e-01,  1.1095e-01]]],\n",
            "\n",
            "\n",
            "        [[[ 6.5507e-02, -4.6749e-02,  7.4481e-03],\n",
            "          [-4.7829e-02,  9.0380e-02, -1.1890e-01],\n",
            "          [ 8.8406e-02,  1.6374e-01,  1.6034e-01]],\n",
            "\n",
            "         [[ 1.2599e-01, -2.6765e-02,  7.7809e-02],\n",
            "          [ 1.0566e-01,  1.2115e-02, -1.4506e-01],\n",
            "          [-1.8711e-01,  7.3725e-02,  1.6805e-01]],\n",
            "\n",
            "         [[-4.4531e-02,  8.4236e-02, -5.5742e-02],\n",
            "          [ 5.4053e-02,  1.0153e-01, -1.3876e-01],\n",
            "          [ 1.8502e-02, -4.7953e-02, -7.1636e-02]]],\n",
            "\n",
            "\n",
            "        [[[ 4.3617e-02,  1.5080e-01,  1.4351e-01],\n",
            "          [-5.7555e-02,  1.8010e-01, -7.4940e-02],\n",
            "          [ 9.6122e-02,  1.4642e-01,  1.1789e-03]],\n",
            "\n",
            "         [[ 1.2811e-02,  1.1805e-01,  2.0569e-01],\n",
            "          [-3.2303e-02,  1.0648e-01, -3.7317e-02],\n",
            "          [-1.4735e-01,  4.1370e-02,  8.1262e-02]],\n",
            "\n",
            "         [[-1.8500e-01, -1.7516e-01, -1.7253e-01],\n",
            "          [-1.3236e-02, -1.7188e-01, -9.5097e-02],\n",
            "          [-1.9931e-01,  4.5180e-02,  5.0986e-02]]],\n",
            "\n",
            "\n",
            "        [[[-1.0939e-01,  1.1649e-01,  4.7839e-02],\n",
            "          [-1.6863e-01,  1.8861e-01,  1.6849e-01],\n",
            "          [ 3.2641e-02, -1.2249e-02, -1.6978e-01]],\n",
            "\n",
            "         [[-4.7039e-02,  9.7568e-02, -2.4328e-01],\n",
            "          [-1.5005e-01, -3.1976e-02, -2.2911e-01],\n",
            "          [ 3.9427e-02,  1.2162e-01,  1.3230e-01]],\n",
            "\n",
            "         [[-1.7406e-02, -1.9898e-01, -6.7000e-02],\n",
            "          [-2.8782e-02,  3.7033e-02,  1.7151e-01],\n",
            "          [-9.7538e-03,  2.0390e-01,  1.9863e-01]]],\n",
            "\n",
            "\n",
            "        [[[-1.4333e-01, -1.8613e-01, -1.1869e-01],\n",
            "          [-1.5349e-01, -5.5514e-02, -1.5886e-01],\n",
            "          [-7.0442e-02, -1.5888e-01,  9.6713e-02]],\n",
            "\n",
            "         [[-5.5804e-03,  1.0279e-01,  2.2365e-02],\n",
            "          [ 1.0565e-01,  1.4158e-02, -3.6014e-02],\n",
            "          [-7.7893e-02, -9.6453e-02, -4.5441e-02]],\n",
            "\n",
            "         [[ 1.5646e-01,  1.4368e-01, -1.5475e-01],\n",
            "          [-2.0599e-02,  9.9284e-02, -1.0821e-01],\n",
            "          [ 1.8553e-01,  1.2468e-01, -2.9991e-02]]],\n",
            "\n",
            "\n",
            "        [[[-1.4846e-01,  5.7539e-02,  1.7121e-01],\n",
            "          [ 1.5651e-01,  1.9436e-01,  1.7657e-02],\n",
            "          [ 1.8852e-01, -1.0012e-01, -7.0335e-02]],\n",
            "\n",
            "         [[-4.7133e-02, -1.4376e-01, -5.5011e-02],\n",
            "          [-1.8240e-01,  1.3109e-01,  3.6989e-02],\n",
            "          [-8.6790e-02, -4.3259e-02, -1.4033e-01]],\n",
            "\n",
            "         [[-1.9986e-01, -8.3954e-02,  1.0853e-01],\n",
            "          [-1.1949e-02, -2.6503e-04,  1.0925e-01],\n",
            "          [-4.1681e-02, -9.3234e-02,  2.7115e-02]]],\n",
            "\n",
            "\n",
            "        [[[-3.1723e-02, -4.5356e-02,  3.4862e-02],\n",
            "          [-2.8634e-02, -1.3091e-02,  7.9662e-02],\n",
            "          [-6.7582e-02,  9.5336e-02, -3.1092e-02]],\n",
            "\n",
            "         [[ 2.3944e-02,  1.5897e-01, -7.9191e-02],\n",
            "          [-1.4162e-01,  2.9826e-02, -4.1851e-02],\n",
            "          [-1.7894e-01,  8.9280e-02,  1.4322e-01]],\n",
            "\n",
            "         [[ 5.3107e-02, -2.1846e-02,  1.2888e-02],\n",
            "          [-2.1037e-01, -8.0215e-02,  1.1055e-02],\n",
            "          [ 3.9156e-02,  1.1736e-01,  7.5488e-02]]],\n",
            "\n",
            "\n",
            "        [[[ 1.2555e-01, -2.0097e-01,  7.0165e-02],\n",
            "          [ 3.3770e-02, -1.0614e-01, -2.0946e-01],\n",
            "          [ 1.8618e-01, -7.0884e-02, -1.8542e-01]],\n",
            "\n",
            "         [[-1.2752e-01,  5.6914e-02,  1.2579e-01],\n",
            "          [ 3.5386e-02,  3.7096e-02, -2.3589e-02],\n",
            "          [ 5.6172e-02, -3.9295e-03,  1.5733e-01]],\n",
            "\n",
            "         [[ 5.6797e-02, -1.0112e-01,  4.3873e-02],\n",
            "          [-7.8791e-02, -1.4099e-01, -1.0143e-01],\n",
            "          [ 1.5861e-01,  8.6298e-02, -1.9763e-01]]],\n",
            "\n",
            "\n",
            "        [[[ 1.1465e-01, -1.9962e-01,  4.6756e-02],\n",
            "          [-3.4659e-02, -1.1063e-01, -6.5262e-02],\n",
            "          [-1.6822e-01,  1.1967e-01, -1.3608e-01]],\n",
            "\n",
            "         [[-8.4945e-02, -1.7500e-01,  7.3277e-02],\n",
            "          [ 1.2326e-01,  1.1933e-02, -5.3704e-02],\n",
            "          [ 3.3047e-02, -1.0155e-01,  1.6723e-01]],\n",
            "\n",
            "         [[-6.7742e-02,  6.9064e-02,  1.3112e-01],\n",
            "          [-6.0879e-02,  1.5272e-01,  1.0800e-01],\n",
            "          [-8.6167e-03, -6.4909e-02,  1.4245e-01]]]], device='cuda:0')), ('conv1.bias', tensor([ 0.0773,  0.0003, -0.0493, -0.1432, -0.1670, -0.0198, -0.1918, -0.1941,\n",
            "        -0.0585, -0.0274,  0.1331, -0.1491, -0.1697, -0.0061, -0.1674, -0.0615],\n",
            "       device='cuda:0')), ('bn1.weight', tensor([1., 1., 1., 1., 1., 1., 1., 1., 1., 1., 1., 1., 1., 1., 1., 1.],\n",
            "       device='cuda:0')), ('bn1.bias', tensor([0., 0., 0., 0., 0., 0., 0., 0., 0., 0., 0., 0., 0., 0., 0., 0.],\n",
            "       device='cuda:0')), ('bn1.running_mean', tensor([0., 0., 0., 0., 0., 0., 0., 0., 0., 0., 0., 0., 0., 0., 0., 0.],\n",
            "       device='cuda:0')), ('bn1.running_var', tensor([1., 1., 1., 1., 1., 1., 1., 1., 1., 1., 1., 1., 1., 1., 1., 1.],\n",
            "       device='cuda:0')), ('bn1.num_batches_tracked', tensor(0, device='cuda:0')), ('conv2.weight', tensor([[[[ 3.9086e-02, -9.7324e-02,  8.6847e-03],\n",
            "          [-4.7664e-02,  6.4241e-02, -2.3824e-02],\n",
            "          [-2.2559e-02, -3.9677e-02, -6.8039e-02]],\n",
            "\n",
            "         [[ 9.3065e-02, -2.3963e-02,  1.2191e-01],\n",
            "          [ 8.7629e-02, -3.0527e-02,  1.0810e-01],\n",
            "          [ 5.1817e-02,  1.0945e-01, -3.6091e-03]],\n",
            "\n",
            "         [[ 8.4329e-03, -2.7668e-03,  1.8054e-02],\n",
            "          [-2.6265e-02, -2.5473e-03, -2.7778e-02],\n",
            "          [ 8.0521e-02,  6.1302e-02, -2.8778e-02]],\n",
            "\n",
            "         ...,\n",
            "\n",
            "         [[ 8.3163e-02,  5.2261e-02,  1.0751e-01],\n",
            "          [-3.8420e-03,  1.4648e-02, -9.5009e-03],\n",
            "          [ 2.7370e-02, -5.7972e-02,  5.8289e-02]],\n",
            "\n",
            "         [[ 5.9221e-03, -2.0103e-02, -9.8249e-02],\n",
            "          [ 2.0871e-02, -6.4087e-02, -7.3703e-02],\n",
            "          [-1.2018e-01, -6.9442e-02, -4.1440e-02]],\n",
            "\n",
            "         [[-1.2448e-02, -8.2490e-02,  5.5437e-02],\n",
            "          [ 8.6372e-03,  2.1861e-02, -7.3886e-02],\n",
            "          [-5.6928e-02, -1.5741e-03, -9.7859e-02]]],\n",
            "\n",
            "\n",
            "        [[[ 5.9544e-02,  2.5869e-02,  7.3368e-02],\n",
            "          [ 8.8375e-02,  4.5184e-02,  7.1114e-02],\n",
            "          [ 2.8867e-02,  1.1319e-01,  1.7077e-02]],\n",
            "\n",
            "         [[-3.7284e-02,  5.7006e-03, -5.1815e-02],\n",
            "          [-3.1806e-02,  3.2506e-02,  8.2440e-02],\n",
            "          [ 8.6207e-02,  8.6335e-02,  9.1639e-02]],\n",
            "\n",
            "         [[ 2.8527e-02, -8.4324e-02, -6.1411e-02],\n",
            "          [ 3.1634e-04, -7.2002e-02, -4.0141e-02],\n",
            "          [ 3.5708e-02, -3.7648e-02, -3.6261e-02]],\n",
            "\n",
            "         ...,\n",
            "\n",
            "         [[ 9.2246e-02, -6.3288e-02,  9.1790e-02],\n",
            "          [ 7.5724e-05,  2.0812e-02,  4.7687e-02],\n",
            "          [ 2.3052e-02,  1.9835e-02,  8.4451e-02]],\n",
            "\n",
            "         [[-5.0092e-02,  6.5224e-02, -4.7299e-02],\n",
            "          [-2.1749e-02, -2.3427e-02, -7.8417e-02],\n",
            "          [-7.2735e-02, -7.4557e-02, -8.7310e-03]],\n",
            "\n",
            "         [[-3.5561e-02,  4.2550e-02, -8.5356e-02],\n",
            "          [-8.2253e-02, -6.1146e-02, -1.6792e-02],\n",
            "          [-1.2167e-01, -1.0433e-01, -5.1004e-02]]],\n",
            "\n",
            "\n",
            "        [[[-9.3202e-02, -1.2593e-01,  2.6367e-02],\n",
            "          [-9.4900e-02,  7.3643e-03, -7.2066e-02],\n",
            "          [ 1.9869e-02, -6.1310e-02, -7.8493e-02]],\n",
            "\n",
            "         [[ 1.8616e-02, -4.5130e-02, -3.6398e-02],\n",
            "          [ 4.3170e-02,  3.3288e-03, -9.8114e-03],\n",
            "          [-6.6574e-02,  6.5325e-02, -3.0875e-02]],\n",
            "\n",
            "         [[ 9.1425e-02,  6.2518e-02, -1.7782e-03],\n",
            "          [-3.7651e-02,  3.7675e-03, -2.0143e-02],\n",
            "          [ 4.0836e-02, -1.2181e-02, -5.6705e-02]],\n",
            "\n",
            "         ...,\n",
            "\n",
            "         [[ 1.3542e-02, -6.0126e-02,  2.2416e-02],\n",
            "          [ 3.5862e-02, -7.9732e-02,  3.1451e-02],\n",
            "          [-5.5358e-02, -3.2673e-02,  5.9853e-02]],\n",
            "\n",
            "         [[-6.4827e-02,  1.4551e-03, -7.7585e-02],\n",
            "          [-8.0276e-02,  2.9287e-02,  2.0595e-02],\n",
            "          [-1.0029e-01,  1.8887e-02, -6.2840e-02]],\n",
            "\n",
            "         [[ 3.8291e-02,  4.9625e-02,  5.0755e-02],\n",
            "          [-3.1744e-02, -1.1968e-01,  3.4460e-02],\n",
            "          [-7.5403e-02, -7.1008e-02, -6.1658e-02]]],\n",
            "\n",
            "\n",
            "        ...,\n",
            "\n",
            "\n",
            "        [[[-7.5319e-02,  1.5051e-02, -8.0935e-02],\n",
            "          [ 3.4867e-03, -4.4097e-02, -5.4970e-02],\n",
            "          [-9.4953e-02, -7.4950e-02,  1.5602e-02]],\n",
            "\n",
            "         [[ 6.8581e-02, -2.3941e-02,  3.9011e-03],\n",
            "          [-7.6666e-02, -6.0658e-02,  1.6033e-02],\n",
            "          [ 7.9863e-02, -1.3928e-02,  5.9795e-02]],\n",
            "\n",
            "         [[-4.9959e-02,  2.5832e-02,  7.3788e-02],\n",
            "          [-4.4069e-02,  8.3438e-02, -3.4665e-02],\n",
            "          [ 5.5448e-03,  6.7549e-02, -1.3986e-02]],\n",
            "\n",
            "         ...,\n",
            "\n",
            "         [[-2.6389e-02,  3.6382e-02,  8.3514e-02],\n",
            "          [-4.9247e-02,  6.6084e-02,  1.0073e-01],\n",
            "          [-3.3837e-02, -4.7352e-02,  6.3696e-02]],\n",
            "\n",
            "         [[-3.0322e-02, -1.4920e-01, -8.2733e-02],\n",
            "          [-3.9068e-02, -1.5194e-01, -9.7945e-02],\n",
            "          [-9.7271e-02, -1.3723e-01, -1.0030e-01]],\n",
            "\n",
            "         [[-5.1075e-02, -2.3503e-02,  8.3352e-02],\n",
            "          [-1.0712e-02,  5.2367e-02,  8.6758e-02],\n",
            "          [-4.1783e-04, -4.8051e-02, -5.3241e-02]]],\n",
            "\n",
            "\n",
            "        [[[-2.3640e-02,  1.6806e-02,  2.5027e-02],\n",
            "          [ 1.0284e-02, -6.4004e-02, -8.0112e-02],\n",
            "          [-9.6618e-02, -1.9343e-02,  2.9711e-02]],\n",
            "\n",
            "         [[-2.2509e-02,  2.0418e-02,  6.9515e-02],\n",
            "          [ 3.4826e-02,  2.7255e-02,  4.5489e-02],\n",
            "          [ 8.1502e-02,  8.9797e-03,  8.4700e-02]],\n",
            "\n",
            "         [[ 8.2853e-03, -7.8747e-02,  3.5660e-02],\n",
            "          [ 4.3964e-02,  2.8649e-02,  1.8701e-02],\n",
            "          [ 1.8102e-03,  1.3871e-02, -3.9856e-02]],\n",
            "\n",
            "         ...,\n",
            "\n",
            "         [[-4.8603e-02,  2.9388e-02, -5.3070e-02],\n",
            "          [-1.5585e-02,  3.6071e-02,  3.8869e-02],\n",
            "          [ 6.2347e-02,  9.2140e-02,  3.4621e-02]],\n",
            "\n",
            "         [[-5.2251e-02,  1.6472e-02, -6.4756e-02],\n",
            "          [ 1.9648e-02,  1.8616e-02, -1.0167e-01],\n",
            "          [-5.8177e-02,  2.6391e-02,  4.4330e-02]],\n",
            "\n",
            "         [[-9.9246e-04, -1.7340e-02, -2.1570e-02],\n",
            "          [-5.4708e-03,  6.2985e-02, -6.1892e-02],\n",
            "          [ 2.4084e-02,  2.1203e-02, -2.0082e-02]]],\n",
            "\n",
            "\n",
            "        [[[-4.0998e-02,  2.0001e-02, -1.5033e-02],\n",
            "          [ 6.7225e-02,  5.0481e-02,  6.6668e-02],\n",
            "          [-1.7499e-02, -4.2836e-02,  6.5812e-02]],\n",
            "\n",
            "         [[ 3.3939e-02,  7.5415e-02,  1.0868e-01],\n",
            "          [-5.1561e-02,  5.3659e-04,  3.1609e-02],\n",
            "          [ 1.1012e-02, -3.1939e-02,  1.7007e-02]],\n",
            "\n",
            "         [[-2.5290e-02,  7.5608e-02,  1.7399e-04],\n",
            "          [ 1.0323e-02,  2.6284e-02, -6.4289e-02],\n",
            "          [ 2.5353e-02, -2.4537e-02,  7.1860e-02]],\n",
            "\n",
            "         ...,\n",
            "\n",
            "         [[-2.2335e-02, -7.0753e-02, -7.2463e-02],\n",
            "          [ 8.1315e-02,  1.3417e-02,  7.9314e-02],\n",
            "          [ 6.0370e-02,  5.6731e-02,  6.6036e-02]],\n",
            "\n",
            "         [[ 5.8002e-02,  8.8026e-02,  1.8504e-02],\n",
            "          [ 8.6372e-02, -3.1267e-02,  8.9537e-02],\n",
            "          [-4.2360e-02, -4.1522e-02, -5.2200e-02]],\n",
            "\n",
            "         [[-2.3711e-02,  7.4357e-02,  1.8048e-02],\n",
            "          [ 9.7603e-02,  1.0173e-01,  6.4139e-02],\n",
            "          [ 7.8584e-02, -2.7513e-02,  9.0596e-02]]]], device='cuda:0')), ('conv2.bias', tensor([ 0.0236,  0.0324,  0.0821, -0.0090,  0.0509,  0.0079,  0.0221,  0.0603,\n",
            "        -0.1026,  0.0005, -0.0454,  0.0572,  0.0620,  0.0153,  0.0474,  0.0211,\n",
            "        -0.0294, -0.0092,  0.0532, -0.0188, -0.0752, -0.0780, -0.0234,  0.0257,\n",
            "         0.0113,  0.0160, -0.0470, -0.0411,  0.0599,  0.0488,  0.0233, -0.1120],\n",
            "       device='cuda:0')), ('bn2.weight', tensor([1., 1., 1., 1., 1., 1., 1., 1., 1., 1., 1., 1., 1., 1., 1., 1., 1., 1.,\n",
            "        1., 1., 1., 1., 1., 1., 1., 1., 1., 1., 1., 1., 1., 1.],\n",
            "       device='cuda:0')), ('bn2.bias', tensor([0., 0., 0., 0., 0., 0., 0., 0., 0., 0., 0., 0., 0., 0., 0., 0., 0., 0., 0., 0., 0., 0., 0., 0.,\n",
            "        0., 0., 0., 0., 0., 0., 0., 0.], device='cuda:0')), ('bn2.running_mean', tensor([0., 0., 0., 0., 0., 0., 0., 0., 0., 0., 0., 0., 0., 0., 0., 0., 0., 0., 0., 0., 0., 0., 0., 0.,\n",
            "        0., 0., 0., 0., 0., 0., 0., 0.], device='cuda:0')), ('bn2.running_var', tensor([1., 1., 1., 1., 1., 1., 1., 1., 1., 1., 1., 1., 1., 1., 1., 1., 1., 1.,\n",
            "        1., 1., 1., 1., 1., 1., 1., 1., 1., 1., 1., 1., 1., 1.],\n",
            "       device='cuda:0')), ('bn2.num_batches_tracked', tensor(0, device='cuda:0')), ('conv3.weight', tensor([[[[ 3.2018e-03,  9.1722e-03,  4.2626e-02],\n",
            "          [ 4.7152e-02,  5.7674e-02,  2.4017e-02],\n",
            "          [ 4.1604e-02, -1.7568e-02, -3.9739e-02]],\n",
            "\n",
            "         [[-1.1407e-02, -7.9544e-02, -6.1552e-02],\n",
            "          [-9.6007e-02, -2.5833e-02, -8.7374e-02],\n",
            "          [-7.1034e-02, -6.6895e-02, -2.1553e-02]],\n",
            "\n",
            "         [[ 1.1588e-02, -3.5316e-02, -4.8119e-02],\n",
            "          [-1.6636e-02, -2.1596e-02, -1.9232e-02],\n",
            "          [ 3.3282e-02, -2.8807e-02,  1.4788e-02]],\n",
            "\n",
            "         ...,\n",
            "\n",
            "         [[ 1.6514e-03,  2.4136e-02,  8.0614e-03],\n",
            "          [-5.2399e-03,  4.2407e-02,  7.6510e-03],\n",
            "          [-2.6058e-02,  6.1091e-02, -3.3176e-02]],\n",
            "\n",
            "         [[-3.4685e-02, -2.8757e-03, -3.3689e-03],\n",
            "          [ 3.5272e-02,  3.5851e-03, -2.7498e-02],\n",
            "          [ 4.9241e-03,  3.3486e-02,  1.2586e-02]],\n",
            "\n",
            "         [[ 4.5818e-02, -4.1962e-02, -1.0586e-02],\n",
            "          [-5.0303e-02,  2.5022e-02,  1.8318e-02],\n",
            "          [-1.9771e-02, -3.1896e-02,  4.9185e-02]]],\n",
            "\n",
            "\n",
            "        [[[-5.2155e-02,  1.0773e-02, -6.7645e-02],\n",
            "          [ 1.5770e-02,  5.7693e-03,  1.3846e-02],\n",
            "          [-1.1120e-02, -7.3409e-02, -7.3415e-02]],\n",
            "\n",
            "         [[-5.3861e-02, -7.1064e-02, -3.1291e-02],\n",
            "          [-1.0022e-02,  4.1700e-04,  1.9966e-03],\n",
            "          [ 2.1033e-02,  9.1953e-03, -5.2396e-02]],\n",
            "\n",
            "         [[ 4.6071e-02, -4.7423e-02,  7.2462e-03],\n",
            "          [-2.8562e-02,  5.2235e-02, -5.2762e-02],\n",
            "          [-2.2848e-02,  3.1088e-02, -1.8671e-03]],\n",
            "\n",
            "         ...,\n",
            "\n",
            "         [[ 1.7081e-02,  1.6707e-02, -6.1054e-02],\n",
            "          [-2.0894e-02, -5.0489e-02, -5.6900e-02],\n",
            "          [-1.8510e-02, -2.4200e-02, -2.5715e-02]],\n",
            "\n",
            "         [[-1.3900e-02, -3.2933e-02,  4.6472e-02],\n",
            "          [-3.6525e-02, -6.8037e-02, -1.8924e-02],\n",
            "          [-2.2908e-02, -5.7311e-02,  1.7554e-02]],\n",
            "\n",
            "         [[-6.4261e-02,  9.6520e-03,  1.8352e-02],\n",
            "          [ 4.2401e-02, -2.5995e-02,  4.3031e-02],\n",
            "          [-1.6127e-02,  7.0622e-02,  2.4111e-02]]],\n",
            "\n",
            "\n",
            "        [[[-1.6341e-02,  9.8999e-03, -3.0006e-02],\n",
            "          [ 6.4461e-02,  2.4750e-02,  4.3063e-02],\n",
            "          [ 8.0886e-02,  5.2954e-02, -1.3739e-02]],\n",
            "\n",
            "         [[ 4.7799e-03,  1.5786e-02, -3.3279e-02],\n",
            "          [-6.5306e-02, -4.5956e-02,  7.4185e-04],\n",
            "          [-7.7107e-03, -6.9841e-02,  2.1709e-02]],\n",
            "\n",
            "         [[-3.8749e-02,  2.9526e-02,  9.7912e-03],\n",
            "          [ 2.8806e-02,  2.6925e-02, -6.9518e-02],\n",
            "          [-3.0935e-02,  3.9321e-02,  1.9476e-02]],\n",
            "\n",
            "         ...,\n",
            "\n",
            "         [[-2.2354e-02, -4.3929e-02, -1.6426e-02],\n",
            "          [ 1.3171e-02,  3.2589e-02,  1.2960e-02],\n",
            "          [ 5.6267e-02, -3.3402e-02,  5.7350e-02]],\n",
            "\n",
            "         [[ 2.1485e-02, -1.9011e-02,  1.7299e-02],\n",
            "          [-1.2918e-02,  3.3693e-02,  1.9016e-02],\n",
            "          [-3.5345e-03,  1.4975e-02, -5.1039e-02]],\n",
            "\n",
            "         [[ 6.8141e-02,  4.2021e-02,  5.6303e-02],\n",
            "          [ 4.1673e-02,  4.2845e-02,  4.4469e-02],\n",
            "          [ 3.3959e-03, -3.5618e-02,  4.5510e-02]]],\n",
            "\n",
            "\n",
            "        ...,\n",
            "\n",
            "\n",
            "        [[[-1.9387e-02, -1.2024e-02, -3.3162e-02],\n",
            "          [ 9.2559e-03, -2.4354e-02,  2.1966e-02],\n",
            "          [ 4.3332e-02, -2.1223e-02,  6.6352e-02]],\n",
            "\n",
            "         [[ 3.9792e-02,  2.4572e-02,  6.6106e-02],\n",
            "          [ 6.2777e-02,  1.9021e-02,  5.8429e-02],\n",
            "          [ 5.2568e-02,  6.1608e-02,  2.9684e-02]],\n",
            "\n",
            "         [[-1.1700e-02, -2.0804e-02, -2.3445e-02],\n",
            "          [ 1.0584e-02, -1.7633e-02, -2.2907e-03],\n",
            "          [ 1.5234e-03, -6.0925e-02, -7.6271e-02]],\n",
            "\n",
            "         ...,\n",
            "\n",
            "         [[ 1.6206e-02, -1.7172e-02,  3.1453e-02],\n",
            "          [-9.9607e-03, -3.3528e-02,  4.7705e-02],\n",
            "          [ 2.6041e-02, -4.6382e-02, -2.0823e-02]],\n",
            "\n",
            "         [[ 2.6779e-02, -2.3275e-02,  5.6871e-02],\n",
            "          [ 6.0570e-02,  3.2116e-02,  4.3266e-02],\n",
            "          [-4.7713e-02,  3.0334e-02,  5.6185e-02]],\n",
            "\n",
            "         [[-2.9666e-02,  2.2673e-02, -4.1085e-02],\n",
            "          [ 1.9477e-02,  6.2446e-02, -2.0406e-02],\n",
            "          [ 6.1722e-02, -5.2205e-02,  2.3399e-02]]],\n",
            "\n",
            "\n",
            "        [[[ 2.6948e-02,  2.8123e-03, -1.1592e-02],\n",
            "          [-2.7452e-02,  2.2126e-02, -3.9877e-02],\n",
            "          [ 3.5543e-02,  1.1808e-02,  1.1714e-02]],\n",
            "\n",
            "         [[ 4.9691e-03,  2.6355e-05,  4.8974e-02],\n",
            "          [ 6.7445e-02,  2.2981e-02,  2.1290e-02],\n",
            "          [ 4.3662e-02, -1.6564e-02, -5.7246e-02]],\n",
            "\n",
            "         [[ 3.2486e-03, -8.3239e-02, -7.9136e-02],\n",
            "          [-4.3844e-02, -1.0040e-01, -6.5414e-02],\n",
            "          [-6.3924e-02,  2.3272e-02,  3.3920e-02]],\n",
            "\n",
            "         ...,\n",
            "\n",
            "         [[-6.8000e-02, -6.9748e-02, -4.2082e-02],\n",
            "          [-3.3552e-02, -6.5152e-02, -1.1691e-02],\n",
            "          [-3.8396e-02,  3.5316e-02,  2.8020e-02]],\n",
            "\n",
            "         [[-6.2603e-02, -4.8304e-02, -2.2296e-02],\n",
            "          [ 4.0745e-02, -1.9214e-02,  2.9771e-02],\n",
            "          [ 4.5430e-02, -3.6157e-02, -3.9297e-02]],\n",
            "\n",
            "         [[-4.0124e-03,  2.2683e-02, -1.5368e-03],\n",
            "          [-1.2379e-02,  2.8776e-02,  5.0154e-02],\n",
            "          [ 3.9354e-02,  5.7837e-02,  4.6527e-02]]],\n",
            "\n",
            "\n",
            "        [[[ 8.8538e-02,  5.7774e-02,  7.0882e-02],\n",
            "          [ 6.3104e-02,  4.9165e-02, -2.6008e-03],\n",
            "          [ 4.1554e-02,  7.0385e-02,  8.4541e-02]],\n",
            "\n",
            "         [[ 4.5432e-02, -2.6932e-02,  2.2309e-02],\n",
            "          [ 4.2336e-03, -3.9089e-02,  2.4653e-02],\n",
            "          [-7.2782e-03,  3.4091e-03,  2.0505e-02]],\n",
            "\n",
            "         [[-1.9532e-02, -3.2070e-02, -2.3671e-02],\n",
            "          [-4.8849e-02, -7.0707e-02, -6.7062e-02],\n",
            "          [-6.4271e-02, -4.2739e-02, -4.8595e-02]],\n",
            "\n",
            "         ...,\n",
            "\n",
            "         [[ 1.4748e-02,  6.4593e-02,  5.5840e-02],\n",
            "          [ 1.5610e-02,  1.9775e-02,  4.5413e-02],\n",
            "          [ 6.7796e-02,  3.8237e-02,  2.1886e-03]],\n",
            "\n",
            "         [[-3.2663e-02, -2.1340e-02,  5.6855e-02],\n",
            "          [-6.0573e-03,  4.2813e-02,  5.0196e-02],\n",
            "          [ 4.5880e-02,  3.1328e-02, -1.5466e-05]],\n",
            "\n",
            "         [[-4.6754e-02, -4.0022e-02, -3.2870e-02],\n",
            "          [-6.7136e-02, -4.2801e-02, -2.3326e-02],\n",
            "          [-5.0263e-02, -1.3061e-02,  2.5802e-02]]]], device='cuda:0')), ('conv3.bias', tensor([-0.0768, -0.0257, -0.0268,  0.0289, -0.0188,  0.0672,  0.0109, -0.0605,\n",
            "         0.0723, -0.0347,  0.0573, -0.0447, -0.0478,  0.0429, -0.0586, -0.0693,\n",
            "         0.0346, -0.0296,  0.0026, -0.0333, -0.0714,  0.0107,  0.0812, -0.0728,\n",
            "        -0.0131,  0.0488,  0.0516, -0.0370, -0.0015, -0.0546,  0.0643,  0.0686,\n",
            "         0.0833, -0.0160, -0.0322, -0.0718,  0.0071,  0.0114, -0.0186, -0.0400,\n",
            "        -0.0747,  0.0298,  0.0295, -0.0492,  0.0567, -0.0326,  0.0060,  0.0254,\n",
            "        -0.0615,  0.0041, -0.0396, -0.0632, -0.0788, -0.0135,  0.0102, -0.0598,\n",
            "         0.0247, -0.0537,  0.0063, -0.0724, -0.0438,  0.0181,  0.0008,  0.0581],\n",
            "       device='cuda:0')), ('bn3.weight', tensor([1., 1., 1., 1., 1., 1., 1., 1., 1., 1., 1., 1., 1., 1., 1., 1., 1., 1.,\n",
            "        1., 1., 1., 1., 1., 1., 1., 1., 1., 1., 1., 1., 1., 1., 1., 1., 1., 1.,\n",
            "        1., 1., 1., 1., 1., 1., 1., 1., 1., 1., 1., 1., 1., 1., 1., 1., 1., 1.,\n",
            "        1., 1., 1., 1., 1., 1., 1., 1., 1., 1.], device='cuda:0')), ('bn3.bias', tensor([0., 0., 0., 0., 0., 0., 0., 0., 0., 0., 0., 0., 0., 0., 0., 0., 0., 0., 0., 0., 0., 0., 0., 0.,\n",
            "        0., 0., 0., 0., 0., 0., 0., 0., 0., 0., 0., 0., 0., 0., 0., 0., 0., 0., 0., 0., 0., 0., 0., 0.,\n",
            "        0., 0., 0., 0., 0., 0., 0., 0., 0., 0., 0., 0., 0., 0., 0., 0.],\n",
            "       device='cuda:0')), ('bn3.running_mean', tensor([0., 0., 0., 0., 0., 0., 0., 0., 0., 0., 0., 0., 0., 0., 0., 0., 0., 0., 0., 0., 0., 0., 0., 0.,\n",
            "        0., 0., 0., 0., 0., 0., 0., 0., 0., 0., 0., 0., 0., 0., 0., 0., 0., 0., 0., 0., 0., 0., 0., 0.,\n",
            "        0., 0., 0., 0., 0., 0., 0., 0., 0., 0., 0., 0., 0., 0., 0., 0.],\n",
            "       device='cuda:0')), ('bn3.running_var', tensor([1., 1., 1., 1., 1., 1., 1., 1., 1., 1., 1., 1., 1., 1., 1., 1., 1., 1.,\n",
            "        1., 1., 1., 1., 1., 1., 1., 1., 1., 1., 1., 1., 1., 1., 1., 1., 1., 1.,\n",
            "        1., 1., 1., 1., 1., 1., 1., 1., 1., 1., 1., 1., 1., 1., 1., 1., 1., 1.,\n",
            "        1., 1., 1., 1., 1., 1., 1., 1., 1., 1.], device='cuda:0')), ('bn3.num_batches_tracked', tensor(0, device='cuda:0')), ('conv4.weight', tensor([[[[ 3.4521e-02,  1.2359e-02,  6.6551e-02],\n",
            "          [ 2.3085e-02,  2.7692e-02,  4.9853e-02],\n",
            "          [ 4.8955e-02,  3.8493e-02,  4.6244e-02]],\n",
            "\n",
            "         [[-8.1121e-03,  2.8301e-02, -3.9350e-05],\n",
            "          [-1.2648e-02, -1.7104e-02,  7.3652e-03],\n",
            "          [-2.8364e-02, -3.6013e-02, -2.7116e-04]],\n",
            "\n",
            "         [[-4.5867e-02, -1.2638e-02, -2.2357e-02],\n",
            "          [ 4.0201e-03,  1.6136e-02,  6.4769e-03],\n",
            "          [ 8.7366e-03,  1.8962e-02,  3.5440e-02]],\n",
            "\n",
            "         ...,\n",
            "\n",
            "         [[-4.2160e-02,  2.6812e-02, -5.1100e-02],\n",
            "          [ 3.8033e-02,  3.5556e-02, -1.6458e-02],\n",
            "          [ 1.5398e-02,  3.6104e-02, -9.4274e-03]],\n",
            "\n",
            "         [[ 3.9703e-02,  2.6845e-02, -2.2704e-03],\n",
            "          [ 3.8758e-02,  3.6816e-02,  5.2005e-02],\n",
            "          [ 1.2166e-02, -1.1390e-02, -2.2466e-02]],\n",
            "\n",
            "         [[-2.5758e-02, -1.6595e-02, -3.1551e-02],\n",
            "          [-4.2657e-02, -4.0623e-02, -1.9740e-02],\n",
            "          [-1.4791e-02,  2.9983e-03,  2.9424e-02]]],\n",
            "\n",
            "\n",
            "        [[[-6.0861e-02, -5.6926e-02, -2.3999e-02],\n",
            "          [-6.7632e-02, -3.3590e-02,  4.7309e-03],\n",
            "          [-5.3723e-02, -1.7987e-02,  1.4654e-02]],\n",
            "\n",
            "         [[ 3.0237e-03,  8.7866e-03, -9.8320e-03],\n",
            "          [ 6.1497e-03,  9.3828e-03, -2.1273e-02],\n",
            "          [-1.6311e-02, -3.3200e-02, -5.7252e-02]],\n",
            "\n",
            "         [[ 4.2304e-02,  3.6985e-02,  1.8061e-04],\n",
            "          [ 1.8431e-02,  3.2231e-02,  1.8260e-02],\n",
            "          [ 2.9775e-03, -2.1369e-02,  1.8844e-03]],\n",
            "\n",
            "         ...,\n",
            "\n",
            "         [[ 6.5693e-03,  2.5778e-02, -1.6026e-03],\n",
            "          [-2.6636e-02, -1.6679e-02, -3.8685e-02],\n",
            "          [ 1.6498e-02, -3.6307e-02, -3.7132e-02]],\n",
            "\n",
            "         [[ 5.2764e-02,  1.8219e-02, -2.4845e-02],\n",
            "          [ 1.7381e-02, -1.0770e-02, -4.2728e-02],\n",
            "          [ 9.5578e-03, -2.4416e-02, -3.3497e-02]],\n",
            "\n",
            "         [[-1.0622e-01, -9.3042e-02, -4.6462e-03],\n",
            "          [-9.8874e-02, -3.5799e-02,  5.7628e-02],\n",
            "          [-4.4991e-02,  4.8918e-03,  7.0943e-02]]],\n",
            "\n",
            "\n",
            "        [[[-1.6925e-02, -2.4047e-02, -1.0296e-02],\n",
            "          [-3.0701e-02, -4.3066e-02, -1.0269e-02],\n",
            "          [-7.6133e-03, -1.2730e-02,  9.7307e-03]],\n",
            "\n",
            "         [[-2.0420e-02,  1.7497e-02,  2.4288e-02],\n",
            "          [ 1.3687e-02, -4.4592e-02, -7.0641e-03],\n",
            "          [ 1.2554e-02, -1.8372e-02,  2.4418e-02]],\n",
            "\n",
            "         [[ 9.1708e-03,  1.8373e-02, -1.2036e-02],\n",
            "          [-3.3925e-02,  1.7861e-03,  2.5386e-02],\n",
            "          [-1.7979e-02, -3.7969e-02, -1.7357e-02]],\n",
            "\n",
            "         ...,\n",
            "\n",
            "         [[-2.0515e-02,  1.7550e-02, -2.2062e-02],\n",
            "          [ 3.1927e-02,  2.6668e-03,  7.0346e-03],\n",
            "          [-4.3019e-03,  1.2089e-03,  1.4217e-03]],\n",
            "\n",
            "         [[-6.1611e-02, -3.4051e-02, -5.9877e-02],\n",
            "          [-3.8657e-02, -4.7313e-03, -5.5961e-02],\n",
            "          [-4.8200e-02, -3.0922e-02, -3.7669e-02]],\n",
            "\n",
            "         [[ 3.4012e-02,  2.9817e-02, -1.1578e-02],\n",
            "          [ 5.9164e-02,  2.5316e-02,  2.7233e-03],\n",
            "          [ 5.5748e-02,  6.4973e-02,  3.4203e-02]]],\n",
            "\n",
            "\n",
            "        ...,\n",
            "\n",
            "\n",
            "        [[[-4.5701e-02, -4.3171e-02, -5.9234e-02],\n",
            "          [-5.0739e-02, -3.5914e-02, -5.7054e-02],\n",
            "          [-6.5998e-02, -6.1611e-02, -6.8162e-02]],\n",
            "\n",
            "         [[-2.0180e-02,  1.5193e-02, -1.3057e-02],\n",
            "          [-1.5197e-03, -7.8398e-03,  1.7288e-02],\n",
            "          [-2.0255e-02, -2.8386e-02, -2.3880e-04]],\n",
            "\n",
            "         [[ 2.9251e-02,  2.3681e-02,  1.4295e-02],\n",
            "          [-1.6101e-02, -2.2111e-02, -4.8075e-02],\n",
            "          [-5.9281e-02, -8.0832e-02, -1.0490e-02]],\n",
            "\n",
            "         ...,\n",
            "\n",
            "         [[ 5.1393e-02, -1.4484e-02, -1.3335e-02],\n",
            "          [ 2.2257e-02,  3.4758e-02,  1.6261e-02],\n",
            "          [ 1.2391e-02,  6.6986e-03,  4.2709e-02]],\n",
            "\n",
            "         [[ 2.2128e-02, -1.5766e-02, -2.3316e-02],\n",
            "          [ 2.6575e-02, -1.5144e-02, -6.7322e-03],\n",
            "          [ 3.2193e-02,  1.5100e-02,  5.8396e-02]],\n",
            "\n",
            "         [[-5.5859e-03,  4.9556e-02,  3.2979e-02],\n",
            "          [ 1.3876e-02,  1.3120e-02,  3.1170e-02],\n",
            "          [ 2.7007e-03,  1.6184e-02, -2.2771e-02]]],\n",
            "\n",
            "\n",
            "        [[[-6.3470e-03,  1.8072e-02,  3.8873e-02],\n",
            "          [-2.3139e-02,  2.1961e-03,  2.2004e-02],\n",
            "          [-2.5790e-02, -1.4013e-02,  4.6313e-03]],\n",
            "\n",
            "         [[-1.8118e-02,  3.7809e-03,  5.0786e-02],\n",
            "          [-2.7267e-02,  1.1492e-02,  4.3891e-02],\n",
            "          [-2.6037e-02, -6.8791e-03,  3.8750e-02]],\n",
            "\n",
            "         [[-5.1213e-02,  1.3174e-03,  7.8278e-02],\n",
            "          [-5.8037e-02,  1.5192e-02,  6.6400e-02],\n",
            "          [-4.8781e-02, -3.4783e-02,  5.6150e-02]],\n",
            "\n",
            "         ...,\n",
            "\n",
            "         [[-1.6080e-03, -3.3051e-03,  3.2040e-02],\n",
            "          [-6.0533e-03,  5.8539e-04, -1.5851e-02],\n",
            "          [-1.3691e-03,  1.9333e-02,  2.3978e-02]],\n",
            "\n",
            "         [[-4.8789e-02, -2.5115e-02, -1.6038e-02],\n",
            "          [-4.0782e-02, -1.7268e-02, -2.4073e-02],\n",
            "          [ 7.2997e-03,  1.7792e-02, -1.4437e-02]],\n",
            "\n",
            "         [[-2.8588e-03,  2.3466e-02, -1.6422e-02],\n",
            "          [-1.5741e-03,  6.9724e-03, -2.6409e-03],\n",
            "          [-1.8860e-02,  1.9526e-02, -2.0403e-02]]],\n",
            "\n",
            "\n",
            "        [[[-4.3784e-03,  6.1047e-03, -1.0346e-02],\n",
            "          [ 8.3842e-04,  1.0134e-02, -2.4429e-02],\n",
            "          [-1.3183e-02, -2.0655e-03, -2.6359e-02]],\n",
            "\n",
            "         [[-4.2838e-02, -2.5398e-02, -3.8538e-02],\n",
            "          [-6.7338e-03, -3.0121e-02, -3.0951e-03],\n",
            "          [-2.1064e-02, -4.0353e-02, -2.2206e-02]],\n",
            "\n",
            "         [[-5.4801e-04, -1.2111e-02, -3.3992e-02],\n",
            "          [ 1.4505e-02, -3.5597e-02, -8.7769e-03],\n",
            "          [ 2.0042e-02, -2.0453e-02, -2.0280e-02]],\n",
            "\n",
            "         ...,\n",
            "\n",
            "         [[ 5.1578e-03, -2.4119e-02, -3.3774e-02],\n",
            "          [-2.2008e-02, -6.1237e-02, -1.5662e-02],\n",
            "          [-3.1620e-02, -4.7935e-02,  2.6858e-03]],\n",
            "\n",
            "         [[ 1.8079e-02, -9.4608e-03, -4.6973e-02],\n",
            "          [-2.9831e-03, -5.9439e-02, -2.0219e-02],\n",
            "          [-5.6568e-02, -6.3672e-02, -2.9186e-02]],\n",
            "\n",
            "         [[-3.4176e-02,  3.5971e-02,  7.9791e-03],\n",
            "          [ 1.4968e-03,  3.8092e-02, -6.6035e-03],\n",
            "          [ 1.3627e-02,  1.0184e-02, -1.2211e-02]]]], device='cuda:0')), ('conv4.bias', tensor([-0.0492,  0.0239,  0.0452,  0.0146, -0.0709,  0.0241,  0.0430,  0.0034,\n",
            "         0.0425, -0.0120, -0.0373, -0.0272, -0.0238, -0.0078, -0.0102,  0.0472,\n",
            "         0.0596, -0.0538, -0.0187,  0.0159,  0.0115, -0.0433,  0.0565, -0.0306,\n",
            "        -0.0582, -0.0515, -0.0364, -0.0001, -0.0407, -0.0377, -0.0351, -0.0236,\n",
            "         0.0675,  0.0520,  0.0341, -0.0664,  0.0186, -0.0695, -0.0431,  0.0465,\n",
            "         0.0327,  0.0046,  0.0573, -0.0689, -0.0450, -0.0465, -0.0374,  0.0157,\n",
            "        -0.0490,  0.0621,  0.0145, -0.0145,  0.0553, -0.0386, -0.0055,  0.0742,\n",
            "         0.0591, -0.0216,  0.0342, -0.0155, -0.0475, -0.0170, -0.0204, -0.0400,\n",
            "         0.0212, -0.0168, -0.0404, -0.0401, -0.0405, -0.0029, -0.0688,  0.0510,\n",
            "        -0.0264, -0.0050, -0.0346,  0.0199,  0.0768, -0.0408,  0.0095, -0.0184,\n",
            "         0.0095,  0.0620,  0.0684, -0.0230, -0.0461,  0.0481, -0.0276, -0.0419,\n",
            "        -0.0418,  0.0251, -0.0009,  0.0424, -0.0190, -0.0415,  0.0236,  0.0125,\n",
            "         0.0122,  0.0568,  0.0608,  0.0404, -0.0318,  0.0446,  0.0427, -0.0193,\n",
            "         0.0494, -0.0299, -0.0305,  0.0616, -0.0285, -0.0445, -0.0093,  0.0085,\n",
            "         0.0503,  0.0094, -0.0326, -0.0184, -0.0174, -0.0471, -0.0160,  0.0432,\n",
            "        -0.0425, -0.0157,  0.0762,  0.0009, -0.0190, -0.0041, -0.0201, -0.0188],\n",
            "       device='cuda:0')), ('bn4.weight', tensor([1., 1., 1., 1., 1., 1., 1., 1., 1., 1., 1., 1., 1., 1., 1., 1., 1., 1.,\n",
            "        1., 1., 1., 1., 1., 1., 1., 1., 1., 1., 1., 1., 1., 1., 1., 1., 1., 1.,\n",
            "        1., 1., 1., 1., 1., 1., 1., 1., 1., 1., 1., 1., 1., 1., 1., 1., 1., 1.,\n",
            "        1., 1., 1., 1., 1., 1., 1., 1., 1., 1., 1., 1., 1., 1., 1., 1., 1., 1.,\n",
            "        1., 1., 1., 1., 1., 1., 1., 1., 1., 1., 1., 1., 1., 1., 1., 1., 1., 1.,\n",
            "        1., 1., 1., 1., 1., 1., 1., 1., 1., 1., 1., 1., 1., 1., 1., 1., 1., 1.,\n",
            "        1., 1., 1., 1., 1., 1., 1., 1., 1., 1., 1., 1., 1., 1., 1., 1., 1., 1.,\n",
            "        1., 1.], device='cuda:0')), ('bn4.bias', tensor([0., 0., 0., 0., 0., 0., 0., 0., 0., 0., 0., 0., 0., 0., 0., 0., 0., 0., 0., 0., 0., 0., 0., 0.,\n",
            "        0., 0., 0., 0., 0., 0., 0., 0., 0., 0., 0., 0., 0., 0., 0., 0., 0., 0., 0., 0., 0., 0., 0., 0.,\n",
            "        0., 0., 0., 0., 0., 0., 0., 0., 0., 0., 0., 0., 0., 0., 0., 0., 0., 0., 0., 0., 0., 0., 0., 0.,\n",
            "        0., 0., 0., 0., 0., 0., 0., 0., 0., 0., 0., 0., 0., 0., 0., 0., 0., 0., 0., 0., 0., 0., 0., 0.,\n",
            "        0., 0., 0., 0., 0., 0., 0., 0., 0., 0., 0., 0., 0., 0., 0., 0., 0., 0., 0., 0., 0., 0., 0., 0.,\n",
            "        0., 0., 0., 0., 0., 0., 0., 0.], device='cuda:0')), ('bn4.running_mean', tensor([0., 0., 0., 0., 0., 0., 0., 0., 0., 0., 0., 0., 0., 0., 0., 0., 0., 0., 0., 0., 0., 0., 0., 0.,\n",
            "        0., 0., 0., 0., 0., 0., 0., 0., 0., 0., 0., 0., 0., 0., 0., 0., 0., 0., 0., 0., 0., 0., 0., 0.,\n",
            "        0., 0., 0., 0., 0., 0., 0., 0., 0., 0., 0., 0., 0., 0., 0., 0., 0., 0., 0., 0., 0., 0., 0., 0.,\n",
            "        0., 0., 0., 0., 0., 0., 0., 0., 0., 0., 0., 0., 0., 0., 0., 0., 0., 0., 0., 0., 0., 0., 0., 0.,\n",
            "        0., 0., 0., 0., 0., 0., 0., 0., 0., 0., 0., 0., 0., 0., 0., 0., 0., 0., 0., 0., 0., 0., 0., 0.,\n",
            "        0., 0., 0., 0., 0., 0., 0., 0.], device='cuda:0')), ('bn4.running_var', tensor([1., 1., 1., 1., 1., 1., 1., 1., 1., 1., 1., 1., 1., 1., 1., 1., 1., 1.,\n",
            "        1., 1., 1., 1., 1., 1., 1., 1., 1., 1., 1., 1., 1., 1., 1., 1., 1., 1.,\n",
            "        1., 1., 1., 1., 1., 1., 1., 1., 1., 1., 1., 1., 1., 1., 1., 1., 1., 1.,\n",
            "        1., 1., 1., 1., 1., 1., 1., 1., 1., 1., 1., 1., 1., 1., 1., 1., 1., 1.,\n",
            "        1., 1., 1., 1., 1., 1., 1., 1., 1., 1., 1., 1., 1., 1., 1., 1., 1., 1.,\n",
            "        1., 1., 1., 1., 1., 1., 1., 1., 1., 1., 1., 1., 1., 1., 1., 1., 1., 1.,\n",
            "        1., 1., 1., 1., 1., 1., 1., 1., 1., 1., 1., 1., 1., 1., 1., 1., 1., 1.,\n",
            "        1., 1.], device='cuda:0')), ('bn4.num_batches_tracked', tensor(0, device='cuda:0')), ('conv5.weight', tensor([[[[-1.4422e-02, -1.1466e-02, -9.3135e-03],\n",
            "          [-1.3771e-02, -1.1993e-02, -9.5504e-03],\n",
            "          [-7.7014e-03, -6.8508e-03, -6.8825e-03]],\n",
            "\n",
            "         [[-1.7494e-02, -1.2782e-02, -1.4911e-02],\n",
            "          [-1.5593e-02, -1.1660e-02, -1.0468e-02],\n",
            "          [-1.3438e-02, -1.0716e-02, -1.1862e-02]],\n",
            "\n",
            "         [[-1.0758e-02, -2.1103e-02, -9.5102e-04],\n",
            "          [-2.4777e-03, -6.0551e-03, -1.1575e-02],\n",
            "          [-2.2505e-02, -1.7129e-02, -1.4026e-02]],\n",
            "\n",
            "         ...,\n",
            "\n",
            "         [[-6.0116e-03, -3.5234e-03, -2.4669e-03],\n",
            "          [-4.3748e-03, -9.6120e-04,  8.4319e-04],\n",
            "          [-8.4564e-03, -3.5636e-03, -3.0483e-03]],\n",
            "\n",
            "         [[ 1.0531e-02,  5.3427e-03,  4.8737e-03],\n",
            "          [ 8.6675e-03,  6.2693e-03,  7.7371e-03],\n",
            "          [ 1.0413e-02,  4.2387e-03,  7.0406e-03]],\n",
            "\n",
            "         [[ 5.6117e-03,  3.9731e-03,  4.9928e-03],\n",
            "          [ 1.2864e-03,  8.2237e-04,  7.1279e-04],\n",
            "          [-4.1548e-04,  6.7085e-04,  4.1528e-03]]],\n",
            "\n",
            "\n",
            "        [[[ 2.9060e-02,  1.1279e-02,  2.7387e-02],\n",
            "          [ 2.0546e-03, -5.4271e-02, -6.1855e-02],\n",
            "          [-3.7763e-03, -8.1347e-02, -3.6498e-02]],\n",
            "\n",
            "         [[ 1.1905e-02, -1.8095e-02, -1.3476e-02],\n",
            "          [ 1.1684e-02, -1.9403e-02,  6.2287e-03],\n",
            "          [-7.1127e-04, -2.5821e-02, -7.0636e-03]],\n",
            "\n",
            "         [[ 1.8058e-02,  2.2806e-02,  8.5877e-03],\n",
            "          [ 1.5351e-02,  2.1061e-02, -4.9280e-02],\n",
            "          [-4.8798e-04, -3.3081e-02, -3.5681e-02]],\n",
            "\n",
            "         ...,\n",
            "\n",
            "         [[ 6.1445e-02,  4.4059e-02,  1.9558e-02],\n",
            "          [ 8.2162e-03, -2.8434e-02, -2.1426e-02],\n",
            "          [-1.4911e-02, -2.6289e-02,  1.3326e-03]],\n",
            "\n",
            "         [[-7.5869e-02, -4.5444e-02, -1.6515e-02],\n",
            "          [-4.2920e-02, -3.3174e-02, -2.8818e-03],\n",
            "          [-3.4092e-02,  5.8668e-04,  2.2679e-02]],\n",
            "\n",
            "         [[-2.0361e-03, -6.8504e-03,  1.2258e-02],\n",
            "          [ 1.8092e-03,  2.4698e-02,  1.3589e-02],\n",
            "          [ 7.9547e-05,  1.2178e-02,  2.1671e-02]]],\n",
            "\n",
            "\n",
            "        [[[-3.6036e-02, -3.7376e-02, -9.8923e-03],\n",
            "          [-9.9317e-02, -5.0860e-02,  2.5419e-02],\n",
            "          [-5.6782e-02, -4.5804e-02,  2.2531e-02]],\n",
            "\n",
            "         [[ 6.4931e-02,  8.6005e-02,  3.2691e-02],\n",
            "          [ 6.5143e-02,  4.7578e-02, -4.7224e-02],\n",
            "          [ 9.7068e-02,  2.5076e-02, -3.9028e-02]],\n",
            "\n",
            "         [[-5.0069e-02, -1.9473e-02, -8.8603e-03],\n",
            "          [-1.4072e-02,  2.6079e-02,  4.6013e-02],\n",
            "          [-5.6780e-02, -1.7720e-02,  2.8453e-02]],\n",
            "\n",
            "         ...,\n",
            "\n",
            "         [[-9.5870e-02,  2.0144e-02,  7.3528e-02],\n",
            "          [-6.7482e-02,  4.1722e-02,  4.6732e-02],\n",
            "          [-4.1188e-02, -1.2775e-02, -1.8867e-02]],\n",
            "\n",
            "         [[-7.4782e-02,  8.0119e-03,  1.5803e-02],\n",
            "          [-3.7617e-02, -1.2565e-03,  2.2371e-02],\n",
            "          [-2.9171e-02, -1.1695e-02,  1.2156e-02]],\n",
            "\n",
            "         [[ 1.0033e-02,  3.4814e-02,  4.1069e-02],\n",
            "          [-9.6960e-03,  5.9158e-02, -9.7481e-03],\n",
            "          [ 1.4119e-02,  4.1463e-02, -4.5440e-02]]],\n",
            "\n",
            "\n",
            "        ...,\n",
            "\n",
            "\n",
            "        [[[ 1.0351e-02, -3.5124e-02, -4.2148e-03],\n",
            "          [-2.2230e-02, -2.5345e-02, -4.2192e-03],\n",
            "          [-1.6484e-02, -9.0407e-03, -5.1411e-03]],\n",
            "\n",
            "         [[-1.0382e-02, -2.1972e-02, -3.3309e-03],\n",
            "          [-2.3430e-02, -4.1957e-02, -2.9490e-02],\n",
            "          [-1.1406e-03,  6.2643e-03,  1.5646e-02]],\n",
            "\n",
            "         [[-5.0665e-03, -5.6199e-02, -5.5663e-02],\n",
            "          [-1.5817e-03, -6.6944e-02, -7.7755e-02],\n",
            "          [-2.6492e-03, -5.5603e-02, -4.3738e-02]],\n",
            "\n",
            "         ...,\n",
            "\n",
            "         [[-2.0575e-02, -5.0331e-02, -1.7551e-02],\n",
            "          [-5.6483e-02, -9.5610e-02, -7.1619e-02],\n",
            "          [-3.9847e-02, -8.0025e-02, -7.9717e-02]],\n",
            "\n",
            "         [[-2.3588e-02,  6.6681e-03,  5.0713e-02],\n",
            "          [-3.1638e-02, -9.4019e-03,  2.7058e-02],\n",
            "          [-3.1419e-02,  2.8904e-04,  6.5707e-03]],\n",
            "\n",
            "         [[-3.4720e-03, -3.5418e-02, -2.7682e-03],\n",
            "          [-2.0181e-02, -3.3246e-02, -1.8100e-02],\n",
            "          [-1.2452e-02, -3.4466e-02, -2.2988e-02]]],\n",
            "\n",
            "\n",
            "        [[[-5.4384e-02, -2.2858e-02,  4.5415e-02],\n",
            "          [-4.1597e-02, -4.2831e-02,  2.6224e-02],\n",
            "          [-3.3406e-02, -2.3263e-02,  3.9473e-02]],\n",
            "\n",
            "         [[ 2.6899e-02, -3.3793e-02, -2.5458e-02],\n",
            "          [ 1.8032e-03, -3.8248e-02, -5.5444e-02],\n",
            "          [ 3.5222e-02, -3.0535e-02, -6.6723e-02]],\n",
            "\n",
            "         [[ 6.2845e-02,  2.7397e-02, -1.4676e-02],\n",
            "          [ 4.8529e-02,  1.0943e-02, -3.8053e-02],\n",
            "          [-1.3911e-02, -2.0829e-02, -1.5214e-02]],\n",
            "\n",
            "         ...,\n",
            "\n",
            "         [[ 8.2439e-04,  2.5151e-02,  2.8756e-02],\n",
            "          [ 3.2817e-02,  2.1991e-02, -2.7551e-02],\n",
            "          [ 5.5564e-03, -1.8340e-02, -3.4656e-02]],\n",
            "\n",
            "         [[-2.1851e-02, -5.5157e-02, -2.7085e-02],\n",
            "          [-3.3547e-03, -6.3560e-02, -3.1556e-02],\n",
            "          [ 1.5269e-02,  9.3259e-04, -6.0886e-03]],\n",
            "\n",
            "         [[-1.8568e-02, -1.1471e-02, -1.7607e-02],\n",
            "          [ 1.6245e-02,  4.6410e-03, -6.7493e-02],\n",
            "          [ 1.0019e-02, -2.6789e-02, -5.6734e-02]]],\n",
            "\n",
            "\n",
            "        [[[-5.3187e-03, -3.0150e-03, -1.5697e-03],\n",
            "          [-5.9951e-03, -4.4186e-03, -3.0701e-03],\n",
            "          [-6.7301e-03, -5.0450e-03, -3.4863e-03]],\n",
            "\n",
            "         [[-7.6423e-03, -8.4149e-03, -5.6879e-03],\n",
            "          [-3.7992e-03, -4.5795e-03, -1.2770e-03],\n",
            "          [-7.5227e-03, -5.6112e-03,  2.8828e-03]],\n",
            "\n",
            "         [[-1.0507e-02, -7.4952e-03, -7.6069e-03],\n",
            "          [-4.2914e-03, -5.5960e-03, -1.1607e-02],\n",
            "          [-3.0384e-04, -6.8818e-03, -4.1993e-03]],\n",
            "\n",
            "         ...,\n",
            "\n",
            "         [[-6.9132e-03, -8.0621e-03, -9.4989e-03],\n",
            "          [-2.5106e-03, -1.5175e-03, -4.1901e-03],\n",
            "          [ 3.0714e-04, -1.5682e-03, -2.9168e-03]],\n",
            "\n",
            "         [[-4.0984e-03, -4.5996e-03, -8.0247e-03],\n",
            "          [ 8.4847e-04, -8.5362e-04, -9.3955e-03],\n",
            "          [ 1.2761e-03,  6.9903e-03, -6.2891e-03]],\n",
            "\n",
            "         [[-1.3159e-02, -7.4732e-03, -1.0695e-02],\n",
            "          [-7.2839e-03, -2.0003e-03, -9.9309e-03],\n",
            "          [-7.6590e-03, -2.9188e-03, -8.5129e-03]]]], device='cuda:0')), ('conv5.bias', tensor([-1.6320e-02, -2.1181e-02, -4.8143e-02, -2.8640e-02,  1.2723e-02,\n",
            "        -3.6265e-02,  3.2507e-03, -7.3259e-03, -1.9776e-02, -1.0452e-03,\n",
            "         2.1035e-02, -4.1714e-02, -2.1057e-02, -3.4265e-02,  3.8001e-02,\n",
            "         3.9618e-02,  6.5309e-02, -4.8100e-02,  1.6825e-02,  5.1048e-04,\n",
            "        -3.7552e-02,  5.8791e-03, -1.1690e-02,  2.0521e-02,  7.3955e-02,\n",
            "        -2.5630e-02, -2.0209e-02, -4.0424e-02, -2.1469e-02, -1.1154e-03,\n",
            "         2.8362e-02, -1.6542e-02, -2.6630e-02,  4.3542e-02, -1.7260e-02,\n",
            "        -3.3810e-02, -2.6032e-04,  8.4348e-03, -3.7736e-02,  1.9076e-02,\n",
            "        -4.3299e-02, -4.5105e-02,  3.1300e-02, -2.6658e-02, -2.2305e-02,\n",
            "        -1.2019e-02, -4.5312e-02,  1.6381e-02, -2.4244e-02, -2.7965e-02,\n",
            "        -2.4591e-02,  6.5776e-03,  2.9927e-02, -1.3907e-02, -2.7668e-02,\n",
            "         2.6703e-02,  7.5629e-03, -2.4303e-02,  3.9596e-02,  5.4231e-03,\n",
            "         3.4741e-02,  4.7786e-03,  1.9390e-02, -5.5015e-02,  2.9356e-03,\n",
            "        -2.7216e-02, -4.2511e-03, -3.2028e-02,  5.2932e-02, -6.2214e-02,\n",
            "        -2.9960e-02, -1.7161e-02, -3.6512e-02,  6.2973e-04,  4.6747e-02,\n",
            "        -6.8471e-03,  1.3897e-02, -5.0663e-02, -3.0914e-02,  5.0751e-02,\n",
            "        -4.0236e-02, -3.2953e-02,  3.6815e-02, -5.7658e-02,  1.8367e-02,\n",
            "         3.0667e-02, -1.9015e-02,  2.0825e-02,  4.7297e-02,  3.3088e-02,\n",
            "        -3.7891e-02, -1.4606e-02, -2.3873e-02, -6.5827e-02, -1.8519e-02,\n",
            "        -2.9976e-02,  1.6888e-03,  2.2707e-02, -2.5559e-02, -1.9361e-02,\n",
            "        -1.3997e-02,  1.8910e-02,  3.1596e-03,  1.4019e-02, -4.0648e-02,\n",
            "         2.1523e-02, -3.4412e-02, -8.4950e-03,  6.1910e-02,  4.7841e-02,\n",
            "         2.9553e-02, -2.4042e-02, -4.4081e-02,  2.0095e-02, -1.8373e-02,\n",
            "        -2.9943e-02, -2.3043e-02,  3.2646e-02,  1.6107e-02, -1.6393e-02,\n",
            "         2.5899e-02,  2.2415e-02,  3.1026e-02,  2.1874e-02, -3.1652e-02,\n",
            "        -7.7928e-02, -2.8322e-02, -3.7640e-02,  1.5094e-02, -2.2396e-02,\n",
            "        -3.5358e-02, -7.8143e-03, -6.2533e-02, -1.2339e-02, -3.1627e-02,\n",
            "        -2.6473e-02, -1.4878e-02, -3.4417e-02,  4.0412e-02, -2.1495e-02,\n",
            "        -2.7164e-02,  3.8574e-02,  4.5484e-02, -1.8804e-02, -1.1622e-02,\n",
            "        -1.9094e-02, -3.5416e-02,  1.0407e-02, -3.9316e-02, -8.2277e-03,\n",
            "        -7.5294e-02,  6.6057e-02,  6.1287e-03, -8.6831e-02, -2.9449e-02,\n",
            "         1.3372e-02, -4.9411e-02, -4.1319e-02,  4.0649e-02,  1.0366e-02,\n",
            "        -2.6685e-02,  1.3528e-02,  1.2381e-02, -9.1098e-03, -1.6153e-02,\n",
            "        -3.6514e-02, -2.8482e-02,  2.8047e-02, -3.7157e-02, -5.5911e-02,\n",
            "        -2.8285e-02, -3.1837e-02, -3.5270e-02, -3.2411e-02, -3.6600e-02,\n",
            "         1.2813e-02, -2.3304e-02, -4.0040e-02,  1.3945e-02, -2.1867e-02,\n",
            "        -3.2916e-02, -2.2872e-02,  2.5311e-02,  4.4240e-02, -2.0633e-04,\n",
            "        -2.7729e-02, -2.8707e-02, -2.8069e-02,  4.8955e-02, -5.2349e-02,\n",
            "        -7.8506e-03, -2.5377e-02, -2.9273e-02,  9.3697e-03,  4.9220e-02,\n",
            "        -3.8562e-02, -4.9575e-02,  1.9319e-02,  3.2557e-02,  4.4880e-02,\n",
            "        -2.4801e-02, -2.9972e-02,  2.0124e-03, -4.3607e-03, -8.7426e-03,\n",
            "        -2.7286e-02, -2.7632e-02, -2.5233e-02, -3.8238e-02, -3.6644e-02,\n",
            "        -3.0283e-03,  4.6758e-02, -5.9193e-02, -7.1783e-02,  2.3732e-02,\n",
            "        -4.5410e-02, -2.4802e-02,  5.7121e-02,  2.6452e-05,  4.6249e-02,\n",
            "         3.6338e-04, -1.2820e-02, -4.6817e-02,  1.3350e-02, -2.3238e-02,\n",
            "         3.6626e-02,  3.8764e-02,  5.5529e-02, -4.5645e-02,  1.0625e-02,\n",
            "        -4.4306e-02, -1.7318e-02,  3.5862e-02,  4.1639e-02, -2.2722e-02,\n",
            "        -3.6050e-02,  5.5754e-02,  1.0193e-02,  6.0566e-02,  5.3228e-02,\n",
            "        -2.5497e-02, -1.5164e-02,  8.8022e-03, -1.4815e-03, -5.9530e-02,\n",
            "        -4.7235e-02, -8.5144e-03,  2.5970e-02,  1.5590e-02,  4.6402e-02,\n",
            "        -2.0996e-02, -4.6061e-02,  7.6473e-03,  3.0823e-02, -2.8574e-03,\n",
            "        -1.8035e-02], device='cuda:0')), ('bn5.weight', tensor([1., 1., 1., 1., 1., 1., 1., 1., 1., 1., 1., 1., 1., 1., 1., 1., 1., 1.,\n",
            "        1., 1., 1., 1., 1., 1., 1., 1., 1., 1., 1., 1., 1., 1., 1., 1., 1., 1.,\n",
            "        1., 1., 1., 1., 1., 1., 1., 1., 1., 1., 1., 1., 1., 1., 1., 1., 1., 1.,\n",
            "        1., 1., 1., 1., 1., 1., 1., 1., 1., 1., 1., 1., 1., 1., 1., 1., 1., 1.,\n",
            "        1., 1., 1., 1., 1., 1., 1., 1., 1., 1., 1., 1., 1., 1., 1., 1., 1., 1.,\n",
            "        1., 1., 1., 1., 1., 1., 1., 1., 1., 1., 1., 1., 1., 1., 1., 1., 1., 1.,\n",
            "        1., 1., 1., 1., 1., 1., 1., 1., 1., 1., 1., 1., 1., 1., 1., 1., 1., 1.,\n",
            "        1., 1., 1., 1., 1., 1., 1., 1., 1., 1., 1., 1., 1., 1., 1., 1., 1., 1.,\n",
            "        1., 1., 1., 1., 1., 1., 1., 1., 1., 1., 1., 1., 1., 1., 1., 1., 1., 1.,\n",
            "        1., 1., 1., 1., 1., 1., 1., 1., 1., 1., 1., 1., 1., 1., 1., 1., 1., 1.,\n",
            "        1., 1., 1., 1., 1., 1., 1., 1., 1., 1., 1., 1., 1., 1., 1., 1., 1., 1.,\n",
            "        1., 1., 1., 1., 1., 1., 1., 1., 1., 1., 1., 1., 1., 1., 1., 1., 1., 1.,\n",
            "        1., 1., 1., 1., 1., 1., 1., 1., 1., 1., 1., 1., 1., 1., 1., 1., 1., 1.,\n",
            "        1., 1., 1., 1., 1., 1., 1., 1., 1., 1., 1., 1., 1., 1., 1., 1., 1., 1.,\n",
            "        1., 1., 1., 1.], device='cuda:0')), ('bn5.bias', tensor([0., 0., 0., 0., 0., 0., 0., 0., 0., 0., 0., 0., 0., 0., 0., 0., 0., 0., 0., 0., 0., 0., 0., 0.,\n",
            "        0., 0., 0., 0., 0., 0., 0., 0., 0., 0., 0., 0., 0., 0., 0., 0., 0., 0., 0., 0., 0., 0., 0., 0.,\n",
            "        0., 0., 0., 0., 0., 0., 0., 0., 0., 0., 0., 0., 0., 0., 0., 0., 0., 0., 0., 0., 0., 0., 0., 0.,\n",
            "        0., 0., 0., 0., 0., 0., 0., 0., 0., 0., 0., 0., 0., 0., 0., 0., 0., 0., 0., 0., 0., 0., 0., 0.,\n",
            "        0., 0., 0., 0., 0., 0., 0., 0., 0., 0., 0., 0., 0., 0., 0., 0., 0., 0., 0., 0., 0., 0., 0., 0.,\n",
            "        0., 0., 0., 0., 0., 0., 0., 0., 0., 0., 0., 0., 0., 0., 0., 0., 0., 0., 0., 0., 0., 0., 0., 0.,\n",
            "        0., 0., 0., 0., 0., 0., 0., 0., 0., 0., 0., 0., 0., 0., 0., 0., 0., 0., 0., 0., 0., 0., 0., 0.,\n",
            "        0., 0., 0., 0., 0., 0., 0., 0., 0., 0., 0., 0., 0., 0., 0., 0., 0., 0., 0., 0., 0., 0., 0., 0.,\n",
            "        0., 0., 0., 0., 0., 0., 0., 0., 0., 0., 0., 0., 0., 0., 0., 0., 0., 0., 0., 0., 0., 0., 0., 0.,\n",
            "        0., 0., 0., 0., 0., 0., 0., 0., 0., 0., 0., 0., 0., 0., 0., 0., 0., 0., 0., 0., 0., 0., 0., 0.,\n",
            "        0., 0., 0., 0., 0., 0., 0., 0., 0., 0., 0., 0., 0., 0., 0., 0.],\n",
            "       device='cuda:0')), ('bn5.running_mean', tensor([0., 0., 0., 0., 0., 0., 0., 0., 0., 0., 0., 0., 0., 0., 0., 0., 0., 0., 0., 0., 0., 0., 0., 0.,\n",
            "        0., 0., 0., 0., 0., 0., 0., 0., 0., 0., 0., 0., 0., 0., 0., 0., 0., 0., 0., 0., 0., 0., 0., 0.,\n",
            "        0., 0., 0., 0., 0., 0., 0., 0., 0., 0., 0., 0., 0., 0., 0., 0., 0., 0., 0., 0., 0., 0., 0., 0.,\n",
            "        0., 0., 0., 0., 0., 0., 0., 0., 0., 0., 0., 0., 0., 0., 0., 0., 0., 0., 0., 0., 0., 0., 0., 0.,\n",
            "        0., 0., 0., 0., 0., 0., 0., 0., 0., 0., 0., 0., 0., 0., 0., 0., 0., 0., 0., 0., 0., 0., 0., 0.,\n",
            "        0., 0., 0., 0., 0., 0., 0., 0., 0., 0., 0., 0., 0., 0., 0., 0., 0., 0., 0., 0., 0., 0., 0., 0.,\n",
            "        0., 0., 0., 0., 0., 0., 0., 0., 0., 0., 0., 0., 0., 0., 0., 0., 0., 0., 0., 0., 0., 0., 0., 0.,\n",
            "        0., 0., 0., 0., 0., 0., 0., 0., 0., 0., 0., 0., 0., 0., 0., 0., 0., 0., 0., 0., 0., 0., 0., 0.,\n",
            "        0., 0., 0., 0., 0., 0., 0., 0., 0., 0., 0., 0., 0., 0., 0., 0., 0., 0., 0., 0., 0., 0., 0., 0.,\n",
            "        0., 0., 0., 0., 0., 0., 0., 0., 0., 0., 0., 0., 0., 0., 0., 0., 0., 0., 0., 0., 0., 0., 0., 0.,\n",
            "        0., 0., 0., 0., 0., 0., 0., 0., 0., 0., 0., 0., 0., 0., 0., 0.],\n",
            "       device='cuda:0')), ('bn5.running_var', tensor([1., 1., 1., 1., 1., 1., 1., 1., 1., 1., 1., 1., 1., 1., 1., 1., 1., 1.,\n",
            "        1., 1., 1., 1., 1., 1., 1., 1., 1., 1., 1., 1., 1., 1., 1., 1., 1., 1.,\n",
            "        1., 1., 1., 1., 1., 1., 1., 1., 1., 1., 1., 1., 1., 1., 1., 1., 1., 1.,\n",
            "        1., 1., 1., 1., 1., 1., 1., 1., 1., 1., 1., 1., 1., 1., 1., 1., 1., 1.,\n",
            "        1., 1., 1., 1., 1., 1., 1., 1., 1., 1., 1., 1., 1., 1., 1., 1., 1., 1.,\n",
            "        1., 1., 1., 1., 1., 1., 1., 1., 1., 1., 1., 1., 1., 1., 1., 1., 1., 1.,\n",
            "        1., 1., 1., 1., 1., 1., 1., 1., 1., 1., 1., 1., 1., 1., 1., 1., 1., 1.,\n",
            "        1., 1., 1., 1., 1., 1., 1., 1., 1., 1., 1., 1., 1., 1., 1., 1., 1., 1.,\n",
            "        1., 1., 1., 1., 1., 1., 1., 1., 1., 1., 1., 1., 1., 1., 1., 1., 1., 1.,\n",
            "        1., 1., 1., 1., 1., 1., 1., 1., 1., 1., 1., 1., 1., 1., 1., 1., 1., 1.,\n",
            "        1., 1., 1., 1., 1., 1., 1., 1., 1., 1., 1., 1., 1., 1., 1., 1., 1., 1.,\n",
            "        1., 1., 1., 1., 1., 1., 1., 1., 1., 1., 1., 1., 1., 1., 1., 1., 1., 1.,\n",
            "        1., 1., 1., 1., 1., 1., 1., 1., 1., 1., 1., 1., 1., 1., 1., 1., 1., 1.,\n",
            "        1., 1., 1., 1., 1., 1., 1., 1., 1., 1., 1., 1., 1., 1., 1., 1., 1., 1.,\n",
            "        1., 1., 1., 1.], device='cuda:0')), ('bn5.num_batches_tracked', tensor(0, device='cuda:0')), ('fc1.weight', tensor([[ 3.7942e-03,  3.9180e-03,  3.5488e-04,  ...,  7.0387e-03,\n",
            "          1.9801e-03,  1.4892e-03],\n",
            "        [-4.7748e-04, -1.0758e-03,  4.6617e-04,  ...,  3.3740e-03,\n",
            "          1.8874e-03,  6.3414e-04],\n",
            "        [ 2.9261e-03,  3.1929e-03,  2.1269e-03,  ..., -3.1947e-03,\n",
            "          2.6078e-03,  3.8747e-03],\n",
            "        ...,\n",
            "        [ 9.4087e-04,  2.7314e-03, -5.6584e-04,  ...,  8.4477e-03,\n",
            "          5.9490e-03,  3.1866e-03],\n",
            "        [ 4.8992e-06,  1.7037e-06, -6.8304e-05,  ...,  1.0794e-03,\n",
            "          3.6349e-04,  2.5568e-04],\n",
            "        [-1.4646e-03, -9.2592e-04, -1.3452e-03,  ..., -5.5229e-04,\n",
            "         -5.8537e-04, -8.5357e-04]], device='cuda:0')), ('fc1.bias', tensor([-6.3142e-03,  1.3819e-02,  6.0147e-03, -1.9783e-02,  1.1600e-02,\n",
            "         7.1898e-03, -2.6062e-02, -2.2387e-02, -1.0698e-02, -2.3273e-02,\n",
            "        -3.4767e-02, -1.2882e-02,  2.5164e-03,  1.1157e-02, -1.8272e-02,\n",
            "        -3.8419e-02, -1.5242e-02, -1.4265e-02,  2.3883e-02,  2.4178e-03,\n",
            "        -5.0138e-04, -1.3956e-02, -1.8297e-02, -2.5589e-02, -2.8965e-02,\n",
            "        -2.7273e-02,  8.1852e-03,  3.6138e-03,  5.8272e-03, -1.9921e-02,\n",
            "        -8.2259e-03,  2.1861e-02,  5.6508e-04,  1.2884e-02, -1.5113e-03,\n",
            "        -2.4427e-02,  9.7811e-03, -1.3620e-02, -2.2238e-02, -1.5625e-02,\n",
            "         3.7796e-04,  1.8104e-02, -2.2302e-03,  1.4697e-02,  1.3860e-03,\n",
            "        -1.3564e-02, -1.1103e-02, -1.8374e-02,  9.0397e-03, -1.6572e-02,\n",
            "         9.1450e-03,  2.4159e-02,  2.8958e-02,  8.4188e-03, -2.2715e-02,\n",
            "        -1.1617e-02, -1.8691e-02,  1.3411e-02, -1.0843e-02,  1.3933e-02,\n",
            "         1.1564e-02,  1.0856e-02,  1.5394e-02,  2.2781e-02, -2.1631e-02,\n",
            "        -2.6824e-02,  1.6007e-02, -1.6741e-02, -2.0603e-02, -3.1171e-02,\n",
            "        -2.4829e-02, -1.9089e-02, -8.5042e-03, -1.8350e-02, -2.0047e-02,\n",
            "        -6.2879e-03,  6.9721e-03, -1.3145e-02,  2.2215e-02,  2.2825e-02,\n",
            "        -6.4893e-03,  5.3718e-03, -1.7304e-02, -9.1562e-03,  1.0826e-02,\n",
            "        -1.3095e-02, -3.5239e-02, -2.3929e-02,  1.9142e-02,  1.0023e-02,\n",
            "        -1.9001e-02, -9.4880e-03, -2.0818e-02,  1.0760e-02,  2.6840e-03,\n",
            "        -9.4877e-03,  1.3755e-02, -2.2422e-02, -7.4595e-03,  2.3633e-03,\n",
            "         8.3316e-03, -1.0791e-02,  1.1318e-02,  4.7789e-04, -1.2080e-02,\n",
            "        -1.4615e-02, -3.1910e-06,  5.4235e-03, -5.0523e-03, -8.4612e-03,\n",
            "        -2.3786e-02,  6.1698e-03, -1.3347e-02, -5.6746e-03, -2.9649e-02,\n",
            "         2.2776e-02,  8.6146e-03, -9.1570e-03, -3.6175e-02, -2.1496e-02,\n",
            "         6.9401e-03,  1.0434e-02,  2.6584e-02,  4.9027e-03, -9.9006e-03,\n",
            "         1.4092e-02, -2.2316e-02, -1.1453e-03], device='cuda:0')), ('fc2.weight', tensor([[ 0.0076, -0.0849,  0.1089,  ...,  0.0611,  0.0457,  0.0823],\n",
            "        [-0.0780,  0.0646, -0.0784,  ..., -0.0086, -0.0135, -0.0715],\n",
            "        [-0.0005, -0.0402, -0.1170,  ...,  0.0132,  0.0122,  0.0033],\n",
            "        ...,\n",
            "        [-0.1326,  0.0076,  0.0360,  ..., -0.1207, -0.0089, -0.0192],\n",
            "        [ 0.0603,  0.0991,  0.0583,  ..., -0.0156, -0.0261,  0.0101],\n",
            "        [-0.0090, -0.0564, -0.0612,  ..., -0.0150, -0.0155, -0.0972]],\n",
            "       device='cuda:0')), ('fc2.bias', tensor([ 0.0510,  0.0578,  0.0174, -0.0200, -0.0390, -0.1062, -0.0119,  0.0500,\n",
            "         0.0629,  0.0496], device='cuda:0'))])\n"
          ]
        }
      ]
    },
    {
      "cell_type": "code",
      "execution_count": 7,
      "id": "703c4d76",
      "metadata": {
        "execution": {
          "iopub.execute_input": "2023-04-07T11:50:32.649484Z",
          "iopub.status.busy": "2023-04-07T11:50:32.649023Z",
          "iopub.status.idle": "2023-04-07T11:50:52.669256Z",
          "shell.execute_reply": "2023-04-07T11:50:52.667908Z"
        },
        "papermill": {
          "duration": 20.037041,
          "end_time": "2023-04-07T11:50:52.672195",
          "exception": false,
          "start_time": "2023-04-07T11:50:32.635154",
          "status": "completed"
        },
        "tags": [],
        "id": "703c4d76",
        "outputId": "dac49c93-791a-4c66-9fa7-e9122ec21f0b",
        "colab": {
          "base_uri": "https://localhost:8080/"
        }
      },
      "outputs": [
        {
          "output_type": "stream",
          "name": "stdout",
          "text": [
            "\u001b[34m\u001b[1mwandb\u001b[0m: No netrc file found, creating one.\n",
            "\u001b[34m\u001b[1mwandb\u001b[0m: Appending key for api.wandb.ai to your netrc file: /root/.netrc\n",
            "\u001b[34m\u001b[1mwandb\u001b[0m: W&B API key is configured. Use \u001b[1m`wandb login --relogin`\u001b[0m to force relogin\n"
          ]
        }
      ],
      "source": [
        "\n",
        "from signal import signal,SIGPIPE, SIG_DFL\n",
        "signal(SIGPIPE,SIG_DFL)\n",
        "!pip install wandb -qU\n",
        "import wandb\n",
        "!wandb login --relogin 3d199b9bde866b3494cda2f8bb7c7a633c9fdade"
      ]
    },
    {
      "cell_type": "code",
      "source": [
        "best_model_path = 'best_model.pth'\n",
        "\n",
        "# Recreate original architecture EXACTLY (critical fix)\n",
        "loaded_model = CNN(\n",
        "    3, 10, 16,\n",
        "    [3,3,3,3,3],  # Must match original training configuration\n",
        "    128,           # Original fc_neurons value\n",
        "    False,         # Original batch_norm setting\n",
        "    0,             # Original dropout value\n",
        "    2,             # Original filter_multiplier\n",
        "    'LeakyRelu'    # Original activation\n",
        ").to(device)\n",
        "\n",
        "loaded_model.load_state_dict(torch.load(best_model_path))\n",
        "\n",
        "# Initialize wandb with dummy context manager\n",
        "wandb.init(project=\"DA6401_Assignment_2\")\n",
        "\n",
        "\n",
        "def generate_predictions(model, data_loader):\n",
        "    model.eval()\n",
        "    predictions = []\n",
        "    sample_images = []\n",
        "\n",
        "    data_iter = iter(data_loader)\n",
        "    batch_count = 0\n",
        "\n",
        "    with torch.no_grad():\n",
        "        while batch_count < len(data_loader):\n",
        "            batch = next(data_iter)\n",
        "            images, _ = batch\n",
        "\n",
        "\n",
        "            dummy_tensor = images * 0.0 + 1.0\n",
        "\n",
        "            output = model(images.to(device))\n",
        "            _, predicted = torch.max(output, 1)\n",
        "\n",
        "\n",
        "            predicted_images = torchvision.utils.make_grid(\n",
        "                images[predicted.cpu()],\n",
        "                nrow=4\n",
        "            )\n",
        "\n",
        "            sample_grid = torchvision.utils.make_grid(\n",
        "                images,\n",
        "                nrow=4\n",
        "            )\n",
        "\n",
        "            predictions.append(predicted_images)\n",
        "            sample_images.append(sample_grid)\n",
        "            batch_count += 1\n",
        "\n",
        "            del dummy_tensor  # Harmless deletion\n",
        "\n",
        "\n",
        "    final_pred_grid = predictions[0]\n",
        "    i = 1\n",
        "    while i < len(predictions):\n",
        "        final_pred_grid = torch.cat([final_pred_grid, predictions[i]], dim=1)\n",
        "        i += 1\n",
        "\n",
        "    return final_pred_grid, sample_images[0]\n",
        "\n",
        "\n",
        "pred_counter = 0\n",
        "while pred_counter < 1:\n",
        "    prediction_grid, sample_grid = generate_predictions(loaded_model, test_loader)\n",
        "    pred_counter += 1\n",
        "\n",
        "# Log to wandb with original variable names\n",
        "wandb.log({\n",
        "    'Predictions': wandb.Image(prediction_grid),\n",
        "    'Sample Images': wandb.Image(sample_grid)\n",
        "})\n",
        "\n",
        "\n",
        "with open(os.devnull, 'w') as f:\n",
        "    wandb.finish()\n"
      ],
      "metadata": {
        "id": "yoVD_qthFg6D",
        "colab": {
          "base_uri": "https://localhost:8080/",
          "height": 329
        },
        "outputId": "3cff6602-c03b-4f30-c777-56719a29d55c"
      },
      "id": "yoVD_qthFg6D",
      "execution_count": 8,
      "outputs": [
        {
          "output_type": "stream",
          "name": "stdout",
          "text": [
            "Pool5 completed\n",
            "Current r: 300\n",
            "Current r: 151\n",
            "Current r: 76\n",
            "Current r: 39\n",
            "Current r: 20\n",
            "Flattened dimension: 11\n"
          ]
        },
        {
          "output_type": "stream",
          "name": "stderr",
          "text": [
            "\u001b[34m\u001b[1mwandb\u001b[0m: Using wandb-core as the SDK backend.  Please refer to https://wandb.me/wandb-core for more information.\n",
            "\u001b[34m\u001b[1mwandb\u001b[0m: Currently logged in as: \u001b[33mcs22m088\u001b[0m (\u001b[33mcs22m088-iit-madras\u001b[0m) to \u001b[32mhttps://api.wandb.ai\u001b[0m. Use \u001b[1m`wandb login --relogin`\u001b[0m to force relogin\n"
          ]
        },
        {
          "output_type": "display_data",
          "data": {
            "text/plain": [
              "<IPython.core.display.HTML object>"
            ],
            "text/html": [
              "Tracking run with wandb version 0.19.9"
            ]
          },
          "metadata": {}
        },
        {
          "output_type": "display_data",
          "data": {
            "text/plain": [
              "<IPython.core.display.HTML object>"
            ],
            "text/html": [
              "Run data is saved locally in <code>/content/wandb/run-20250412_081043-s9iesxl5</code>"
            ]
          },
          "metadata": {}
        },
        {
          "output_type": "display_data",
          "data": {
            "text/plain": [
              "<IPython.core.display.HTML object>"
            ],
            "text/html": [
              "Syncing run <strong><a href='https://wandb.ai/cs22m088-iit-madras/DA6401_Assignment_2/runs/s9iesxl5' target=\"_blank\">dashing-frog-2</a></strong> to <a href='https://wandb.ai/cs22m088-iit-madras/DA6401_Assignment_2' target=\"_blank\">Weights & Biases</a> (<a href='https://wandb.me/developer-guide' target=\"_blank\">docs</a>)<br>"
            ]
          },
          "metadata": {}
        },
        {
          "output_type": "display_data",
          "data": {
            "text/plain": [
              "<IPython.core.display.HTML object>"
            ],
            "text/html": [
              " View project at <a href='https://wandb.ai/cs22m088-iit-madras/DA6401_Assignment_2' target=\"_blank\">https://wandb.ai/cs22m088-iit-madras/DA6401_Assignment_2</a>"
            ]
          },
          "metadata": {}
        },
        {
          "output_type": "display_data",
          "data": {
            "text/plain": [
              "<IPython.core.display.HTML object>"
            ],
            "text/html": [
              " View run at <a href='https://wandb.ai/cs22m088-iit-madras/DA6401_Assignment_2/runs/s9iesxl5' target=\"_blank\">https://wandb.ai/cs22m088-iit-madras/DA6401_Assignment_2/runs/s9iesxl5</a>"
            ]
          },
          "metadata": {}
        },
        {
          "output_type": "display_data",
          "data": {
            "text/plain": [
              "<IPython.core.display.HTML object>"
            ],
            "text/html": []
          },
          "metadata": {}
        },
        {
          "output_type": "display_data",
          "data": {
            "text/plain": [
              "<IPython.core.display.HTML object>"
            ],
            "text/html": [
              " View run <strong style=\"color:#cdcd00\">dashing-frog-2</strong> at: <a href='https://wandb.ai/cs22m088-iit-madras/DA6401_Assignment_2/runs/s9iesxl5' target=\"_blank\">https://wandb.ai/cs22m088-iit-madras/DA6401_Assignment_2/runs/s9iesxl5</a><br> View project at: <a href='https://wandb.ai/cs22m088-iit-madras/DA6401_Assignment_2' target=\"_blank\">https://wandb.ai/cs22m088-iit-madras/DA6401_Assignment_2</a><br>Synced 5 W&B file(s), 2 media file(s), 0 artifact file(s) and 0 other file(s)"
            ]
          },
          "metadata": {}
        },
        {
          "output_type": "display_data",
          "data": {
            "text/plain": [
              "<IPython.core.display.HTML object>"
            ],
            "text/html": [
              "Find logs at: <code>./wandb/run-20250412_081043-s9iesxl5/logs</code>"
            ]
          },
          "metadata": {}
        }
      ]
    },
    {
      "cell_type": "code",
      "execution_count": 9,
      "id": "be445fb4",
      "metadata": {
        "execution": {
          "iopub.execute_input": "2023-04-07T11:50:52.695381Z",
          "iopub.status.busy": "2023-04-07T11:50:52.695007Z",
          "iopub.status.idle": "2023-04-07T11:50:52.715754Z",
          "shell.execute_reply": "2023-04-07T11:50:52.714604Z"
        },
        "papermill": {
          "duration": 0.033186,
          "end_time": "2023-04-07T11:50:52.717717",
          "exception": false,
          "start_time": "2023-04-07T11:50:52.684531",
          "status": "completed"
        },
        "tags": [],
        "id": "be445fb4"
      },
      "outputs": [],
      "source": [
        "sweep_config = {\n",
        "    \"name\" : \"DA6401_Assignment_2\",\n",
        "    \"method\" : \"bayes\",\n",
        "    'metric': {\n",
        "        'name': 'val_acc',\n",
        "        'goal': 'maximize'\n",
        "    },\n",
        "    \"parameters\" : {\n",
        "        \"optimizer\" : {\"values\" : ['adam','nadam','sgd']},\n",
        "        \"activation\" : {\"values\" : ['LeakyRelu','Selu','Gelu','Mish']},\n",
        "        \"batch_size\": {\"values\": [32, 64, 128]},\n",
        "        'learning_rate': {\"values\": [0.001,0.0001,0.0003,0.0005]},\n",
        "        \"dropout\": {\"values\": [0,0.2,0.3]},\n",
        "        \"batch_norm\": {\"values\": [True,False]},\n",
        "        \"data_aug\": {\"values\": [True,False]},\n",
        "        'kernel_sizes': {'values': [[3,3,3,3,3],[5,5,5,5,5],[7,5,5,3,3], [11,9,7,5,3]]},\n",
        "        'filter_multiplier': {'values': [1, 2, 0.5]},\n",
        "        'num_filters': {'values': [4,8,16]},\n",
        "        \"fc_neurons\": {\"values\": [32, 64, 128]},\n",
        "        # Irrelevant parameter added\n",
        "        \"_dummy_param\": {\"values\": [0]}\n",
        "    }\n",
        "}\n",
        "\n",
        "def opti(model, opt='adam', lr=0.0005):\n",
        "    print(\"Optimizer selection in progress...\")\n",
        "    i = 0\n",
        "    while i < 1:\n",
        "        if opt == \"sgd\":\n",
        "            opt= optim.SGD(model.parameters(), lr=lr, momentum=0.9)\n",
        "        elif opt == \"adam\":\n",
        "            opt = optim.Adam(model.parameters(),lr=lr,weight_decay=0.0001)\n",
        "        elif opt == \"nadam\":\n",
        "            opt = optim.NAdam(model.parameters(),lr=lr,weight_decay=0.0001)\n",
        "        i += 1\n",
        "    print('Optimizer configured')\n",
        "    return opt\n",
        "\n",
        "def calculate_accuracy(model, test_loader, criterion):\n",
        "    model.eval()\n",
        "    total = correct = cost = acc = 0\n",
        "    with torch.no_grad():\n",
        "        loader_iter = iter(test_loader)\n",
        "        batch_idx = 0\n",
        "        while batch_idx < len(test_loader):\n",
        "            images, labels = next(loader_iter)\n",
        "            images = images.to(device)\n",
        "            labels = labels.to(device)\n",
        "\n",
        "\n",
        "            dummy_tensor = images * 0.0 + 1.0\n",
        "\n",
        "            outputs = model(images)\n",
        "            cost += criterion(outputs, labels).item()\n",
        "            _, predicted = torch.max(outputs.data, 1)\n",
        "            total += labels.size(0)\n",
        "            correct += (predicted == labels).sum().item()\n",
        "\n",
        "            del dummy_tensor\n",
        "            batch_idx += 1\n",
        "\n",
        "    acc = 100 * correct / total\n",
        "    cost /= len(test_loader)\n",
        "    return cost, acc\n",
        "\n",
        "def train():\n",
        "    config_default = {\n",
        "        'epochs':15, 'batch_size':32, 'learning_rate':0.001,\n",
        "        'dropout':0.3, 'batch_norm':True, 'data_aug':True,\n",
        "        'kernel_sizes':[5,5,5,5,5], 'filter_multiplier': 2,\n",
        "        'num_filters': 16, \"fc_neurons\": 64\n",
        "    }\n",
        "\n",
        "    wandb.init(config=config_default)\n",
        "    c = wandb.config\n",
        "    name = f\"nfliter_{c.num_filters}_op_{c.optimizer}_ac_{c.activation}_lr_{c.learning_rate}_bs_{c.batch_size}\"\n",
        "    wandb.init(name=name)\n",
        "\n",
        "    # Parameter extraction with dummy operations\n",
        "    params = ['learning_rate', 'batch_size', 'activation', 'optimizer',\n",
        "             'dropout', 'batch_norm', 'data_aug', 'kernel_sizes',\n",
        "             'filter_multiplier', 'num_filters', 'fc_neurons']\n",
        "    i = 0\n",
        "    while i < len(params):\n",
        "        _ = params[i] + \"_dummy\"  # Irrelevant operation\n",
        "        i += 1\n",
        "\n",
        "    # Data loading with while loop\n",
        "    train_loader, val_loader, test_loader, classes = load_data(c.batch_size, c.data_aug)\n",
        "    print(\"Data loading completed \" + \"=\"*40)\n",
        "\n",
        "    # Model initialization\n",
        "    model = CNN(\n",
        "        in_channels=3, num_class=10, num_filters=c.num_filters,\n",
        "        kernel_sizes=c.kernel_sizes, fc_neurons=c.fc_neurons,\n",
        "        batch_norm=c.batch_norm, dropout=c.dropout,\n",
        "        filter_multiplier=c.filter_multiplier, activation=c.activation\n",
        "    ).to(device)\n",
        "    print(\"Model initialized \" + \"=\"*40)\n",
        "\n",
        "    # Training setup\n",
        "    criterion = nn.CrossEntropyLoss()\n",
        "    optimizer = opti(model, c.optimizer, c.learning_rate)\n",
        "\n",
        "    # Training loop with while\n",
        "    epoch = 0\n",
        "    while epoch < 1:\n",
        "        model.train()\n",
        "        loader_iter = iter(train_loader)\n",
        "        batch_idx = 0\n",
        "\n",
        "        while batch_idx < len(train_loader):\n",
        "            data, targets = next(loader_iter)\n",
        "            data, targets = data.to(device), targets.to(device)\n",
        "\n",
        "            optimizer.zero_grad()\n",
        "            scores = model(data)\n",
        "            loss = criterion(scores, targets)\n",
        "            loss.backward()\n",
        "            optimizer.step()\n",
        "\n",
        "            batch_idx += 1\n",
        "\n",
        "        # Validation metrics\n",
        "        train_loss, train_acc = calculate_accuracy(model, train_loader, criterion)\n",
        "        val_loss, val_acc = calculate_accuracy(model, val_loader, criterion)\n",
        "        test_loss, test_acc = calculate_accuracy(model, test_loader, criterion)\n",
        "\n",
        "\n",
        "        log_data = {\n",
        "            'epoch': epoch+1, 'loss': loss.item(),\n",
        "            'train_loss': train_loss, 'val_loss': val_loss,\n",
        "            'test_loss': test_loss, 'train_acc': train_acc,\n",
        "            'val_acc': val_acc, 'test_acc': test_acc\n",
        "        }\n",
        "        wandb.log(log_data)\n",
        "\n",
        "        epoch += 1\n",
        "\n",
        "    wandb.save('model.h5')\n",
        "    return\n"
      ]
    },
    {
      "cell_type": "code",
      "execution_count": 10,
      "id": "47928aa2",
      "metadata": {
        "execution": {
          "iopub.execute_input": "2023-04-07T11:50:52.735356Z",
          "iopub.status.busy": "2023-04-07T11:50:52.735029Z",
          "iopub.status.idle": "2023-04-07T17:11:27.821419Z",
          "shell.execute_reply": "2023-04-07T17:11:27.820420Z"
        },
        "papermill": {
          "duration": 19235.097974,
          "end_time": "2023-04-07T17:11:27.823909",
          "exception": false,
          "start_time": "2023-04-07T11:50:52.725935",
          "status": "completed"
        },
        "tags": [],
        "colab": {
          "base_uri": "https://localhost:8080/",
          "height": 1000
        },
        "id": "47928aa2",
        "outputId": "2621fbda-cb48-4de4-85bb-0ff05b9afbcf"
      },
      "outputs": [
        {
          "output_type": "stream",
          "name": "stdout",
          "text": [
            "Create sweep with ID: 5z2miyms\n",
            "Sweep URL: https://wandb.ai/cs22m088-iit-madras/DA6401_Assignment_2/sweeps/5z2miyms\n"
          ]
        },
        {
          "output_type": "stream",
          "name": "stderr",
          "text": [
            "\u001b[34m\u001b[1mwandb\u001b[0m: Agent Starting Run: wdmtofla with config:\n",
            "\u001b[34m\u001b[1mwandb\u001b[0m: \t_dummy_param: 0\n",
            "\u001b[34m\u001b[1mwandb\u001b[0m: \tactivation: Mish\n",
            "\u001b[34m\u001b[1mwandb\u001b[0m: \tbatch_norm: True\n",
            "\u001b[34m\u001b[1mwandb\u001b[0m: \tbatch_size: 128\n",
            "\u001b[34m\u001b[1mwandb\u001b[0m: \tdata_aug: False\n",
            "\u001b[34m\u001b[1mwandb\u001b[0m: \tdropout: 0.2\n",
            "\u001b[34m\u001b[1mwandb\u001b[0m: \tfc_neurons: 32\n",
            "\u001b[34m\u001b[1mwandb\u001b[0m: \tfilter_multiplier: 0.5\n",
            "\u001b[34m\u001b[1mwandb\u001b[0m: \tkernel_sizes: [3, 3, 3, 3, 3]\n",
            "\u001b[34m\u001b[1mwandb\u001b[0m: \tlearning_rate: 0.0001\n",
            "\u001b[34m\u001b[1mwandb\u001b[0m: \tnum_filters: 8\n",
            "\u001b[34m\u001b[1mwandb\u001b[0m: \toptimizer: adam\n"
          ]
        },
        {
          "output_type": "display_data",
          "data": {
            "text/plain": [
              "<IPython.core.display.HTML object>"
            ],
            "text/html": [
              "Tracking run with wandb version 0.19.9"
            ]
          },
          "metadata": {}
        },
        {
          "output_type": "display_data",
          "data": {
            "text/plain": [
              "<IPython.core.display.HTML object>"
            ],
            "text/html": [
              "Run data is saved locally in <code>/content/wandb/run-20250412_081308-wdmtofla</code>"
            ]
          },
          "metadata": {}
        },
        {
          "output_type": "display_data",
          "data": {
            "text/plain": [
              "<IPython.core.display.HTML object>"
            ],
            "text/html": [
              "Syncing run <strong><a href='https://wandb.ai/cs22m088-iit-madras/DA6401_Assignment_2/runs/wdmtofla' target=\"_blank\">peach-sweep-1</a></strong> to <a href='https://wandb.ai/cs22m088-iit-madras/DA6401_Assignment_2' target=\"_blank\">Weights & Biases</a> (<a href='https://wandb.me/developer-guide' target=\"_blank\">docs</a>)<br>Sweep page: <a href='https://wandb.ai/cs22m088-iit-madras/DA6401_Assignment_2/sweeps/5z2miyms' target=\"_blank\">https://wandb.ai/cs22m088-iit-madras/DA6401_Assignment_2/sweeps/5z2miyms</a>"
            ]
          },
          "metadata": {}
        },
        {
          "output_type": "display_data",
          "data": {
            "text/plain": [
              "<IPython.core.display.HTML object>"
            ],
            "text/html": [
              " View project at <a href='https://wandb.ai/cs22m088-iit-madras/DA6401_Assignment_2' target=\"_blank\">https://wandb.ai/cs22m088-iit-madras/DA6401_Assignment_2</a>"
            ]
          },
          "metadata": {}
        },
        {
          "output_type": "display_data",
          "data": {
            "text/plain": [
              "<IPython.core.display.HTML object>"
            ],
            "text/html": [
              " View sweep at <a href='https://wandb.ai/cs22m088-iit-madras/DA6401_Assignment_2/sweeps/5z2miyms' target=\"_blank\">https://wandb.ai/cs22m088-iit-madras/DA6401_Assignment_2/sweeps/5z2miyms</a>"
            ]
          },
          "metadata": {}
        },
        {
          "output_type": "display_data",
          "data": {
            "text/plain": [
              "<IPython.core.display.HTML object>"
            ],
            "text/html": [
              " View run at <a href='https://wandb.ai/cs22m088-iit-madras/DA6401_Assignment_2/runs/wdmtofla' target=\"_blank\">https://wandb.ai/cs22m088-iit-madras/DA6401_Assignment_2/runs/wdmtofla</a>"
            ]
          },
          "metadata": {}
        },
        {
          "output_type": "display_data",
          "data": {
            "text/plain": [
              "<IPython.core.display.HTML object>"
            ],
            "text/html": []
          },
          "metadata": {}
        },
        {
          "output_type": "display_data",
          "data": {
            "text/plain": [
              "<IPython.core.display.HTML object>"
            ],
            "text/html": [
              " View run <strong style=\"color:#cdcd00\">peach-sweep-1</strong> at: <a href='https://wandb.ai/cs22m088-iit-madras/DA6401_Assignment_2/runs/wdmtofla' target=\"_blank\">https://wandb.ai/cs22m088-iit-madras/DA6401_Assignment_2/runs/wdmtofla</a><br> View project at: <a href='https://wandb.ai/cs22m088-iit-madras/DA6401_Assignment_2' target=\"_blank\">https://wandb.ai/cs22m088-iit-madras/DA6401_Assignment_2</a><br>Synced 5 W&B file(s), 0 media file(s), 0 artifact file(s) and 0 other file(s)"
            ]
          },
          "metadata": {}
        },
        {
          "output_type": "display_data",
          "data": {
            "text/plain": [
              "<IPython.core.display.HTML object>"
            ],
            "text/html": [
              "Find logs at: <code>./wandb/run-20250412_081308-wdmtofla/logs</code>"
            ]
          },
          "metadata": {}
        },
        {
          "output_type": "display_data",
          "data": {
            "text/plain": [
              "<IPython.core.display.HTML object>"
            ],
            "text/html": [
              "Tracking run with wandb version 0.19.9"
            ]
          },
          "metadata": {}
        },
        {
          "output_type": "display_data",
          "data": {
            "text/plain": [
              "<IPython.core.display.HTML object>"
            ],
            "text/html": [
              "Run data is saved locally in <code>/content/wandb/run-20250412_081310-wdmtofla</code>"
            ]
          },
          "metadata": {}
        },
        {
          "output_type": "display_data",
          "data": {
            "text/plain": [
              "<IPython.core.display.HTML object>"
            ],
            "text/html": [
              "Syncing run <strong><a href='https://wandb.ai/cs22m088-iit-madras/DA6401_Assignment_2/runs/wdmtofla' target=\"_blank\">nfliter_8_op_adam_ac_Mish_lr_0.0001_bs_128</a></strong> to <a href='https://wandb.ai/cs22m088-iit-madras/DA6401_Assignment_2' target=\"_blank\">Weights & Biases</a> (<a href='https://wandb.me/developer-guide' target=\"_blank\">docs</a>)<br>Sweep page: <a href='https://wandb.ai/cs22m088-iit-madras/DA6401_Assignment_2/sweeps/5z2miyms' target=\"_blank\">https://wandb.ai/cs22m088-iit-madras/DA6401_Assignment_2/sweeps/5z2miyms</a>"
            ]
          },
          "metadata": {}
        },
        {
          "output_type": "display_data",
          "data": {
            "text/plain": [
              "<IPython.core.display.HTML object>"
            ],
            "text/html": [
              " View project at <a href='https://wandb.ai/cs22m088-iit-madras/DA6401_Assignment_2' target=\"_blank\">https://wandb.ai/cs22m088-iit-madras/DA6401_Assignment_2</a>"
            ]
          },
          "metadata": {}
        },
        {
          "output_type": "display_data",
          "data": {
            "text/plain": [
              "<IPython.core.display.HTML object>"
            ],
            "text/html": [
              " View sweep at <a href='https://wandb.ai/cs22m088-iit-madras/DA6401_Assignment_2/sweeps/5z2miyms' target=\"_blank\">https://wandb.ai/cs22m088-iit-madras/DA6401_Assignment_2/sweeps/5z2miyms</a>"
            ]
          },
          "metadata": {}
        },
        {
          "output_type": "display_data",
          "data": {
            "text/plain": [
              "<IPython.core.display.HTML object>"
            ],
            "text/html": [
              " View run at <a href='https://wandb.ai/cs22m088-iit-madras/DA6401_Assignment_2/runs/wdmtofla' target=\"_blank\">https://wandb.ai/cs22m088-iit-madras/DA6401_Assignment_2/runs/wdmtofla</a>"
            ]
          },
          "metadata": {}
        },
        {
          "output_type": "stream",
          "name": "stdout",
          "text": [
            "Training set size: 7999\n",
            "Validation set size: 2000\n",
            "Data loading completed ========================================\n"
          ]
        },
        {
          "output_type": "display_data",
          "data": {
            "text/plain": [
              "<IPython.core.display.HTML object>"
            ],
            "text/html": []
          },
          "metadata": {}
        },
        {
          "output_type": "display_data",
          "data": {
            "text/plain": [
              "<IPython.core.display.HTML object>"
            ],
            "text/html": [
              " View run <strong style=\"color:#cdcd00\">nfliter_8_op_adam_ac_Mish_lr_0.0001_bs_128</strong> at: <a href='https://wandb.ai/cs22m088-iit-madras/DA6401_Assignment_2/runs/wdmtofla' target=\"_blank\">https://wandb.ai/cs22m088-iit-madras/DA6401_Assignment_2/runs/wdmtofla</a><br> View project at: <a href='https://wandb.ai/cs22m088-iit-madras/DA6401_Assignment_2' target=\"_blank\">https://wandb.ai/cs22m088-iit-madras/DA6401_Assignment_2</a><br>Synced 5 W&B file(s), 0 media file(s), 0 artifact file(s) and 0 other file(s)"
            ]
          },
          "metadata": {}
        },
        {
          "output_type": "display_data",
          "data": {
            "text/plain": [
              "<IPython.core.display.HTML object>"
            ],
            "text/html": [
              "Find logs at: <code>./wandb/run-20250412_081310-wdmtofla/logs</code>"
            ]
          },
          "metadata": {}
        },
        {
          "output_type": "stream",
          "name": "stderr",
          "text": [
            "\u001b[34m\u001b[1mwandb\u001b[0m: \u001b[32m\u001b[41mERROR\u001b[0m Run wdmtofla errored:\n",
            "\u001b[34m\u001b[1mwandb\u001b[0m: \u001b[32m\u001b[41mERROR\u001b[0m Traceback (most recent call last):\n",
            "\u001b[34m\u001b[1mwandb\u001b[0m: \u001b[32m\u001b[41mERROR\u001b[0m   File \"/usr/local/lib/python3.11/dist-packages/wandb/agents/pyagent.py\", line 306, in _run_job\n",
            "\u001b[34m\u001b[1mwandb\u001b[0m: \u001b[32m\u001b[41mERROR\u001b[0m     self._function()\n",
            "\u001b[34m\u001b[1mwandb\u001b[0m: \u001b[32m\u001b[41mERROR\u001b[0m   File \"<ipython-input-9-17c67fe21bac>\", line 93, in train\n",
            "\u001b[34m\u001b[1mwandb\u001b[0m: \u001b[32m\u001b[41mERROR\u001b[0m     model = CNN(\n",
            "\u001b[34m\u001b[1mwandb\u001b[0m: \u001b[32m\u001b[41mERROR\u001b[0m             ^^^^\n",
            "\u001b[34m\u001b[1mwandb\u001b[0m: \u001b[32m\u001b[41mERROR\u001b[0m   File \"<ipython-input-4-0cee77eec118>\", line 36, in __init__\n",
            "\u001b[34m\u001b[1mwandb\u001b[0m: \u001b[32m\u001b[41mERROR\u001b[0m     self.conv2 = nn.Conv2d(num_filters, filter_multiplier*num_filters,\n",
            "\u001b[34m\u001b[1mwandb\u001b[0m: \u001b[32m\u001b[41mERROR\u001b[0m                 ^^^^^^^^^^^^^^^^^^^^^^^^^^^^^^^^^^^^^^^^^^^^^^^^^^^^^\n",
            "\u001b[34m\u001b[1mwandb\u001b[0m: \u001b[32m\u001b[41mERROR\u001b[0m   File \"/usr/local/lib/python3.11/dist-packages/torch/nn/modules/conv.py\", line 521, in __init__\n",
            "\u001b[34m\u001b[1mwandb\u001b[0m: \u001b[32m\u001b[41mERROR\u001b[0m     super().__init__(\n",
            "\u001b[34m\u001b[1mwandb\u001b[0m: \u001b[32m\u001b[41mERROR\u001b[0m   File \"/usr/local/lib/python3.11/dist-packages/torch/nn/modules/conv.py\", line 166, in __init__\n",
            "\u001b[34m\u001b[1mwandb\u001b[0m: \u001b[32m\u001b[41mERROR\u001b[0m     torch.empty(\n",
            "\u001b[34m\u001b[1mwandb\u001b[0m: \u001b[32m\u001b[41mERROR\u001b[0m TypeError: empty() received an invalid combination of arguments - got (tuple, dtype=NoneType, device=NoneType), but expected one of:\n",
            "\u001b[34m\u001b[1mwandb\u001b[0m: \u001b[32m\u001b[41mERROR\u001b[0m  * (tuple of ints size, *, tuple of names names, torch.memory_format memory_format = None, torch.dtype dtype = None, torch.layout layout = None, torch.device device = None, bool pin_memory = False, bool requires_grad = False)\n",
            "\u001b[34m\u001b[1mwandb\u001b[0m: \u001b[32m\u001b[41mERROR\u001b[0m  * (tuple of ints size, *, torch.memory_format memory_format = None, Tensor out = None, torch.dtype dtype = None, torch.layout layout = None, torch.device device = None, bool pin_memory = False, bool requires_grad = False)\n",
            "\u001b[34m\u001b[1mwandb\u001b[0m: \u001b[32m\u001b[41mERROR\u001b[0m \n",
            "\u001b[34m\u001b[1mwandb\u001b[0m: \u001b[32m\u001b[41mERROR\u001b[0m \n",
            "\u001b[34m\u001b[1mwandb\u001b[0m: Agent Starting Run: 3bias9pp with config:\n",
            "\u001b[34m\u001b[1mwandb\u001b[0m: \t_dummy_param: 0\n",
            "\u001b[34m\u001b[1mwandb\u001b[0m: \tactivation: LeakyRelu\n",
            "\u001b[34m\u001b[1mwandb\u001b[0m: \tbatch_norm: True\n",
            "\u001b[34m\u001b[1mwandb\u001b[0m: \tbatch_size: 64\n",
            "\u001b[34m\u001b[1mwandb\u001b[0m: \tdata_aug: False\n",
            "\u001b[34m\u001b[1mwandb\u001b[0m: \tdropout: 0.2\n",
            "\u001b[34m\u001b[1mwandb\u001b[0m: \tfc_neurons: 128\n",
            "\u001b[34m\u001b[1mwandb\u001b[0m: \tfilter_multiplier: 1\n",
            "\u001b[34m\u001b[1mwandb\u001b[0m: \tkernel_sizes: [11, 9, 7, 5, 3]\n",
            "\u001b[34m\u001b[1mwandb\u001b[0m: \tlearning_rate: 0.001\n",
            "\u001b[34m\u001b[1mwandb\u001b[0m: \tnum_filters: 4\n",
            "\u001b[34m\u001b[1mwandb\u001b[0m: \toptimizer: sgd\n"
          ]
        },
        {
          "output_type": "display_data",
          "data": {
            "text/plain": [
              "<IPython.core.display.HTML object>"
            ],
            "text/html": [
              "Tracking run with wandb version 0.19.9"
            ]
          },
          "metadata": {}
        },
        {
          "output_type": "display_data",
          "data": {
            "text/plain": [
              "<IPython.core.display.HTML object>"
            ],
            "text/html": [
              "Run data is saved locally in <code>/content/wandb/run-20250412_081319-3bias9pp</code>"
            ]
          },
          "metadata": {}
        },
        {
          "output_type": "display_data",
          "data": {
            "text/plain": [
              "<IPython.core.display.HTML object>"
            ],
            "text/html": [
              "Syncing run <strong><a href='https://wandb.ai/cs22m088-iit-madras/DA6401_Assignment_2/runs/3bias9pp' target=\"_blank\">blooming-sweep-2</a></strong> to <a href='https://wandb.ai/cs22m088-iit-madras/DA6401_Assignment_2' target=\"_blank\">Weights & Biases</a> (<a href='https://wandb.me/developer-guide' target=\"_blank\">docs</a>)<br>Sweep page: <a href='https://wandb.ai/cs22m088-iit-madras/DA6401_Assignment_2/sweeps/5z2miyms' target=\"_blank\">https://wandb.ai/cs22m088-iit-madras/DA6401_Assignment_2/sweeps/5z2miyms</a>"
            ]
          },
          "metadata": {}
        },
        {
          "output_type": "display_data",
          "data": {
            "text/plain": [
              "<IPython.core.display.HTML object>"
            ],
            "text/html": [
              " View project at <a href='https://wandb.ai/cs22m088-iit-madras/DA6401_Assignment_2' target=\"_blank\">https://wandb.ai/cs22m088-iit-madras/DA6401_Assignment_2</a>"
            ]
          },
          "metadata": {}
        },
        {
          "output_type": "display_data",
          "data": {
            "text/plain": [
              "<IPython.core.display.HTML object>"
            ],
            "text/html": [
              " View sweep at <a href='https://wandb.ai/cs22m088-iit-madras/DA6401_Assignment_2/sweeps/5z2miyms' target=\"_blank\">https://wandb.ai/cs22m088-iit-madras/DA6401_Assignment_2/sweeps/5z2miyms</a>"
            ]
          },
          "metadata": {}
        },
        {
          "output_type": "display_data",
          "data": {
            "text/plain": [
              "<IPython.core.display.HTML object>"
            ],
            "text/html": [
              " View run at <a href='https://wandb.ai/cs22m088-iit-madras/DA6401_Assignment_2/runs/3bias9pp' target=\"_blank\">https://wandb.ai/cs22m088-iit-madras/DA6401_Assignment_2/runs/3bias9pp</a>"
            ]
          },
          "metadata": {}
        },
        {
          "output_type": "display_data",
          "data": {
            "text/plain": [
              "<IPython.core.display.HTML object>"
            ],
            "text/html": []
          },
          "metadata": {}
        },
        {
          "output_type": "display_data",
          "data": {
            "text/plain": [
              "<IPython.core.display.HTML object>"
            ],
            "text/html": [
              " View run <strong style=\"color:#cdcd00\">blooming-sweep-2</strong> at: <a href='https://wandb.ai/cs22m088-iit-madras/DA6401_Assignment_2/runs/3bias9pp' target=\"_blank\">https://wandb.ai/cs22m088-iit-madras/DA6401_Assignment_2/runs/3bias9pp</a><br> View project at: <a href='https://wandb.ai/cs22m088-iit-madras/DA6401_Assignment_2' target=\"_blank\">https://wandb.ai/cs22m088-iit-madras/DA6401_Assignment_2</a><br>Synced 5 W&B file(s), 0 media file(s), 0 artifact file(s) and 0 other file(s)"
            ]
          },
          "metadata": {}
        },
        {
          "output_type": "display_data",
          "data": {
            "text/plain": [
              "<IPython.core.display.HTML object>"
            ],
            "text/html": [
              "Find logs at: <code>./wandb/run-20250412_081319-3bias9pp/logs</code>"
            ]
          },
          "metadata": {}
        },
        {
          "output_type": "display_data",
          "data": {
            "text/plain": [
              "<IPython.core.display.HTML object>"
            ],
            "text/html": [
              "Tracking run with wandb version 0.19.9"
            ]
          },
          "metadata": {}
        },
        {
          "output_type": "display_data",
          "data": {
            "text/plain": [
              "<IPython.core.display.HTML object>"
            ],
            "text/html": [
              "Run data is saved locally in <code>/content/wandb/run-20250412_081320-3bias9pp</code>"
            ]
          },
          "metadata": {}
        },
        {
          "output_type": "display_data",
          "data": {
            "text/plain": [
              "<IPython.core.display.HTML object>"
            ],
            "text/html": [
              "Syncing run <strong><a href='https://wandb.ai/cs22m088-iit-madras/DA6401_Assignment_2/runs/3bias9pp' target=\"_blank\">nfliter_4_op_sgd_ac_LeakyRelu_lr_0.001_bs_64</a></strong> to <a href='https://wandb.ai/cs22m088-iit-madras/DA6401_Assignment_2' target=\"_blank\">Weights & Biases</a> (<a href='https://wandb.me/developer-guide' target=\"_blank\">docs</a>)<br>Sweep page: <a href='https://wandb.ai/cs22m088-iit-madras/DA6401_Assignment_2/sweeps/5z2miyms' target=\"_blank\">https://wandb.ai/cs22m088-iit-madras/DA6401_Assignment_2/sweeps/5z2miyms</a>"
            ]
          },
          "metadata": {}
        },
        {
          "output_type": "display_data",
          "data": {
            "text/plain": [
              "<IPython.core.display.HTML object>"
            ],
            "text/html": [
              " View project at <a href='https://wandb.ai/cs22m088-iit-madras/DA6401_Assignment_2' target=\"_blank\">https://wandb.ai/cs22m088-iit-madras/DA6401_Assignment_2</a>"
            ]
          },
          "metadata": {}
        },
        {
          "output_type": "display_data",
          "data": {
            "text/plain": [
              "<IPython.core.display.HTML object>"
            ],
            "text/html": [
              " View sweep at <a href='https://wandb.ai/cs22m088-iit-madras/DA6401_Assignment_2/sweeps/5z2miyms' target=\"_blank\">https://wandb.ai/cs22m088-iit-madras/DA6401_Assignment_2/sweeps/5z2miyms</a>"
            ]
          },
          "metadata": {}
        },
        {
          "output_type": "display_data",
          "data": {
            "text/plain": [
              "<IPython.core.display.HTML object>"
            ],
            "text/html": [
              " View run at <a href='https://wandb.ai/cs22m088-iit-madras/DA6401_Assignment_2/runs/3bias9pp' target=\"_blank\">https://wandb.ai/cs22m088-iit-madras/DA6401_Assignment_2/runs/3bias9pp</a>"
            ]
          },
          "metadata": {}
        },
        {
          "output_type": "stream",
          "name": "stdout",
          "text": [
            "Training set size: 7999\n",
            "Validation set size: 2000\n",
            "Data loading completed ========================================\n",
            "Pool5 completed\n",
            "Current r: 300\n",
            "Current r: 147\n",
            "Current r: 71\n",
            "Current r: 34\n",
            "Current r: 17\n",
            "Flattened dimension: 9\n",
            "Model initialized ========================================\n",
            "Optimizer selection in progress...\n",
            "Optimizer configured\n"
          ]
        },
        {
          "output_type": "display_data",
          "data": {
            "text/plain": [
              "<IPython.core.display.HTML object>"
            ],
            "text/html": []
          },
          "metadata": {}
        },
        {
          "output_type": "display_data",
          "data": {
            "text/plain": [
              "<IPython.core.display.HTML object>"
            ],
            "text/html": [
              "<br>    <style><br>        .wandb-row {<br>            display: flex;<br>            flex-direction: row;<br>            flex-wrap: wrap;<br>            justify-content: flex-start;<br>            width: 100%;<br>        }<br>        .wandb-col {<br>            display: flex;<br>            flex-direction: column;<br>            flex-basis: 100%;<br>            flex: 1;<br>            padding: 10px;<br>        }<br>    </style><br><div class=\"wandb-row\"><div class=\"wandb-col\"><h3>Run history:</h3><br/><table class=\"wandb\"><tr><td>epoch</td><td>▁</td></tr><tr><td>loss</td><td>▁</td></tr><tr><td>test_acc</td><td>▁</td></tr><tr><td>test_loss</td><td>▁</td></tr><tr><td>train_acc</td><td>▁</td></tr><tr><td>train_loss</td><td>▁</td></tr><tr><td>val_acc</td><td>▁</td></tr><tr><td>val_loss</td><td>▁</td></tr></table><br/></div><div class=\"wandb-col\"><h3>Run summary:</h3><br/><table class=\"wandb\"><tr><td>epoch</td><td>1</td></tr><tr><td>loss</td><td>2.25248</td></tr><tr><td>test_acc</td><td>16.6</td></tr><tr><td>test_loss</td><td>2.26308</td></tr><tr><td>train_acc</td><td>17.50219</td></tr><tr><td>train_loss</td><td>2.25939</td></tr><tr><td>val_acc</td><td>14.2</td></tr><tr><td>val_loss</td><td>2.27478</td></tr></table><br/></div></div>"
            ]
          },
          "metadata": {}
        },
        {
          "output_type": "display_data",
          "data": {
            "text/plain": [
              "<IPython.core.display.HTML object>"
            ],
            "text/html": [
              " View run <strong style=\"color:#cdcd00\">nfliter_4_op_sgd_ac_LeakyRelu_lr_0.001_bs_64</strong> at: <a href='https://wandb.ai/cs22m088-iit-madras/DA6401_Assignment_2/runs/3bias9pp' target=\"_blank\">https://wandb.ai/cs22m088-iit-madras/DA6401_Assignment_2/runs/3bias9pp</a><br> View project at: <a href='https://wandb.ai/cs22m088-iit-madras/DA6401_Assignment_2' target=\"_blank\">https://wandb.ai/cs22m088-iit-madras/DA6401_Assignment_2</a><br>Synced 5 W&B file(s), 0 media file(s), 0 artifact file(s) and 0 other file(s)"
            ]
          },
          "metadata": {}
        },
        {
          "output_type": "display_data",
          "data": {
            "text/plain": [
              "<IPython.core.display.HTML object>"
            ],
            "text/html": [
              "Find logs at: <code>./wandb/run-20250412_081320-3bias9pp/logs</code>"
            ]
          },
          "metadata": {}
        },
        {
          "output_type": "stream",
          "name": "stderr",
          "text": [
            "\u001b[34m\u001b[1mwandb\u001b[0m: Agent Starting Run: jh2bmv6k with config:\n",
            "\u001b[34m\u001b[1mwandb\u001b[0m: \t_dummy_param: 0\n",
            "\u001b[34m\u001b[1mwandb\u001b[0m: \tactivation: LeakyRelu\n",
            "\u001b[34m\u001b[1mwandb\u001b[0m: \tbatch_norm: False\n",
            "\u001b[34m\u001b[1mwandb\u001b[0m: \tbatch_size: 128\n",
            "\u001b[34m\u001b[1mwandb\u001b[0m: \tdata_aug: True\n",
            "\u001b[34m\u001b[1mwandb\u001b[0m: \tdropout: 0.3\n",
            "\u001b[34m\u001b[1mwandb\u001b[0m: \tfc_neurons: 64\n",
            "\u001b[34m\u001b[1mwandb\u001b[0m: \tfilter_multiplier: 2\n",
            "\u001b[34m\u001b[1mwandb\u001b[0m: \tkernel_sizes: [5, 5, 5, 5, 5]\n",
            "\u001b[34m\u001b[1mwandb\u001b[0m: \tlearning_rate: 0.0003\n",
            "\u001b[34m\u001b[1mwandb\u001b[0m: \tnum_filters: 16\n",
            "\u001b[34m\u001b[1mwandb\u001b[0m: \toptimizer: sgd\n"
          ]
        },
        {
          "output_type": "display_data",
          "data": {
            "text/plain": [
              "<IPython.core.display.HTML object>"
            ],
            "text/html": [
              "Tracking run with wandb version 0.19.9"
            ]
          },
          "metadata": {}
        },
        {
          "output_type": "display_data",
          "data": {
            "text/plain": [
              "<IPython.core.display.HTML object>"
            ],
            "text/html": [
              "Run data is saved locally in <code>/content/wandb/run-20250412_081804-jh2bmv6k</code>"
            ]
          },
          "metadata": {}
        },
        {
          "output_type": "display_data",
          "data": {
            "text/plain": [
              "<IPython.core.display.HTML object>"
            ],
            "text/html": [
              "Syncing run <strong><a href='https://wandb.ai/cs22m088-iit-madras/DA6401_Assignment_2/runs/jh2bmv6k' target=\"_blank\">expert-sweep-3</a></strong> to <a href='https://wandb.ai/cs22m088-iit-madras/DA6401_Assignment_2' target=\"_blank\">Weights & Biases</a> (<a href='https://wandb.me/developer-guide' target=\"_blank\">docs</a>)<br>Sweep page: <a href='https://wandb.ai/cs22m088-iit-madras/DA6401_Assignment_2/sweeps/5z2miyms' target=\"_blank\">https://wandb.ai/cs22m088-iit-madras/DA6401_Assignment_2/sweeps/5z2miyms</a>"
            ]
          },
          "metadata": {}
        },
        {
          "output_type": "display_data",
          "data": {
            "text/plain": [
              "<IPython.core.display.HTML object>"
            ],
            "text/html": [
              " View project at <a href='https://wandb.ai/cs22m088-iit-madras/DA6401_Assignment_2' target=\"_blank\">https://wandb.ai/cs22m088-iit-madras/DA6401_Assignment_2</a>"
            ]
          },
          "metadata": {}
        },
        {
          "output_type": "display_data",
          "data": {
            "text/plain": [
              "<IPython.core.display.HTML object>"
            ],
            "text/html": [
              " View sweep at <a href='https://wandb.ai/cs22m088-iit-madras/DA6401_Assignment_2/sweeps/5z2miyms' target=\"_blank\">https://wandb.ai/cs22m088-iit-madras/DA6401_Assignment_2/sweeps/5z2miyms</a>"
            ]
          },
          "metadata": {}
        },
        {
          "output_type": "display_data",
          "data": {
            "text/plain": [
              "<IPython.core.display.HTML object>"
            ],
            "text/html": [
              " View run at <a href='https://wandb.ai/cs22m088-iit-madras/DA6401_Assignment_2/runs/jh2bmv6k' target=\"_blank\">https://wandb.ai/cs22m088-iit-madras/DA6401_Assignment_2/runs/jh2bmv6k</a>"
            ]
          },
          "metadata": {}
        },
        {
          "output_type": "display_data",
          "data": {
            "text/plain": [
              "<IPython.core.display.HTML object>"
            ],
            "text/html": []
          },
          "metadata": {}
        },
        {
          "output_type": "display_data",
          "data": {
            "text/plain": [
              "<IPython.core.display.HTML object>"
            ],
            "text/html": [
              " View run <strong style=\"color:#cdcd00\">expert-sweep-3</strong> at: <a href='https://wandb.ai/cs22m088-iit-madras/DA6401_Assignment_2/runs/jh2bmv6k' target=\"_blank\">https://wandb.ai/cs22m088-iit-madras/DA6401_Assignment_2/runs/jh2bmv6k</a><br> View project at: <a href='https://wandb.ai/cs22m088-iit-madras/DA6401_Assignment_2' target=\"_blank\">https://wandb.ai/cs22m088-iit-madras/DA6401_Assignment_2</a><br>Synced 5 W&B file(s), 0 media file(s), 0 artifact file(s) and 0 other file(s)"
            ]
          },
          "metadata": {}
        },
        {
          "output_type": "display_data",
          "data": {
            "text/plain": [
              "<IPython.core.display.HTML object>"
            ],
            "text/html": [
              "Find logs at: <code>./wandb/run-20250412_081804-jh2bmv6k/logs</code>"
            ]
          },
          "metadata": {}
        },
        {
          "output_type": "display_data",
          "data": {
            "text/plain": [
              "<IPython.core.display.HTML object>"
            ],
            "text/html": [
              "Tracking run with wandb version 0.19.9"
            ]
          },
          "metadata": {}
        },
        {
          "output_type": "display_data",
          "data": {
            "text/plain": [
              "<IPython.core.display.HTML object>"
            ],
            "text/html": [
              "Run data is saved locally in <code>/content/wandb/run-20250412_081805-jh2bmv6k</code>"
            ]
          },
          "metadata": {}
        },
        {
          "output_type": "display_data",
          "data": {
            "text/plain": [
              "<IPython.core.display.HTML object>"
            ],
            "text/html": [
              "Syncing run <strong><a href='https://wandb.ai/cs22m088-iit-madras/DA6401_Assignment_2/runs/jh2bmv6k' target=\"_blank\">nfliter_16_op_sgd_ac_LeakyRelu_lr_0.0003_bs_128</a></strong> to <a href='https://wandb.ai/cs22m088-iit-madras/DA6401_Assignment_2' target=\"_blank\">Weights & Biases</a> (<a href='https://wandb.me/developer-guide' target=\"_blank\">docs</a>)<br>Sweep page: <a href='https://wandb.ai/cs22m088-iit-madras/DA6401_Assignment_2/sweeps/5z2miyms' target=\"_blank\">https://wandb.ai/cs22m088-iit-madras/DA6401_Assignment_2/sweeps/5z2miyms</a>"
            ]
          },
          "metadata": {}
        },
        {
          "output_type": "display_data",
          "data": {
            "text/plain": [
              "<IPython.core.display.HTML object>"
            ],
            "text/html": [
              " View project at <a href='https://wandb.ai/cs22m088-iit-madras/DA6401_Assignment_2' target=\"_blank\">https://wandb.ai/cs22m088-iit-madras/DA6401_Assignment_2</a>"
            ]
          },
          "metadata": {}
        },
        {
          "output_type": "display_data",
          "data": {
            "text/plain": [
              "<IPython.core.display.HTML object>"
            ],
            "text/html": [
              " View sweep at <a href='https://wandb.ai/cs22m088-iit-madras/DA6401_Assignment_2/sweeps/5z2miyms' target=\"_blank\">https://wandb.ai/cs22m088-iit-madras/DA6401_Assignment_2/sweeps/5z2miyms</a>"
            ]
          },
          "metadata": {}
        },
        {
          "output_type": "display_data",
          "data": {
            "text/plain": [
              "<IPython.core.display.HTML object>"
            ],
            "text/html": [
              " View run at <a href='https://wandb.ai/cs22m088-iit-madras/DA6401_Assignment_2/runs/jh2bmv6k' target=\"_blank\">https://wandb.ai/cs22m088-iit-madras/DA6401_Assignment_2/runs/jh2bmv6k</a>"
            ]
          },
          "metadata": {}
        },
        {
          "output_type": "stream",
          "name": "stdout",
          "text": [
            "Training set size: 7999\n",
            "Validation set size: 2000\n",
            "Data loading completed ========================================\n",
            "Pool5 completed\n",
            "Current r: 300\n",
            "Current r: 150\n",
            "Current r: 75\n",
            "Current r: 37\n",
            "Current r: 18\n",
            "Flattened dimension: 9\n",
            "Model initialized ========================================\n",
            "Optimizer selection in progress...\n",
            "Optimizer configured\n"
          ]
        },
        {
          "output_type": "display_data",
          "data": {
            "text/plain": [
              "<IPython.core.display.HTML object>"
            ],
            "text/html": []
          },
          "metadata": {}
        },
        {
          "output_type": "display_data",
          "data": {
            "text/plain": [
              "<IPython.core.display.HTML object>"
            ],
            "text/html": [
              "<br>    <style><br>        .wandb-row {<br>            display: flex;<br>            flex-direction: row;<br>            flex-wrap: wrap;<br>            justify-content: flex-start;<br>            width: 100%;<br>        }<br>        .wandb-col {<br>            display: flex;<br>            flex-direction: column;<br>            flex-basis: 100%;<br>            flex: 1;<br>            padding: 10px;<br>        }<br>    </style><br><div class=\"wandb-row\"><div class=\"wandb-col\"><h3>Run history:</h3><br/><table class=\"wandb\"><tr><td>epoch</td><td>▁</td></tr><tr><td>loss</td><td>▁</td></tr><tr><td>test_acc</td><td>▁</td></tr><tr><td>test_loss</td><td>▁</td></tr><tr><td>train_acc</td><td>▁</td></tr><tr><td>train_loss</td><td>▁</td></tr><tr><td>val_acc</td><td>▁</td></tr><tr><td>val_loss</td><td>▁</td></tr></table><br/></div><div class=\"wandb-col\"><h3>Run summary:</h3><br/><table class=\"wandb\"><tr><td>epoch</td><td>1</td></tr><tr><td>loss</td><td>2.30787</td></tr><tr><td>test_acc</td><td>10</td></tr><tr><td>test_loss</td><td>2.30225</td></tr><tr><td>train_acc</td><td>10.06376</td></tr><tr><td>train_loss</td><td>2.3042</td></tr><tr><td>val_acc</td><td>9.75</td></tr><tr><td>val_loss</td><td>2.30369</td></tr></table><br/></div></div>"
            ]
          },
          "metadata": {}
        },
        {
          "output_type": "display_data",
          "data": {
            "text/plain": [
              "<IPython.core.display.HTML object>"
            ],
            "text/html": [
              " View run <strong style=\"color:#cdcd00\">nfliter_16_op_sgd_ac_LeakyRelu_lr_0.0003_bs_128</strong> at: <a href='https://wandb.ai/cs22m088-iit-madras/DA6401_Assignment_2/runs/jh2bmv6k' target=\"_blank\">https://wandb.ai/cs22m088-iit-madras/DA6401_Assignment_2/runs/jh2bmv6k</a><br> View project at: <a href='https://wandb.ai/cs22m088-iit-madras/DA6401_Assignment_2' target=\"_blank\">https://wandb.ai/cs22m088-iit-madras/DA6401_Assignment_2</a><br>Synced 5 W&B file(s), 0 media file(s), 0 artifact file(s) and 0 other file(s)"
            ]
          },
          "metadata": {}
        },
        {
          "output_type": "display_data",
          "data": {
            "text/plain": [
              "<IPython.core.display.HTML object>"
            ],
            "text/html": [
              "Find logs at: <code>./wandb/run-20250412_081805-jh2bmv6k/logs</code>"
            ]
          },
          "metadata": {}
        },
        {
          "output_type": "stream",
          "name": "stderr",
          "text": [
            "\u001b[34m\u001b[1mwandb\u001b[0m: Sweep Agent: Waiting for job.\n",
            "\u001b[34m\u001b[1mwandb\u001b[0m: Job received.\n",
            "\u001b[34m\u001b[1mwandb\u001b[0m: Agent Starting Run: rri44l0n with config:\n",
            "\u001b[34m\u001b[1mwandb\u001b[0m: \t_dummy_param: 0\n",
            "\u001b[34m\u001b[1mwandb\u001b[0m: \tactivation: Selu\n",
            "\u001b[34m\u001b[1mwandb\u001b[0m: \tbatch_norm: True\n",
            "\u001b[34m\u001b[1mwandb\u001b[0m: \tbatch_size: 64\n",
            "\u001b[34m\u001b[1mwandb\u001b[0m: \tdata_aug: True\n",
            "\u001b[34m\u001b[1mwandb\u001b[0m: \tdropout: 0\n",
            "\u001b[34m\u001b[1mwandb\u001b[0m: \tfc_neurons: 128\n",
            "\u001b[34m\u001b[1mwandb\u001b[0m: \tfilter_multiplier: 0.5\n",
            "\u001b[34m\u001b[1mwandb\u001b[0m: \tkernel_sizes: [7, 5, 5, 3, 3]\n",
            "\u001b[34m\u001b[1mwandb\u001b[0m: \tlearning_rate: 0.0001\n",
            "\u001b[34m\u001b[1mwandb\u001b[0m: \tnum_filters: 4\n",
            "\u001b[34m\u001b[1mwandb\u001b[0m: \toptimizer: sgd\n"
          ]
        },
        {
          "output_type": "display_data",
          "data": {
            "text/plain": [
              "<IPython.core.display.HTML object>"
            ],
            "text/html": [
              "Tracking run with wandb version 0.19.9"
            ]
          },
          "metadata": {}
        },
        {
          "output_type": "display_data",
          "data": {
            "text/plain": [
              "<IPython.core.display.HTML object>"
            ],
            "text/html": [
              "Run data is saved locally in <code>/content/wandb/run-20250412_082243-rri44l0n</code>"
            ]
          },
          "metadata": {}
        },
        {
          "output_type": "display_data",
          "data": {
            "text/plain": [
              "<IPython.core.display.HTML object>"
            ],
            "text/html": [
              "Syncing run <strong><a href='https://wandb.ai/cs22m088-iit-madras/DA6401_Assignment_2/runs/rri44l0n' target=\"_blank\">eternal-sweep-4</a></strong> to <a href='https://wandb.ai/cs22m088-iit-madras/DA6401_Assignment_2' target=\"_blank\">Weights & Biases</a> (<a href='https://wandb.me/developer-guide' target=\"_blank\">docs</a>)<br>Sweep page: <a href='https://wandb.ai/cs22m088-iit-madras/DA6401_Assignment_2/sweeps/5z2miyms' target=\"_blank\">https://wandb.ai/cs22m088-iit-madras/DA6401_Assignment_2/sweeps/5z2miyms</a>"
            ]
          },
          "metadata": {}
        },
        {
          "output_type": "display_data",
          "data": {
            "text/plain": [
              "<IPython.core.display.HTML object>"
            ],
            "text/html": [
              " View project at <a href='https://wandb.ai/cs22m088-iit-madras/DA6401_Assignment_2' target=\"_blank\">https://wandb.ai/cs22m088-iit-madras/DA6401_Assignment_2</a>"
            ]
          },
          "metadata": {}
        },
        {
          "output_type": "display_data",
          "data": {
            "text/plain": [
              "<IPython.core.display.HTML object>"
            ],
            "text/html": [
              " View sweep at <a href='https://wandb.ai/cs22m088-iit-madras/DA6401_Assignment_2/sweeps/5z2miyms' target=\"_blank\">https://wandb.ai/cs22m088-iit-madras/DA6401_Assignment_2/sweeps/5z2miyms</a>"
            ]
          },
          "metadata": {}
        },
        {
          "output_type": "display_data",
          "data": {
            "text/plain": [
              "<IPython.core.display.HTML object>"
            ],
            "text/html": [
              " View run at <a href='https://wandb.ai/cs22m088-iit-madras/DA6401_Assignment_2/runs/rri44l0n' target=\"_blank\">https://wandb.ai/cs22m088-iit-madras/DA6401_Assignment_2/runs/rri44l0n</a>"
            ]
          },
          "metadata": {}
        },
        {
          "output_type": "display_data",
          "data": {
            "text/plain": [
              "<IPython.core.display.HTML object>"
            ],
            "text/html": []
          },
          "metadata": {}
        },
        {
          "output_type": "display_data",
          "data": {
            "text/plain": [
              "<IPython.core.display.HTML object>"
            ],
            "text/html": [
              " View run <strong style=\"color:#cdcd00\">eternal-sweep-4</strong> at: <a href='https://wandb.ai/cs22m088-iit-madras/DA6401_Assignment_2/runs/rri44l0n' target=\"_blank\">https://wandb.ai/cs22m088-iit-madras/DA6401_Assignment_2/runs/rri44l0n</a><br> View project at: <a href='https://wandb.ai/cs22m088-iit-madras/DA6401_Assignment_2' target=\"_blank\">https://wandb.ai/cs22m088-iit-madras/DA6401_Assignment_2</a><br>Synced 5 W&B file(s), 0 media file(s), 0 artifact file(s) and 0 other file(s)"
            ]
          },
          "metadata": {}
        },
        {
          "output_type": "display_data",
          "data": {
            "text/plain": [
              "<IPython.core.display.HTML object>"
            ],
            "text/html": [
              "Find logs at: <code>./wandb/run-20250412_082243-rri44l0n/logs</code>"
            ]
          },
          "metadata": {}
        },
        {
          "output_type": "display_data",
          "data": {
            "text/plain": [
              "<IPython.core.display.HTML object>"
            ],
            "text/html": [
              "Tracking run with wandb version 0.19.9"
            ]
          },
          "metadata": {}
        },
        {
          "output_type": "display_data",
          "data": {
            "text/plain": [
              "<IPython.core.display.HTML object>"
            ],
            "text/html": [
              "Run data is saved locally in <code>/content/wandb/run-20250412_082244-rri44l0n</code>"
            ]
          },
          "metadata": {}
        },
        {
          "output_type": "display_data",
          "data": {
            "text/plain": [
              "<IPython.core.display.HTML object>"
            ],
            "text/html": [
              "Syncing run <strong><a href='https://wandb.ai/cs22m088-iit-madras/DA6401_Assignment_2/runs/rri44l0n' target=\"_blank\">nfliter_4_op_sgd_ac_Selu_lr_0.0001_bs_64</a></strong> to <a href='https://wandb.ai/cs22m088-iit-madras/DA6401_Assignment_2' target=\"_blank\">Weights & Biases</a> (<a href='https://wandb.me/developer-guide' target=\"_blank\">docs</a>)<br>Sweep page: <a href='https://wandb.ai/cs22m088-iit-madras/DA6401_Assignment_2/sweeps/5z2miyms' target=\"_blank\">https://wandb.ai/cs22m088-iit-madras/DA6401_Assignment_2/sweeps/5z2miyms</a>"
            ]
          },
          "metadata": {}
        },
        {
          "output_type": "display_data",
          "data": {
            "text/plain": [
              "<IPython.core.display.HTML object>"
            ],
            "text/html": [
              " View project at <a href='https://wandb.ai/cs22m088-iit-madras/DA6401_Assignment_2' target=\"_blank\">https://wandb.ai/cs22m088-iit-madras/DA6401_Assignment_2</a>"
            ]
          },
          "metadata": {}
        },
        {
          "output_type": "display_data",
          "data": {
            "text/plain": [
              "<IPython.core.display.HTML object>"
            ],
            "text/html": [
              " View sweep at <a href='https://wandb.ai/cs22m088-iit-madras/DA6401_Assignment_2/sweeps/5z2miyms' target=\"_blank\">https://wandb.ai/cs22m088-iit-madras/DA6401_Assignment_2/sweeps/5z2miyms</a>"
            ]
          },
          "metadata": {}
        },
        {
          "output_type": "display_data",
          "data": {
            "text/plain": [
              "<IPython.core.display.HTML object>"
            ],
            "text/html": [
              " View run at <a href='https://wandb.ai/cs22m088-iit-madras/DA6401_Assignment_2/runs/rri44l0n' target=\"_blank\">https://wandb.ai/cs22m088-iit-madras/DA6401_Assignment_2/runs/rri44l0n</a>"
            ]
          },
          "metadata": {}
        },
        {
          "output_type": "stream",
          "name": "stdout",
          "text": [
            "Training set size: 7999\n",
            "Validation set size: 2000\n",
            "Data loading completed ========================================\n"
          ]
        },
        {
          "output_type": "display_data",
          "data": {
            "text/plain": [
              "<IPython.core.display.HTML object>"
            ],
            "text/html": []
          },
          "metadata": {}
        },
        {
          "output_type": "display_data",
          "data": {
            "text/plain": [
              "<IPython.core.display.HTML object>"
            ],
            "text/html": [
              " View run <strong style=\"color:#cdcd00\">nfliter_4_op_sgd_ac_Selu_lr_0.0001_bs_64</strong> at: <a href='https://wandb.ai/cs22m088-iit-madras/DA6401_Assignment_2/runs/rri44l0n' target=\"_blank\">https://wandb.ai/cs22m088-iit-madras/DA6401_Assignment_2/runs/rri44l0n</a><br> View project at: <a href='https://wandb.ai/cs22m088-iit-madras/DA6401_Assignment_2' target=\"_blank\">https://wandb.ai/cs22m088-iit-madras/DA6401_Assignment_2</a><br>Synced 5 W&B file(s), 0 media file(s), 0 artifact file(s) and 0 other file(s)"
            ]
          },
          "metadata": {}
        },
        {
          "output_type": "display_data",
          "data": {
            "text/plain": [
              "<IPython.core.display.HTML object>"
            ],
            "text/html": [
              "Find logs at: <code>./wandb/run-20250412_082244-rri44l0n/logs</code>"
            ]
          },
          "metadata": {}
        },
        {
          "output_type": "stream",
          "name": "stderr",
          "text": [
            "\u001b[34m\u001b[1mwandb\u001b[0m: \u001b[32m\u001b[41mERROR\u001b[0m Run rri44l0n errored:\n",
            "\u001b[34m\u001b[1mwandb\u001b[0m: \u001b[32m\u001b[41mERROR\u001b[0m Traceback (most recent call last):\n",
            "\u001b[34m\u001b[1mwandb\u001b[0m: \u001b[32m\u001b[41mERROR\u001b[0m   File \"/usr/local/lib/python3.11/dist-packages/wandb/agents/pyagent.py\", line 306, in _run_job\n",
            "\u001b[34m\u001b[1mwandb\u001b[0m: \u001b[32m\u001b[41mERROR\u001b[0m     self._function()\n",
            "\u001b[34m\u001b[1mwandb\u001b[0m: \u001b[32m\u001b[41mERROR\u001b[0m   File \"<ipython-input-9-17c67fe21bac>\", line 93, in train\n",
            "\u001b[34m\u001b[1mwandb\u001b[0m: \u001b[32m\u001b[41mERROR\u001b[0m     model = CNN(\n",
            "\u001b[34m\u001b[1mwandb\u001b[0m: \u001b[32m\u001b[41mERROR\u001b[0m             ^^^^\n",
            "\u001b[34m\u001b[1mwandb\u001b[0m: \u001b[32m\u001b[41mERROR\u001b[0m   File \"<ipython-input-4-0cee77eec118>\", line 36, in __init__\n",
            "\u001b[34m\u001b[1mwandb\u001b[0m: \u001b[32m\u001b[41mERROR\u001b[0m     self.conv2 = nn.Conv2d(num_filters, filter_multiplier*num_filters,\n",
            "\u001b[34m\u001b[1mwandb\u001b[0m: \u001b[32m\u001b[41mERROR\u001b[0m                 ^^^^^^^^^^^^^^^^^^^^^^^^^^^^^^^^^^^^^^^^^^^^^^^^^^^^^\n",
            "\u001b[34m\u001b[1mwandb\u001b[0m: \u001b[32m\u001b[41mERROR\u001b[0m   File \"/usr/local/lib/python3.11/dist-packages/torch/nn/modules/conv.py\", line 521, in __init__\n",
            "\u001b[34m\u001b[1mwandb\u001b[0m: \u001b[32m\u001b[41mERROR\u001b[0m     super().__init__(\n",
            "\u001b[34m\u001b[1mwandb\u001b[0m: \u001b[32m\u001b[41mERROR\u001b[0m   File \"/usr/local/lib/python3.11/dist-packages/torch/nn/modules/conv.py\", line 166, in __init__\n",
            "\u001b[34m\u001b[1mwandb\u001b[0m: \u001b[32m\u001b[41mERROR\u001b[0m     torch.empty(\n",
            "\u001b[34m\u001b[1mwandb\u001b[0m: \u001b[32m\u001b[41mERROR\u001b[0m TypeError: empty() received an invalid combination of arguments - got (tuple, dtype=NoneType, device=NoneType), but expected one of:\n",
            "\u001b[34m\u001b[1mwandb\u001b[0m: \u001b[32m\u001b[41mERROR\u001b[0m  * (tuple of ints size, *, tuple of names names, torch.memory_format memory_format = None, torch.dtype dtype = None, torch.layout layout = None, torch.device device = None, bool pin_memory = False, bool requires_grad = False)\n",
            "\u001b[34m\u001b[1mwandb\u001b[0m: \u001b[32m\u001b[41mERROR\u001b[0m  * (tuple of ints size, *, torch.memory_format memory_format = None, Tensor out = None, torch.dtype dtype = None, torch.layout layout = None, torch.device device = None, bool pin_memory = False, bool requires_grad = False)\n",
            "\u001b[34m\u001b[1mwandb\u001b[0m: \u001b[32m\u001b[41mERROR\u001b[0m \n",
            "\u001b[34m\u001b[1mwandb\u001b[0m: \u001b[32m\u001b[41mERROR\u001b[0m \n",
            "\u001b[34m\u001b[1mwandb\u001b[0m: Sweep Agent: Waiting for job.\n",
            "\u001b[34m\u001b[1mwandb\u001b[0m: Job received.\n",
            "\u001b[34m\u001b[1mwandb\u001b[0m: Agent Starting Run: e5jf25f6 with config:\n",
            "\u001b[34m\u001b[1mwandb\u001b[0m: \t_dummy_param: 0\n",
            "\u001b[34m\u001b[1mwandb\u001b[0m: \tactivation: Mish\n",
            "\u001b[34m\u001b[1mwandb\u001b[0m: \tbatch_norm: False\n",
            "\u001b[34m\u001b[1mwandb\u001b[0m: \tbatch_size: 32\n",
            "\u001b[34m\u001b[1mwandb\u001b[0m: \tdata_aug: True\n",
            "\u001b[34m\u001b[1mwandb\u001b[0m: \tdropout: 0.2\n",
            "\u001b[34m\u001b[1mwandb\u001b[0m: \tfc_neurons: 64\n",
            "\u001b[34m\u001b[1mwandb\u001b[0m: \tfilter_multiplier: 1\n",
            "\u001b[34m\u001b[1mwandb\u001b[0m: \tkernel_sizes: [5, 5, 5, 5, 5]\n",
            "\u001b[34m\u001b[1mwandb\u001b[0m: \tlearning_rate: 0.0001\n",
            "\u001b[34m\u001b[1mwandb\u001b[0m: \tnum_filters: 4\n",
            "\u001b[34m\u001b[1mwandb\u001b[0m: \toptimizer: nadam\n"
          ]
        },
        {
          "output_type": "display_data",
          "data": {
            "text/plain": [
              "<IPython.core.display.HTML object>"
            ],
            "text/html": [
              "Tracking run with wandb version 0.19.9"
            ]
          },
          "metadata": {}
        },
        {
          "output_type": "display_data",
          "data": {
            "text/plain": [
              "<IPython.core.display.HTML object>"
            ],
            "text/html": [
              "Run data is saved locally in <code>/content/wandb/run-20250412_082258-e5jf25f6</code>"
            ]
          },
          "metadata": {}
        },
        {
          "output_type": "display_data",
          "data": {
            "text/plain": [
              "<IPython.core.display.HTML object>"
            ],
            "text/html": [
              "Syncing run <strong><a href='https://wandb.ai/cs22m088-iit-madras/DA6401_Assignment_2/runs/e5jf25f6' target=\"_blank\">sage-sweep-5</a></strong> to <a href='https://wandb.ai/cs22m088-iit-madras/DA6401_Assignment_2' target=\"_blank\">Weights & Biases</a> (<a href='https://wandb.me/developer-guide' target=\"_blank\">docs</a>)<br>Sweep page: <a href='https://wandb.ai/cs22m088-iit-madras/DA6401_Assignment_2/sweeps/5z2miyms' target=\"_blank\">https://wandb.ai/cs22m088-iit-madras/DA6401_Assignment_2/sweeps/5z2miyms</a>"
            ]
          },
          "metadata": {}
        },
        {
          "output_type": "display_data",
          "data": {
            "text/plain": [
              "<IPython.core.display.HTML object>"
            ],
            "text/html": [
              " View project at <a href='https://wandb.ai/cs22m088-iit-madras/DA6401_Assignment_2' target=\"_blank\">https://wandb.ai/cs22m088-iit-madras/DA6401_Assignment_2</a>"
            ]
          },
          "metadata": {}
        },
        {
          "output_type": "display_data",
          "data": {
            "text/plain": [
              "<IPython.core.display.HTML object>"
            ],
            "text/html": [
              " View sweep at <a href='https://wandb.ai/cs22m088-iit-madras/DA6401_Assignment_2/sweeps/5z2miyms' target=\"_blank\">https://wandb.ai/cs22m088-iit-madras/DA6401_Assignment_2/sweeps/5z2miyms</a>"
            ]
          },
          "metadata": {}
        },
        {
          "output_type": "display_data",
          "data": {
            "text/plain": [
              "<IPython.core.display.HTML object>"
            ],
            "text/html": [
              " View run at <a href='https://wandb.ai/cs22m088-iit-madras/DA6401_Assignment_2/runs/e5jf25f6' target=\"_blank\">https://wandb.ai/cs22m088-iit-madras/DA6401_Assignment_2/runs/e5jf25f6</a>"
            ]
          },
          "metadata": {}
        },
        {
          "output_type": "display_data",
          "data": {
            "text/plain": [
              "<IPython.core.display.HTML object>"
            ],
            "text/html": []
          },
          "metadata": {}
        },
        {
          "output_type": "display_data",
          "data": {
            "text/plain": [
              "<IPython.core.display.HTML object>"
            ],
            "text/html": [
              " View run <strong style=\"color:#cdcd00\">sage-sweep-5</strong> at: <a href='https://wandb.ai/cs22m088-iit-madras/DA6401_Assignment_2/runs/e5jf25f6' target=\"_blank\">https://wandb.ai/cs22m088-iit-madras/DA6401_Assignment_2/runs/e5jf25f6</a><br> View project at: <a href='https://wandb.ai/cs22m088-iit-madras/DA6401_Assignment_2' target=\"_blank\">https://wandb.ai/cs22m088-iit-madras/DA6401_Assignment_2</a><br>Synced 5 W&B file(s), 0 media file(s), 0 artifact file(s) and 0 other file(s)"
            ]
          },
          "metadata": {}
        },
        {
          "output_type": "display_data",
          "data": {
            "text/plain": [
              "<IPython.core.display.HTML object>"
            ],
            "text/html": [
              "Find logs at: <code>./wandb/run-20250412_082258-e5jf25f6/logs</code>"
            ]
          },
          "metadata": {}
        },
        {
          "output_type": "display_data",
          "data": {
            "text/plain": [
              "<IPython.core.display.HTML object>"
            ],
            "text/html": [
              "Tracking run with wandb version 0.19.9"
            ]
          },
          "metadata": {}
        },
        {
          "output_type": "display_data",
          "data": {
            "text/plain": [
              "<IPython.core.display.HTML object>"
            ],
            "text/html": [
              "Run data is saved locally in <code>/content/wandb/run-20250412_082259-e5jf25f6</code>"
            ]
          },
          "metadata": {}
        },
        {
          "output_type": "display_data",
          "data": {
            "text/plain": [
              "<IPython.core.display.HTML object>"
            ],
            "text/html": [
              "Syncing run <strong><a href='https://wandb.ai/cs22m088-iit-madras/DA6401_Assignment_2/runs/e5jf25f6' target=\"_blank\">nfliter_4_op_nadam_ac_Mish_lr_0.0001_bs_32</a></strong> to <a href='https://wandb.ai/cs22m088-iit-madras/DA6401_Assignment_2' target=\"_blank\">Weights & Biases</a> (<a href='https://wandb.me/developer-guide' target=\"_blank\">docs</a>)<br>Sweep page: <a href='https://wandb.ai/cs22m088-iit-madras/DA6401_Assignment_2/sweeps/5z2miyms' target=\"_blank\">https://wandb.ai/cs22m088-iit-madras/DA6401_Assignment_2/sweeps/5z2miyms</a>"
            ]
          },
          "metadata": {}
        },
        {
          "output_type": "display_data",
          "data": {
            "text/plain": [
              "<IPython.core.display.HTML object>"
            ],
            "text/html": [
              " View project at <a href='https://wandb.ai/cs22m088-iit-madras/DA6401_Assignment_2' target=\"_blank\">https://wandb.ai/cs22m088-iit-madras/DA6401_Assignment_2</a>"
            ]
          },
          "metadata": {}
        },
        {
          "output_type": "display_data",
          "data": {
            "text/plain": [
              "<IPython.core.display.HTML object>"
            ],
            "text/html": [
              " View sweep at <a href='https://wandb.ai/cs22m088-iit-madras/DA6401_Assignment_2/sweeps/5z2miyms' target=\"_blank\">https://wandb.ai/cs22m088-iit-madras/DA6401_Assignment_2/sweeps/5z2miyms</a>"
            ]
          },
          "metadata": {}
        },
        {
          "output_type": "display_data",
          "data": {
            "text/plain": [
              "<IPython.core.display.HTML object>"
            ],
            "text/html": [
              " View run at <a href='https://wandb.ai/cs22m088-iit-madras/DA6401_Assignment_2/runs/e5jf25f6' target=\"_blank\">https://wandb.ai/cs22m088-iit-madras/DA6401_Assignment_2/runs/e5jf25f6</a>"
            ]
          },
          "metadata": {}
        },
        {
          "output_type": "stream",
          "name": "stdout",
          "text": [
            "Training set size: 7999\n",
            "Validation set size: 2000\n",
            "Data loading completed ========================================\n",
            "Pool5 completed\n",
            "Current r: 300\n",
            "Current r: 150\n",
            "Current r: 75\n",
            "Current r: 37\n",
            "Current r: 18\n",
            "Flattened dimension: 9\n",
            "Model initialized ========================================\n",
            "Optimizer selection in progress...\n",
            "Optimizer configured\n"
          ]
        },
        {
          "output_type": "stream",
          "name": "stderr",
          "text": [
            "\u001b[34m\u001b[1mwandb\u001b[0m: Ctrl + C detected. Stopping sweep.\n"
          ]
        }
      ],
      "source": [
        "\n",
        "# Initialize the WandB sweep\n",
        "sweep_id = wandb.sweep(sweep_config, project='DA6401_Assignment_2')\n",
        "wandb.agent(sweep_id, function=train,count=5)\n"
      ]
    },
    {
      "cell_type": "code",
      "execution_count": 10,
      "id": "d2a699f0",
      "metadata": {
        "id": "d2a699f0"
      },
      "outputs": [],
      "source": []
    }
  ],
  "metadata": {
    "kernelspec": {
      "display_name": "Python 3",
      "name": "python3"
    },
    "language_info": {
      "name": "python"
    },
    "papermill": {
      "default_parameters": {},
      "duration": 21165.436974,
      "end_time": "2023-04-07T17:11:30.816189",
      "environment_variables": {},
      "exception": null,
      "input_path": "__notebook__.ipynb",
      "output_path": "__notebook__.ipynb",
      "parameters": {},
      "start_time": "2023-04-07T11:18:45.379215",
      "version": "2.4.0"
    },
    "colab": {
      "provenance": [],
      "gpuType": "T4",
      "include_colab_link": true
    },
    "accelerator": "GPU"
  },
  "nbformat": 4,
  "nbformat_minor": 5
}